{
 "cells": [
  {
   "attachments": {},
   "cell_type": "markdown",
   "metadata": {},
   "source": [
    "# Assignment 10"
   ]
  },
  {
   "attachments": {},
   "cell_type": "markdown",
   "metadata": {},
   "source": [
    "## Try to submit as an HTML file"
   ]
  },
  {
   "attachments": {},
   "cell_type": "markdown",
   "metadata": {},
   "source": [
    "<font size = \"5\">\n",
    "Print your name below"
   ]
  },
  {
   "cell_type": "code",
   "execution_count": 1,
   "metadata": {},
   "outputs": [
    {
     "name": "stdout",
     "output_type": "stream",
     "text": [
      "Sushmita Rajan\n"
     ]
    }
   ],
   "source": [
    "print(\"Sushmita Rajan\")"
   ]
  },
  {
   "attachments": {},
   "cell_type": "markdown",
   "metadata": {},
   "source": [
    "<font size = \"5\">\n",
    "\n",
    "Import the \"pandas\" and \"matplotlib.pyplot\" libraries."
   ]
  },
  {
   "cell_type": "code",
   "execution_count": 2,
   "metadata": {},
   "outputs": [],
   "source": [
    "# Write your answer here:\n",
    "import pandas as pd\n",
    "import matplotlib.pyplot as plt\n"
   ]
  },
  {
   "attachments": {},
   "cell_type": "markdown",
   "metadata": {},
   "source": [
    "<font size = \"5\">\n",
    "\n",
    "In this assignment, we will work with a World Bank <br>\n",
    "dataset on the proportion of urban population across <br>\n",
    "countries, from 2016-2020.\n",
    "\n",
    "- This is an example of a \"panel\"/\"longitudinal\" dataset <br>\n",
    " which contains information about the same unit (country) <br>\n",
    " over time.\n",
    " - This is in \"long\" format (see Lecture 22)"
   ]
  },
  {
   "attachments": {},
   "cell_type": "markdown",
   "metadata": {},
   "source": [
    "<font size = \"5\">\n",
    "\n",
    "(a) Import data and parse dates \n",
    "\n",
    "<font size = \"3\">\n",
    "\n",
    "\n",
    "- Import \"data_raw/wdi_long.csv\"\n",
    "- Create a new column called \"date\" which uses ```pd.to_datetime(...,format = ...)``` <br>\n",
    "to convert year to a date format\n",
    "- To get full points use wild cards to establish the format.\n",
    "\n",
    "Hint: See Lecture 21 for information about wild cards"
   ]
  },
  {
   "cell_type": "code",
   "execution_count": 5,
   "metadata": {},
   "outputs": [],
   "source": [
    "# Write your own code\n",
    "wdi = pd.read_csv(\"data_raw/wdi_long.csv\")\n",
    "wdi[\"date\"] = pd.to_datetime(wdi[\"year\"])\n",
    "wdi[\"year\"] = wdi[\"date\"].dt.strftime(\"%Y\")"
   ]
  },
  {
   "attachments": {},
   "cell_type": "markdown",
   "metadata": {},
   "source": [
    "<font size = \"5\">\n",
    "\n",
    "(b)  Sort by two columns\n",
    "\n",
    "<font size = \"3\">\n",
    "\n",
    "- Create a new dataset \"data_sorted\" that sorts by \"country_name\" and \"date\"\n",
    "\n",
    "HINT: Include a list of column names as the main sorting argument."
   ]
  },
  {
   "cell_type": "code",
   "execution_count": 7,
   "metadata": {},
   "outputs": [
    {
     "data": {
      "text/html": [
       "<div>\n",
       "<style scoped>\n",
       "    .dataframe tbody tr th:only-of-type {\n",
       "        vertical-align: middle;\n",
       "    }\n",
       "\n",
       "    .dataframe tbody tr th {\n",
       "        vertical-align: top;\n",
       "    }\n",
       "\n",
       "    .dataframe thead th {\n",
       "        text-align: right;\n",
       "    }\n",
       "</style>\n",
       "<table border=\"1\" class=\"dataframe\">\n",
       "  <thead>\n",
       "    <tr style=\"text-align: right;\">\n",
       "      <th></th>\n",
       "      <th>country_name</th>\n",
       "      <th>date</th>\n",
       "    </tr>\n",
       "  </thead>\n",
       "  <tbody>\n",
       "    <tr>\n",
       "      <th>0</th>\n",
       "      <td>Afghanistan</td>\n",
       "      <td>1970-01-01 00:00:00.000002016</td>\n",
       "    </tr>\n",
       "    <tr>\n",
       "      <th>1</th>\n",
       "      <td>Albania</td>\n",
       "      <td>1970-01-01 00:00:00.000002016</td>\n",
       "    </tr>\n",
       "    <tr>\n",
       "      <th>2</th>\n",
       "      <td>Algeria</td>\n",
       "      <td>1970-01-01 00:00:00.000002016</td>\n",
       "    </tr>\n",
       "    <tr>\n",
       "      <th>3</th>\n",
       "      <td>American Samoa</td>\n",
       "      <td>1970-01-01 00:00:00.000002016</td>\n",
       "    </tr>\n",
       "    <tr>\n",
       "      <th>4</th>\n",
       "      <td>Andorra</td>\n",
       "      <td>1970-01-01 00:00:00.000002016</td>\n",
       "    </tr>\n",
       "    <tr>\n",
       "      <th>...</th>\n",
       "      <td>...</td>\n",
       "      <td>...</td>\n",
       "    </tr>\n",
       "    <tr>\n",
       "      <th>1080</th>\n",
       "      <td>Virgin Islands (U.S.)</td>\n",
       "      <td>1970-01-01 00:00:00.000002020</td>\n",
       "    </tr>\n",
       "    <tr>\n",
       "      <th>1081</th>\n",
       "      <td>West Bank and Gaza</td>\n",
       "      <td>1970-01-01 00:00:00.000002020</td>\n",
       "    </tr>\n",
       "    <tr>\n",
       "      <th>1082</th>\n",
       "      <td>Yemen, Rep.</td>\n",
       "      <td>1970-01-01 00:00:00.000002020</td>\n",
       "    </tr>\n",
       "    <tr>\n",
       "      <th>1083</th>\n",
       "      <td>Zambia</td>\n",
       "      <td>1970-01-01 00:00:00.000002020</td>\n",
       "    </tr>\n",
       "    <tr>\n",
       "      <th>1084</th>\n",
       "      <td>Zimbabwe</td>\n",
       "      <td>1970-01-01 00:00:00.000002020</td>\n",
       "    </tr>\n",
       "  </tbody>\n",
       "</table>\n",
       "<p>1085 rows × 2 columns</p>\n",
       "</div>"
      ],
      "text/plain": [
       "               country_name                          date\n",
       "0               Afghanistan 1970-01-01 00:00:00.000002016\n",
       "1                   Albania 1970-01-01 00:00:00.000002016\n",
       "2                   Algeria 1970-01-01 00:00:00.000002016\n",
       "3            American Samoa 1970-01-01 00:00:00.000002016\n",
       "4                   Andorra 1970-01-01 00:00:00.000002016\n",
       "...                     ...                           ...\n",
       "1080  Virgin Islands (U.S.) 1970-01-01 00:00:00.000002020\n",
       "1081     West Bank and Gaza 1970-01-01 00:00:00.000002020\n",
       "1082            Yemen, Rep. 1970-01-01 00:00:00.000002020\n",
       "1083                 Zambia 1970-01-01 00:00:00.000002020\n",
       "1084               Zimbabwe 1970-01-01 00:00:00.000002020\n",
       "\n",
       "[1085 rows x 2 columns]"
      ]
     },
     "metadata": {},
     "output_type": "display_data"
    }
   ],
   "source": [
    "# Write your own code\n",
    "data_sorted = wdi[[\"country_name\", \"date\"]]\n",
    "display(data_sorted)"
   ]
  },
  {
   "attachments": {},
   "cell_type": "markdown",
   "metadata": {},
   "source": [
    "<font size = \"5\">\n",
    "\n",
    "(c) Compute grouped time differences\n",
    "\n",
    "<font size = \"3\">\n",
    "\n",
    "**Example**\n",
    "- Each country has data for multiple dates\n",
    "- The following code calculates the time-difference between each date <br>\n",
    "```\n",
    "(data_sorted.groupby(\"country_name\")[\"date\"]\n",
    "            .diff())\n",
    "```\n",
    "\n",
    "**Instructions**:\n",
    "- Now, instead of [\"date\"] use ```[\"prop_urban\"]```\n",
    "- Store the result in a new column called \"diff_prop_urban\"\n",
    "- This adds a new column with the country-level changes in <br>\n",
    "the urban propulaton each year\n",
    "\n",
    "HINT: Check Lecture 22 for using ```.diff()``` <br>\n",
    "Note: Using \".groupby()\" is important so that each country is analyzed <br>\n",
    "separately."
   ]
  },
  {
   "cell_type": "code",
   "execution_count": 14,
   "metadata": {},
   "outputs": [],
   "source": [
    "# Write your own code\n",
    "\n",
    "wdi[\"diff_prop_urban\"]= wdi.groupby(\"country_name\")[\"prop_urban\"].diff()"
   ]
  },
  {
   "attachments": {},
   "cell_type": "markdown",
   "metadata": {},
   "source": [
    "<font size = \"5\">\n",
    "\n",
    "(d) Plot time series for single country\n",
    "\n",
    "<font size = \"3\">\n",
    "\n",
    "- Use \".query()\" to subset \"data_sorted\" for rows that satisfy\n",
    "\n",
    "$\\quad$  ```  'country_name == \"United States\"' ```\n",
    " \n",
    "- Produce a line plot with the evolution of \"prop_urban\" over time in the <br>\n",
    "United States\n",
    "\n"
   ]
  },
  {
   "cell_type": "code",
   "execution_count": 16,
   "metadata": {},
   "outputs": [
    {
     "ename": "ValueError",
     "evalue": "'diff_prop_urban' is neither a data key nor a valid format string (unrecognized character 'i')",
     "output_type": "error",
     "traceback": [
      "\u001b[0;31m---------------------------------------------------------------------------\u001b[0m",
      "\u001b[0;31mValueError\u001b[0m                                Traceback (most recent call last)",
      "Cell \u001b[0;32mIn[16], line 6\u001b[0m\n\u001b[1;32m      3\u001b[0m country_subset \u001b[39m=\u001b[39m data_sorted\u001b[39m.\u001b[39mquery(\u001b[39m'\u001b[39m\u001b[39mcountry_name == \u001b[39m\u001b[39m\"\u001b[39m\u001b[39mUnited States\u001b[39m\u001b[39m\"\u001b[39m\u001b[39m'\u001b[39m)\n\u001b[1;32m      5\u001b[0m \u001b[39m# Create a line plot\u001b[39;00m\n\u001b[0;32m----> 6\u001b[0m plt\u001b[39m.\u001b[39;49mplot(\u001b[39m\"\u001b[39;49m\u001b[39mdate\u001b[39;49m\u001b[39m\"\u001b[39;49m, \u001b[39m\"\u001b[39;49m\u001b[39mdiff_prop_urban\u001b[39;49m\u001b[39m\"\u001b[39;49m, data \u001b[39m=\u001b[39;49m country_subset)\n\u001b[1;32m      7\u001b[0m plt\u001b[39m.\u001b[39mxlabel(\u001b[39m\"\u001b[39m\u001b[39mTime\u001b[39m\u001b[39m\"\u001b[39m)\n\u001b[1;32m      8\u001b[0m plt\u001b[39m.\u001b[39mylabel(\u001b[39m\"\u001b[39m\u001b[39mProp Urban \u001b[39m\u001b[39m\"\u001b[39m)\n",
      "File \u001b[0;32m/Library/Frameworks/Python.framework/Versions/3.11/lib/python3.11/site-packages/matplotlib/pyplot.py:2748\u001b[0m, in \u001b[0;36mplot\u001b[0;34m(scalex, scaley, data, *args, **kwargs)\u001b[0m\n\u001b[1;32m   2746\u001b[0m \u001b[39m@_copy_docstring_and_deprecators\u001b[39m(Axes\u001b[39m.\u001b[39mplot)\n\u001b[1;32m   2747\u001b[0m \u001b[39mdef\u001b[39;00m \u001b[39mplot\u001b[39m(\u001b[39m*\u001b[39margs, scalex\u001b[39m=\u001b[39m\u001b[39mTrue\u001b[39;00m, scaley\u001b[39m=\u001b[39m\u001b[39mTrue\u001b[39;00m, data\u001b[39m=\u001b[39m\u001b[39mNone\u001b[39;00m, \u001b[39m*\u001b[39m\u001b[39m*\u001b[39mkwargs):\n\u001b[0;32m-> 2748\u001b[0m     \u001b[39mreturn\u001b[39;00m gca()\u001b[39m.\u001b[39;49mplot(\n\u001b[1;32m   2749\u001b[0m         \u001b[39m*\u001b[39;49margs, scalex\u001b[39m=\u001b[39;49mscalex, scaley\u001b[39m=\u001b[39;49mscaley,\n\u001b[1;32m   2750\u001b[0m         \u001b[39m*\u001b[39;49m\u001b[39m*\u001b[39;49m({\u001b[39m\"\u001b[39;49m\u001b[39mdata\u001b[39;49m\u001b[39m\"\u001b[39;49m: data} \u001b[39mif\u001b[39;49;00m data \u001b[39mis\u001b[39;49;00m \u001b[39mnot\u001b[39;49;00m \u001b[39mNone\u001b[39;49;00m \u001b[39melse\u001b[39;49;00m {}), \u001b[39m*\u001b[39;49m\u001b[39m*\u001b[39;49mkwargs)\n",
      "File \u001b[0;32m/Library/Frameworks/Python.framework/Versions/3.11/lib/python3.11/site-packages/matplotlib/axes/_axes.py:1668\u001b[0m, in \u001b[0;36mAxes.plot\u001b[0;34m(self, scalex, scaley, data, *args, **kwargs)\u001b[0m\n\u001b[1;32m   1425\u001b[0m \u001b[39m\u001b[39m\u001b[39m\"\"\"\u001b[39;00m\n\u001b[1;32m   1426\u001b[0m \u001b[39mPlot y versus x as lines and/or markers.\u001b[39;00m\n\u001b[1;32m   1427\u001b[0m \n\u001b[0;32m   (...)\u001b[0m\n\u001b[1;32m   1665\u001b[0m \u001b[39m(``'green'``) or hex strings (``'#008000'``).\u001b[39;00m\n\u001b[1;32m   1666\u001b[0m \u001b[39m\"\"\"\u001b[39;00m\n\u001b[1;32m   1667\u001b[0m kwargs \u001b[39m=\u001b[39m cbook\u001b[39m.\u001b[39mnormalize_kwargs(kwargs, mlines\u001b[39m.\u001b[39mLine2D)\n\u001b[0;32m-> 1668\u001b[0m lines \u001b[39m=\u001b[39m [\u001b[39m*\u001b[39m\u001b[39mself\u001b[39m\u001b[39m.\u001b[39m_get_lines(\u001b[39m*\u001b[39margs, data\u001b[39m=\u001b[39mdata, \u001b[39m*\u001b[39m\u001b[39m*\u001b[39mkwargs)]\n\u001b[1;32m   1669\u001b[0m \u001b[39mfor\u001b[39;00m line \u001b[39min\u001b[39;00m lines:\n\u001b[1;32m   1670\u001b[0m     \u001b[39mself\u001b[39m\u001b[39m.\u001b[39madd_line(line)\n",
      "File \u001b[0;32m/Library/Frameworks/Python.framework/Versions/3.11/lib/python3.11/site-packages/matplotlib/axes/_base.py:311\u001b[0m, in \u001b[0;36m_process_plot_var_args.__call__\u001b[0;34m(self, data, *args, **kwargs)\u001b[0m\n\u001b[1;32m    309\u001b[0m     this \u001b[39m+\u001b[39m\u001b[39m=\u001b[39m args[\u001b[39m0\u001b[39m],\n\u001b[1;32m    310\u001b[0m     args \u001b[39m=\u001b[39m args[\u001b[39m1\u001b[39m:]\n\u001b[0;32m--> 311\u001b[0m \u001b[39myield from\u001b[39;00m \u001b[39mself\u001b[39;49m\u001b[39m.\u001b[39;49m_plot_args(\n\u001b[1;32m    312\u001b[0m     this, kwargs, ambiguous_fmt_datakey\u001b[39m=\u001b[39;49mambiguous_fmt_datakey)\n",
      "File \u001b[0;32m/Library/Frameworks/Python.framework/Versions/3.11/lib/python3.11/site-packages/matplotlib/axes/_base.py:454\u001b[0m, in \u001b[0;36m_process_plot_var_args._plot_args\u001b[0;34m(self, tup, kwargs, return_kwargs, ambiguous_fmt_datakey)\u001b[0m\n\u001b[1;32m    451\u001b[0m \u001b[39mif\u001b[39;00m \u001b[39mlen\u001b[39m(tup) \u001b[39m>\u001b[39m \u001b[39m1\u001b[39m \u001b[39mand\u001b[39;00m \u001b[39misinstance\u001b[39m(tup[\u001b[39m-\u001b[39m\u001b[39m1\u001b[39m], \u001b[39mstr\u001b[39m):\n\u001b[1;32m    452\u001b[0m     \u001b[39m# xy is tup with fmt stripped (could still be (y,) only)\u001b[39;00m\n\u001b[1;32m    453\u001b[0m     \u001b[39m*\u001b[39mxy, fmt \u001b[39m=\u001b[39m tup\n\u001b[0;32m--> 454\u001b[0m     linestyle, marker, color \u001b[39m=\u001b[39m _process_plot_format(\n\u001b[1;32m    455\u001b[0m         fmt, ambiguous_fmt_datakey\u001b[39m=\u001b[39;49mambiguous_fmt_datakey)\n\u001b[1;32m    456\u001b[0m \u001b[39melif\u001b[39;00m \u001b[39mlen\u001b[39m(tup) \u001b[39m==\u001b[39m \u001b[39m3\u001b[39m:\n\u001b[1;32m    457\u001b[0m     \u001b[39mraise\u001b[39;00m \u001b[39mValueError\u001b[39;00m(\u001b[39m'\u001b[39m\u001b[39mthird arg must be a format string\u001b[39m\u001b[39m'\u001b[39m)\n",
      "File \u001b[0;32m/Library/Frameworks/Python.framework/Versions/3.11/lib/python3.11/site-packages/matplotlib/axes/_base.py:197\u001b[0m, in \u001b[0;36m_process_plot_format\u001b[0;34m(fmt, ambiguous_fmt_datakey)\u001b[0m\n\u001b[1;32m    195\u001b[0m         i \u001b[39m+\u001b[39m\u001b[39m=\u001b[39m \u001b[39m2\u001b[39m\n\u001b[1;32m    196\u001b[0m     \u001b[39melse\u001b[39;00m:\n\u001b[0;32m--> 197\u001b[0m         \u001b[39mraise\u001b[39;00m \u001b[39mValueError\u001b[39;00m(\n\u001b[1;32m    198\u001b[0m             errfmt\u001b[39m.\u001b[39mformat(fmt, \u001b[39mf\u001b[39m\u001b[39m\"\u001b[39m\u001b[39munrecognized character \u001b[39m\u001b[39m{\u001b[39;00mc\u001b[39m!r}\u001b[39;00m\u001b[39m\"\u001b[39m))\n\u001b[1;32m    200\u001b[0m \u001b[39mif\u001b[39;00m linestyle \u001b[39mis\u001b[39;00m \u001b[39mNone\u001b[39;00m \u001b[39mand\u001b[39;00m marker \u001b[39mis\u001b[39;00m \u001b[39mNone\u001b[39;00m:\n\u001b[1;32m    201\u001b[0m     linestyle \u001b[39m=\u001b[39m mpl\u001b[39m.\u001b[39mrcParams[\u001b[39m'\u001b[39m\u001b[39mlines.linestyle\u001b[39m\u001b[39m'\u001b[39m]\n",
      "\u001b[0;31mValueError\u001b[0m: 'diff_prop_urban' is neither a data key nor a valid format string (unrecognized character 'i')"
     ]
    },
    {
     "data": {
      "image/png": "[encoded data removed]",
      "text/plain": [
       "<Figure size 640x480 with 1 Axes>"
      ]
     },
     "metadata": {},
     "output_type": "display_data"
    }
   ],
   "source": [
    "# Write your own code\n",
    "\n",
    "country_subset = data_sorted.query('country_name == \"United States\"')\n",
    "\n",
    "# Create a line plot\n",
    "plt.plot(\"date\", \"diff_prop_urban\", data = country_subset)\n",
    "plt.xlabel(\"Time\")\n",
    "plt.ylabel(\"Prop Urban \")\n",
    "plt.title(\"Change in US prop urban\")\n",
    "\n",
    "# Add shaded region\n"
   ]
  },
  {
   "attachments": {},
   "cell_type": "markdown",
   "metadata": {},
   "source": [
    "<font size = \"5\">\n",
    "\n",
    "(e) Convert to wide format\n",
    "\n",
    "<font size = \"3\">\n",
    "\n",
    "- Convert \"data_sorted\" from long to wide, using the following arguments: <br>\n",
    "```\n",
    "   index = 'country_name'\n",
    "   columns = 'year'\n",
    "   values =  'prop_urban'\n",
    "```\n",
    "- Display the dataset to check that it is in wide format\n",
    "\n",
    "HINT: See Lecture 22 for details\n",
    "\n"
   ]
  },
  {
   "cell_type": "code",
   "execution_count": null,
   "metadata": {},
   "outputs": [],
   "source": [
    "# Write your own code\n",
    "\n",
    "\n"
   ]
  }
 ],
 "metadata": {
  "kernelspec": {
   "display_name": "base",
   "language": "python",
   "name": "python3"
  },
  "language_info": {
   "codemirror_mode": {
    "name": "ipython",
    "version": 3
   },
   "file_extension": ".py",
   "mimetype": "text/x-python",
   "name": "python",
   "nbconvert_exporter": "python",
   "pygments_lexer": "ipython3",
   "version": "3.11.1"
  },
  "orig_nbformat": 4,
  "vscode": {
   "interpreter": {
    "hash": "45fc1f684f6f416f40889115beff3ddf69879b64cf4bfee48cb72a61e9d15d1a"
   }
  }
 },
 "nbformat": 4,
 "nbformat_minor": 2
}
