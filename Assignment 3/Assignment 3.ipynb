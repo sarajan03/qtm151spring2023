{
 "cells": [
  {
   "attachments": {},
   "cell_type": "markdown",
   "metadata": {},
   "source": [
    "# Assignment 3"
   ]
  },
  {
   "attachments": {},
   "cell_type": "markdown",
   "metadata": {},
   "source": [
    "## Try to submit as an HTML file"
   ]
  },
  {
   "attachments": {},
   "cell_type": "markdown",
   "metadata": {},
   "source": [
    "<font size = \"5\">\n",
    "Print your name below"
   ]
  },
  {
   "cell_type": "code",
   "execution_count": 35,
   "metadata": {},
   "outputs": [
    {
     "name": "stdout",
     "output_type": "stream",
     "text": [
      "Sushmita Rajan\n"
     ]
    }
   ],
   "source": [
    "print(\"Sushmita Rajan\")"
   ]
  },
  {
   "attachments": {},
   "cell_type": "markdown",
   "metadata": {},
   "source": [
    "<font size = \"5\">\n",
    "\n",
    "Import the numpy and matplotlib packages"
   ]
  },
  {
   "cell_type": "code",
   "execution_count": 36,
   "metadata": {},
   "outputs": [],
   "source": [
    "import numpy as np\n",
    "import matplotlib.pyplot as plt"
   ]
  },
  {
   "attachments": {},
   "cell_type": "markdown",
   "metadata": {},
   "source": [
    "<font size = \"5\">\n",
    "\n",
    "(a) Compute a formula:\n",
    "\n",
    "<font size = \"3\">\n",
    "\n",
    "$V=P\\left(1+{\\frac {r}{n}}\\right)^{nt}$\n",
    "\n",
    "Calculate $V$ when\n",
    "- $P =  2100 $\n",
    "- $r = 0.034$\n",
    "- $n = 4$\n",
    "- $t = 7$\n",
    "\n",
    "To get full points:\n",
    "- First define each of these variables\n",
    "- Write the formula above"
   ]
  },
  {
   "cell_type": "code",
   "execution_count": 37,
   "metadata": {},
   "outputs": [
    {
     "name": "stdout",
     "output_type": "stream",
     "text": [
      "2661.6108980682593\n"
     ]
    }
   ],
   "source": [
    "# Note (if you're interested in the context)\n",
    "# V = Accumulated value of investment\n",
    "# P =  Principal (the amount deposited)\n",
    "# r =  Quarterly interest rate\n",
    "# n = Number of quarters in a year\n",
    "# t = number of years\n",
    "\n",
    "P =  2100 \n",
    "r = 0.034\n",
    "n = 4\n",
    "t = 7\n",
    "\n",
    "V= (P*((1+(r/n))**(n*t)))\n",
    "\n",
    "print(V)\n",
    "\n",
    "\n"
   ]
  },
  {
   "attachments": {},
   "cell_type": "markdown",
   "metadata": {},
   "source": [
    "<font size = \"5\">\n",
    "\n",
    "(b) Composite operations on arrays\n",
    "\n",
    "<font size = \"3\">\n",
    "\n",
    "- Define $r = 0.04\"\n",
    "- Define two arrays $A$ and $T$ using \"np.array()\", assigning the following values\n",
    "\n",
    "$ a = \\begin{pmatrix} a_1 \\\\ a_2 \\\\ a_3 \\end{pmatrix} =  \\begin{pmatrix} 20 \\\\ 30 \\\\ 15 \\end{pmatrix},\n",
    "\\qquad  t = \\begin{pmatrix} t_1 \\\\ t_2 \\\\ t_3 \\end{pmatrix} = \\begin{pmatrix} 0 \\\\ 1 \\\\ 2 \\end{pmatrix} $\n",
    "\n",
    "- Use element-by-element vector operations to compute a new array $M$ of length 3:\n",
    "\n",
    "$ M = \\begin{pmatrix} a_1 / (1+r)^{t_0}  \\\\ a_2 / (1+r)^{t_1} \\\\ a_3 / (1+r)^{t_2} \\end{pmatrix} $\n",
    "\n",
    "- Compute the sum of the values of $M$ using \"M.sum()\"\n",
    "\n",
    "Note: I am using subscripts to denote the individual elements of $a$ and $t$.\n",
    "- In the code just enter the values of $a$ and $t$.\n",
    "- To get full points you must do all of the above tasks\n",
    "\n"
   ]
  },
  {
   "cell_type": "code",
   "execution_count": 38,
   "metadata": {},
   "outputs": [
    {
     "name": "stdout",
     "output_type": "stream",
     "text": [
      "62.71449704142012\n"
     ]
    }
   ],
   "source": [
    "dollar_r =0.04\n",
    "array_a = np.array([20, 30, 15])\n",
    "array_t = np.array([0,1,2])\n",
    "\n",
    "array_M=(array_a/((1+dollar_r)**array_t))\n",
    "\n",
    "print(array_M.sum())"
   ]
  },
  {
   "attachments": {},
   "cell_type": "markdown",
   "metadata": {},
   "source": [
    "<font size = \"5\">\n",
    "\n",
    "(c) Plot a normal random variable \n",
    "\n",
    "<font size = \"3\">\n",
    "\n",
    "To get full points:\n",
    "- Set a seed using \"np.random.seed()\"\n",
    "- Create a normal random variable with the following parameters\n",
    "\n",
    "mean = 5, standard deviation = 2, and size = 1000\n",
    "\n",
    "- Create a histogram\n",
    "- Label the axes \n"
   ]
  },
  {
   "cell_type": "code",
   "execution_count": 39,
   "metadata": {},
   "outputs": [
    {
     "data": {
      "text/plain": [
       "Text(0, 0.5, 'Frequency')"
      ]
     },
     "execution_count": 39,
     "metadata": {},
     "output_type": "execute_result"
    },
    {
     "data": {
      "image/png": "[encoded data removed]",
      "text/plain": [
       "<Figure size 640x480 with 1 Axes>"
      ]
     },
     "metadata": {},
     "output_type": "display_data"
    }
   ],
   "source": [
    "np.random.seed(4859)\n",
    "\n",
    "random_var_x = np.random.normal(loc=5, scale=2, size=1000)\n",
    "\n",
    "\n",
    "plt.hist(x = random_var_x)\n",
    "plt.xlabel(\"Variable x\")\n",
    "plt.ylabel(\"Frequency\")\n",
    "\n"
   ]
  },
  {
   "attachments": {},
   "cell_type": "markdown",
   "metadata": {},
   "source": [
    "<font size = \"5\">\n",
    "\n",
    "(d) Checking a string condition\n",
    "\n",
    "<font size = \"3\">\n",
    "\n",
    "- Define a variable \"fruit\" with the value \"apple\"\n",
    "- Define a list\n",
    "\n",
    "list_fruits = [\"banana\",\"orange\",\"apple\"]\n",
    "- Write an expression to test whether \"fruit\" is contained in \"list_fruits\"\n",
    "\n",
    "Hint: Use the \"in\" command. The final output should be True/False.\n",
    "\n",
    "To get full points run all of the above commands\n"
   ]
  },
  {
   "cell_type": "code",
   "execution_count": 40,
   "metadata": {},
   "outputs": [
    {
     "name": "stdout",
     "output_type": "stream",
     "text": [
      "True\n"
     ]
    }
   ],
   "source": [
    "fruit = \"apple\"\n",
    "list_fruits = [\"banana\",\"orange\",\"apple\"]\n",
    "\n",
    "print( fruit in list_fruits)\n",
    "\n"
   ]
  },
  {
   "attachments": {},
   "cell_type": "markdown",
   "metadata": {},
   "source": [
    "<font size = \"5\">\n",
    "\n",
    "(e) Classifying a variable\n",
    "\n",
    "<font size = \"3\">\n",
    "\n",
    "- Define a new variable \"year\" and assign the value \"2008\"\n",
    "- Write an if/else statement that does the following\n",
    "    - print(\"Year 2000 or earlier\") if the year is less than or equal to  2000.\n",
    "    - print(\"Between 2001 and 2005\") if the year is between 2001 and 2005.\n",
    "    - print(\"Year 2006 or later\") if the year is after 2005.\n",
    "\n",
    "To get full points you must do all of the above instructions\n"
   ]
  },
  {
   "cell_type": "code",
   "execution_count": 48,
   "metadata": {},
   "outputs": [
    {
     "name": "stdout",
     "output_type": "stream",
     "text": [
      "Year 2006 or later\n"
     ]
    }
   ],
   "source": [
    "year = 2008\n",
    "\n",
    "if (year<= 2000):\n",
    "    print(\"Year 2000 or earlier\") \n",
    "elif( (year>=2001) & (year<= 2005)):\n",
    "    print(\"Between 2001 and 2005\")\n",
    "else:\n",
    "    print(\"Year 2006 or later\")\n",
    "\n",
    "\n",
    "\n",
    "\n",
    "\n",
    "\n"
   ]
  }
 ],
 "metadata": {
  "kernelspec": {
   "display_name": "Python 3",
   "language": "python",
   "name": "python3"
  },
  "language_info": {
   "codemirror_mode": {
    "name": "ipython",
    "version": 3
   },
   "file_extension": ".py",
   "mimetype": "text/x-python",
   "name": "python",
   "nbconvert_exporter": "python",
   "pygments_lexer": "ipython3",
   "version": "3.11.1"
  },
  "orig_nbformat": 4,
  "vscode": {
   "interpreter": {
    "hash": "aee8b7b246df8f9039afb4144a1f6fd8d2ca17a180786b69acc140d282b71a49"
   }
  }
 },
 "nbformat": 4,
 "nbformat_minor": 2
}
