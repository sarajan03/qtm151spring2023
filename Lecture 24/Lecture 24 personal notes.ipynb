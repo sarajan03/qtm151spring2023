{
 "cells": [
  {
   "attachments": {},
   "cell_type": "markdown",
   "metadata": {},
   "source": [
    "# <span style=\"color:darkblue\"> Lecture 24 - Text Data  </span>\n",
    "\n",
    "<font size = \"5\">\n",
    "\n",
    "In  this lecture we will work with text data"
   ]
  },
  {
   "attachments": {},
   "cell_type": "markdown",
   "metadata": {},
   "source": [
    "<font size = \"5\">\n",
    "\n",
    "Import Libraries"
   ]
  },
  {
   "cell_type": "code",
   "execution_count": 1,
   "metadata": {},
   "outputs": [],
   "source": [
    "import pandas as pd\n",
    "import matplotlib.pyplot as plt\n",
    "import numpy as np\n",
<<<<<<< HEAD
    "#from wordcloud import WordCloud, STOPWORDS"
=======
    "import re"
>>>>>>> upstream/main
   ]
  },
  {
   "cell_type": "markdown",
   "metadata": {},
   "source": [
    "<font size = \"5\">\n",
    "\n",
    "Import Data\n",
    "\n",
    "- Congressional bills in the United States"
   ]
  },
  {
   "cell_type": "code",
   "execution_count": 2,
   "metadata": {},
   "outputs": [
    {
     "data": {
      "text/plain": [
       "Congress        int64\n",
       "bill_number     int64\n",
       "bill_type      object\n",
       "action         object\n",
       "main_action    object\n",
       "category       object\n",
       "member_id       int64\n",
       "dtype: object"
      ]
     },
     "execution_count": 2,
     "metadata": {},
     "output_type": "execute_result"
    }
   ],
   "source": [
    "bills_actions = pd.read_csv(\"data_raw/bills_actions.csv\")\n",
    "bills_actions.dtypes"
   ]
  },
  {
   "cell_type": "markdown",
   "metadata": {},
   "source": [
    "# <span style=\"color:darkblue\"> II. Basic Text Operations </span>"
   ]
  },
  {
   "cell_type": "markdown",
   "metadata": {},
   "source": [
    "<font size = \"5\">\n",
    "\n",
    "Count Frequency"
   ]
  },
  {
   "cell_type": "code",
   "execution_count": 3,
   "metadata": {},
   "outputs": [
    {
     "data": {
      "text/plain": [
       "amendment                       1529\n",
       "house bill                       902\n",
       "senate bill                      514\n",
       "house resolution                 234\n",
       "senate resolution                 60\n",
       "house joint resolution            22\n",
       "house concurrent resolution       20\n",
       "senate concurrent resolution      14\n",
       "senate joint resolution            8\n",
       "Name: category, dtype: int64"
      ]
     },
     "execution_count": 3,
     "metadata": {},
     "output_type": "execute_result"
    }
   ],
   "source": [
    "bills_actions[\"category\"].value_counts()"
   ]
  },
  {
   "cell_type": "markdown",
   "metadata": {},
   "source": [
    "<font size = \"5\">\n",
    "\n",
    "Subset text categories"
   ]
  },
  {
   "cell_type": "code",
   "execution_count": 4,
   "metadata": {},
   "outputs": [
    {
     "data": {
      "text/plain": [
       "house bill     902\n",
       "senate bill    514\n",
       "Name: category, dtype: int64"
      ]
     },
     "execution_count": 4,
     "metadata": {},
     "output_type": "execute_result"
    }
   ],
   "source": [
    "# For this analysis we are only interested in bills. With \".query()\" ...\n",
    "#     - We select all entries in the column called \"category\" \n",
    "#       which have values contain in \"list_categories\"\n",
    "#     - \"in\" is used to test whether a word belongs to a list\n",
    "#     - @ is the syntax to reference \"global\" variables that\n",
    "#       are defined in the global environment\n",
    "\n",
    "list_categories = [\"house bill\",\"senate bill\"]\n",
    "bills           = bills_actions.query('category in @list_categories')\n",
    "\n",
    "# Verify that the code worked:\n",
    "bills[\"category\"].value_counts()\n"
   ]
  },
  {
   "cell_type": "markdown",
   "metadata": {},
   "source": [
    "<font size = \"5\">\n",
    "\n",
    "Data manipulation with sentences"
   ]
  },
  {
   "cell_type": "code",
   "execution_count": 5,
   "metadata": {},
   "outputs": [
    {
     "name": "stdout",
     "output_type": "stream",
     "text": [
      "0.3199152542372881\n"
     ]
    },
    {
     "data": {
      "text/plain": [
       "3       Committee on Health, Education, Labor, and Pen...\n",
       "4       Committee on the Judiciary. Reported by Custom...\n",
       "5       Committee on the Judiciary. Reported by Custom...\n",
       "6       Committee on Commerce, Science, and Transporta...\n",
       "7       Committee on Veterans' Affairs. Reported by Cu...\n",
       "                              ...                        \n",
       "3262    Mr. Blumenauer moved to suspend the rules and ...\n",
       "3263    At the conclusion of debate, the chair put the...\n",
       "3264    Ms. Hill (CA) moved to suspend the rules and p...\n",
       "3265    Mr. Barr moved to recommit with instructions t...\n",
       "3280           Mr. Pallone moved that the Committee rise.\n",
       "Name: action, Length: 1416, dtype: object"
      ]
     },
     "execution_count": 5,
     "metadata": {},
     "output_type": "execute_result"
    }
   ],
   "source": [
    "# How many bills mention the word Senator?\n",
    "bool_contains = bills[\"action\"].str.contains(\"Senator\")\n",
    "print(bool_contains.mean())\n",
    "\n",
    "# How to replace the word \"Senator\" with \"Custom Title\"\n",
    "bills[\"action\"].str.replace(\"Senator\",\"Custom Title\")"
   ]
  },
  {
   "cell_type": "markdown",
   "metadata": {},
   "source": [
    "<font size = \"5\">\n",
    "\n",
    "Try it yourself!\n",
    "\n",
    "- Obtain a new dataset called \"resolutions\" <br>\n",
    " which subsets rows contain the \"category\" values:\n",
    "\n",
    " ``` [\"house resolution\",\"senate resolution\"] ```"
   ]
  },
  {
   "cell_type": "code",
<<<<<<< HEAD
   "execution_count": 14,
   "metadata": {},
   "outputs": [
    {
     "data": {
      "text/plain": [
       "house resolution     234\n",
       "senate resolution     60\n",
       "Name: category, dtype: int64"
      ]
     },
     "execution_count": 14,
     "metadata": {},
     "output_type": "execute_result"
=======
   "execution_count": 15,
   "metadata": {},
   "outputs": [
    {
     "name": "stdout",
     "output_type": "stream",
     "text": [
      "0.07084468664850137\n"
     ]
>>>>>>> upstream/main
    }
   ],
   "source": [
    "# Write your own code\n",
    "list_categories= [\"house resolution\", \"senate resolution\"]\n",
    "resolutions= bills_actions.query('category in @list_categories')\n",
    "\n",
<<<<<<< HEAD
    "resolutions[\"category\"].value_counts()\n",
=======
    "check_resolution = bills_actions[\"category\"].str.contains(\"house resolution\")\n",
    "print(check_resolution.mean())\n",
    "\n",
    "resolution1 = bills_actions.query('category.str.contains(\"house resolution\") | category.str.contains(\"senate resolution\")')\n",
    "\n",
    "list_resolutions = [\"house resolution\",\"senate resolution\"]\n",
    "resolutions2 = bills_actions.query('category in @list_resolutions')\n",
    "\n",
    "resolutions3 = bills_actions.query('category in [\"house resolution\",\"senate resolution\"]')\n",
>>>>>>> upstream/main
    "\n"
   ]
  },
  {
   "attachments": {},
   "cell_type": "markdown",
   "metadata": {},
   "source": [
    "# <span style=\"color:darkblue\"> III. Regular Expressions </span>\n",
    "\n",
    "<font size = \"5\">\n",
    "\n",
    "Regular expressions enable advanced searching <br>\n",
    "for string data."
   ]
  },
  {
   "cell_type": "code",
<<<<<<< HEAD
   "execution_count": 323,
   "metadata": {},
   "outputs": [
    {
     "data": {
      "text/plain": [
       "(-0.5, 399.5, 199.5, -0.5)"
      ]
     },
     "execution_count": 323,
     "metadata": {},
     "output_type": "execute_result"
    },
    {
     "data": {
      "image/png": "iVBORw0KGgoAAAANSUhEUgAAAgMAAAEMCAYAAABZZbUfAAAAOXRFWHRTb2Z0d2FyZQBNYXRwbG90bGliIHZlcnNpb24zLjUuMiwgaHR0cHM6Ly9tYXRwbG90bGliLm9yZy8qNh9FAAAACXBIWXMAAA9hAAAPYQGoP6dpAACXyUlEQVR4nOz9d3hc6XnfjX9Om94w6B0gQLB37pLbu6RVL5YiyVVuyZvEjmM7b3ocv0leO8nPceLyxk5c4iJZtrq0Wm3vXHLZKwii9z69z5zy++MAQ4IoHIAgCZLnc128VhrMnPOc+tzPXb63YBiGgYWFhYWFhcV9i3inB2BhYWFhYWFxZ7GMAQsLCwsLi/scyxiwsLCwsLC4z7GMAQsLCwsLi/scyxiwsLCwsLC4z7GMAQsLCwsLi/scyxiwsLCwsLC4z7GMAQsLCwsLi/scyxiwsLCwsLC4z7GMAQsLCwsLi/scyxiwsLCwsLC4z7GMAQsLCwsLi/scyxiwsLCwsLC4z7GMAQsLCwsLi/scyxiwsLCwsLC4z7GMAQsLCwsLi/scyxiwsLCwsLC4z7GMAQsLCwsLi/scyxiwsLCwsLC4z7GMAQsLCwsLi/scyxiwsLCwsLC4z5Hv9AAsLO5XMuk8Vy6NceHMELPTcQJBN489vZ3ahiBuj/1OD++exzAM0qkc77x2idGhENlMgUDQzYc+sZfySi+yLN3pId4TDA/McO7UIJcvjJb0/apqP4cf72DLjnoEQbjFo7OYxzIGLCzuEOOjYU4f7+fd1y4xMxWnrNyDx+tEViTcnqo7Pbx7HsOAgZ4p3nvjMn3dk2TSBYIVHmobgjz8xBbLGFgnIqEkF88M89YrF0v6fuvmalo3V7FlR/0tHpnFtVjGwG3C0A00XaeQ19A0DU0zMHQDwzAwgHn7VxAEBFFAFAUkSTT/ySKiKCKK62Mla5qOrhtgGAhz+7mfLHDDMIrnQBQERElAFG9/xOzimSEunB5ifDQCwPRkjCNvXqaqxk9L271tDOi6jq4Z6IZRvNdv9z1oGAZH37lCT9cEsUgagMmxCG+8eJ49B1pwuS3vzHogiAKyLKIoErox/94zz7/FxsEyBm4x8zd8OpNncizCB+9103dlkonRCPFomnQ6RzZTQBQF7HYZh8uGx+eksspHfVM5bR01tLRVUdtQhsfrALjpl+bkeITwbJJcpkBZhYfW9mruI1uAQl5jqH+a8GwSf5mLyho/5RXe2z6OSChJKpld9Fk6lV3mF/cO0XCK6YkYsWia8iovjc0V2B3K7R2EYTA9GUMtaNd8ZDA9FUXTtBV+aLEaAmUe2rbUEo9mSCQyJGLmfzPpPPmceqeHZzGHZQzcQgzDYGI0wus/Os+ZE/0M989SKKhoqrkq1XUDAwMM0DRQVY1UKk84lGR0KMT5U4NIsukd8PictG+p4flPH2DHnkYcTtuax/W9vz3OyaO95HMqDzzczj/8Zx9FFO8fl2g4lOT3//MPGRsOs/tAC899bA8PP7n1to8jWOEtGnjzVNX48fqct30st5sTR3v5zt98wMxUjEef3MaP/8ITVNX4b+8gBIHq2gCKIgO5uY8E6pvKrRDBOlLfFKSq9gAf+sRe0xM65xHVdYOJsQjf/8YJ3nzpwp0e5n2PZQzcItSCxpXOMb711aMM9pmr0Ew6v+JvTCeCgaGBrmmoMP+OIp3Ok8+qPPzEVtPFvwYMwyCZyDI+GmF6IoZik8llC8D9467L51SikRTDA7Nk0nmymTyqemdWgTv3NROaTRIJp5iZilFdG+DJD+2kdXP1HRnP7SKVyjEzGWd8JEw+p5LNFjDWeE/fDIIg8NATWxnsm6b3yiS5bIHqWj8f+dQ+3B7HjTdgURLz4U6u8/wYhkEmncflWvvCxmL9sIyBW0A+V2BmOsEbL13g1LE+spnCgr/b7DJutx27Q0GxyYiigK4ZqKpGLlcgmymQyeQXvCA1VSedzhGs8CJKa49vT45HScTSFAoaiu3+u/ypVJapiegNDbPbQW1DGfsPbcJmk5idSVBV7WP3gRYqKn13emi3lNB0nHAoSS5buKO5KoIALe1VPPrMdlrbq8nlClRU+di2qxGb/f57Nm43giAgCKxbLpTFzWHd8euMYUAsmuH8qUFe+NbJ4qJbEECWJTxeB5U1fmrryygLunF7HSiKTD6vkknliEbThGcTzEzFyKTy5PMq+bwGGPgCLrbsqMd2E5N4X/cEqVRufQ72LiQaTjHUN32nhwGA02ljz4EW9hxoudNDua2MDM0Smonf6WEgCAJut52PfHLfnR6KhcUdxzIG1h2Dgd4pvv7n7y7wvrvcdlraq/jJX3yKXXubkGRp2aQ9XTfI51Uunx/hwplhLp4dIhJOsfdAC3aHsiZLej5x9/L5UZLxez9BbSkMA0KzCXq6Ju70UO5L5u/B/p4ppiZid3YwFhYWC7CMgXVmfDRCX/ckUxPR4mcer4PHntnOT/ziE5SVeRCllSdzQQC7XWb3/hZ27GlC1R5CLehomn5TWf+GAZ3nRkjGM2vfyF3O7FSC7ktjd3oY9zX9VyaZGovc6WFYWFhcg2UMrDOh6TgzkzGuLaHdvK2WbbsaCJS5keQbx/vn46iSLCDJIoohYTi4qSQrTdUYGwkTiaTuWMLcnWZmKsbURJRE4v70jNx5DEaHQoRmk2SzhRt/3cLC4rZhGQPrTCqZI3ndZFNdG6Cqxr/mcqX5RBtKCA8UCirpZI54LEMiniGVyJJK5UjEM4wNh8im80VDpVDQGBkM8f2/O1FyUuJTH96Jz+9clUiPrhvksgWmJ6PEomlSyRzpVI5ctkChoCEAoiQiyyJ2h4LP7yJY4SVY7sHjc5iZyKsgEc+QSmZJJ3Okkuaxx2NppiaiXDw7gqbqxe9OT8Y4fqSH0GyypG1X1fg59MhmJPnGIjm6rpNK5Hj71YsUrtnnSjS1VtDUWkll1fonEc5fh/GxMLFQilQySyZToJBXUVUNQTDFf2RFwu5QcHsc+Mtc+AMuvD5nySI8uq6TTGSJR83rkErlSCezJOJZhgdmmJmKFytiDMNgdGiWl39wFq+/tJLKvQdbaGqtLOm+yOdVwrMJjr7TXdK2RUGgbUsNm7fW3lLdA8MwSMSzhGcTxCIpEoksmXTevBZzugeiKCIpIi6XDZfHgdfrwOt34S9z4VlDtYNa0Ein84Rm4kRCSRLx7NwzaO7TFAeSUGwyDoeCx+ugotpHdU0AWZGsRL97HMsYWGcKBZVCfqGQhsttx3kbymcMwyAezdB1aYzxkRDjIxGmJ2PMzsQJTcdJXJcrUMirdF8ep/vyeMn72LW3CY/HwY1sAcMwzLKxTJ5UKsfsVJyLZ4cZHQ4xPRkjNJMgHkuTSeUQRQFZkecMAScNTeVs6qilbUsNTS0VBMs9ON22G06+8wJP3Z3jTIxFCE3HmZ6KMzEaYWwkRDKeQb1uUh4dCjE6FOLVF86VdPz7D21i/4ObSvLw6JpBJJzkT37/tZKrF577+B6e+/jedTUGDN0gmyuQiGWYGItw5ng/Q33TzEzFiYRNoyCXLRQNAYfThj/gpKrGT2NLBY3NldQ1Bqmu9eMLuHA4bctODPPXvfPcKGMjIaYnosxOJ5iZijMxHiYeXRyi6r0ySe+VyZKP55f/5ceoawyWZAzksgWG+2f4o995qaRtS7LIZ798mMbm8ltiDGiqTi5fIBnLMNA7TW/XBMODs0xORInMJkglc2QzeUBAVkzjOFjuobLaT019GXWNQZpbK2hpryZQ5lrRKJ9/HjLpPOlUjngszcxknCud4wz0TjE5Pid8NmeYi6I4ZwTa8QdcVNeWsWVnPbv2N1NZ5cPjddx+YSiL24ZlDKwzkiwiXecByOXU26K0ZRgGF84M8Vv/+lu3fF83Goem6XRfnuDMiX5OHOmmu3P5pD1NMygU8mTSeaJhUwPg/bevYLfLNLdV8bkvH+bx53YAN1Zf1DSd//zvvl2Ul72jzA31TpXPzU8GubzKpbMjvPbiOd559SKatnS4Sdc1CgWNTDpPJJRksG+G40d6AXA4FRqaKvjxn3+cA4fblp0UDAPCs0l+49f+5tYc1JrYGCtawzCNwyud4/zwmyc4fbyflRR5VVUjmykQi6QZ6L1aAWO3y3z4k/v4yj965obeGlXVOXm0j3dev0T3pbEVEzc1zbz+yUSWqYkY3ZcnePeNTjxeO888v4fHntnOzn1N95V0+f2EZQysM36/G3+Ze8FnQ33TjHRUs/s+KiEb6p/ha3/6NudODqLrpbnIryeXU+m5PMF//39fIJnK8eRzOxcp9m1kBEHA7XHwwMPtRMJJ0ikzPJJMZEnGs2sWj1oNmUyeP/+D1zn+fg/TE7E17zObKTA2EkJWpI0yt5aEokgEKzwcfqyD+Hz4aO46pJO5FSfj9ebIW128+aMLnHi/h3xBW/O+ZUViz4EW81qsQD6vMtAzxe/+x++RzRTWfO2TiRwvfOskXZfG+OQXHuDZj+5Z03YsNjaWMbDOVNf5qa0PLPisv2eKqtoAu/Y109Raecv2LQgCu/Y18//87pcW/a1Q0Bjqm+Zv/vxdCnkzJml3KGzdWc+nv3io5Lh8XWPwhi5yQRCoawjS2FLB8OAss1NmTbkoCtQ1lFFVE6Cy2kdFtR+X2wyfZDMFIuEk/T1TXL4wWkyWNAyDbCbPt792jI6tdTRtqsSxgqtSkkT+xX/4HIXCYk/M+EiY0x/0FVe7AG1bajh4uI0de5tKOn5/wI29REEaURTwBVz81N9/ElU1q0F0zfyvqupcPDPE8SM9XDo3UtL21sIPv3WK86eHmJ1OFCcDRZFo31pLXWOQiiofXp/ZKTGfK5BO5UnE0sxMxRnomSIcSqJp+tyk6mXrjnqUFSYhQYBghWfJexCgr3uSF79zipnJePH7O/c189zH9hAIupf8zfW0tlfPSQjfGJtdpr6pnJ/7pWfRtPlrYMxdA40P3u3m1RfOEY2kStreWjAMg9d/dJ6XvnuGgb4pctd5CR0OBX+Zi/rmuZCYy1YMtyTjGSbGooyNhCjkVSRJIhB0s3Nf8w1zkBRFMsM8LRUM9s3MqY2az0hrexW1DUHKK7x4A06cTqWokTI+GmJkYJahgZliebSm6QwPzPCDb57kwKE2/DcIUVjcfVjGwDrj9buoqQtQUx9gciwKQDqVo+fyOK++cI6nP7KLpk2ViKK47s2BBEEgEHQvKWKTz6lmhz5RBExjQJIEyoIedu1rXvEFfy02u1KSm9DpstGxvY7QTIJeSaSlrYqG5nKqavyUBT34Ai68fmfR3VzIqSSTWbbtaqCuPsiJoz3EoxlTy9yAiZEwXRdH8foc1DYElz1+wzDYvqeRpZZdbo+dof6ZBZ95fU6aN1WVLPwjSmLJyZaCIKAoEg3NFQs+nx9aMp7hyi0qczQMU6vixPs9xWY8ggB2p43nPraHzVtrqaj24fM5cbpsiJKIWtDI51TS6TzxWJrpiShTEzFmJmPkcgWqagJm34QVLr8gCNjtypLn05gbl8Nxbf6MQFmZm227GkruTaAocsnJbKIo4nTZFhnhhmEmOo6NhFFst64PQaGgMT0R5a2XL9LfM0kqeVXwy+11sHVHPU0tFVTXBSiv9OLxOrHZZQzDQC1oZDP5ObnqOLPTcbKZPP6AG1/AecP3h3nsdvYfakMt6IiiQG1DGbVzuQdl5R68c9ffZpMxDEinc0RCScZGwly+MMqRNy8XE24z6TxjQyEunR/hwUc2Y7NZxsC9hGUMrDMOh0JNXRm79jUvcMuOjYR47YfncDgUDCAQdONy27CXOLmWiiSJSEs0MRIEAcV2vdCRgCQJOJxKySut1dCxrQ5N1SkLunng4c3s3NuEw2Vb0Quxc28Tza2VpjjQ5fFiZYauG1w6NzLXwXFpYwDM41zOc2CzyYv2LYrmebmZxk+rZf4aiJKIcIsytHXdIBnP0t8zRTptTkCyLFFTF+CzXz5MZZWvJDnqcCjJYO8U4VAKf8A0BG50vwqisOT5NAwDxSYv+r0oidjtym2/BoLALW2dbBgGuUyesycGOHuin0JBn9u3gN0hs21XA899bM+cIRRYcXIv5FVGh0NEQilEsfSW24IADz68GU3V8fgcbNvZQMf2OuyOld87qWSW9o4aersmmBqPomnm2HO5Amc+6Gf/g5tuSgnVYuNhXc1bQH1zOZ/8/IN88G43iXjGXIVoBuFQkr/8X2/x7pudPPHcTvYebGVTRzWyLCEKQkkv2ruJptZKmlor+fAq5F4FQWDztjo+8inzN2eO9xf/1t87SSRcWgng/Y6m6UyMRcyQ0Jwnwumy8ciTW1dV5hos9xAs99zCkd67GAZEIym++ddHF1Sx2O0y7R21/PpvfBqf31lSiE6xybS2V9PavroxCILA9j2NprdsFbg9DrbuauDTXzzEX/7Rm0WjXFN1ui6NLqrKsbj7sfw8twCHQ6G1vYp/89tfoLLGvyjGPtAzzV/+0Zv8q1/6a37pp/43f/7/vU7PlQlLiOUaDj3aQWt71YLV0vREbIGb1WJ5zJjz/dWRcqMxOR7h5NE+xkfDxdCQLIs0bark1/79p+ZKAzeu8a8oEs9+dHcxrwdMI3NsOLzmpGCLjYvlGbgFCIKArEh0bK/jV//NJ3ntxXNcODPM1Hi0+B1dN8ikc4yPhHnlB2d5/60u6hrLaeuoYduuBnbvb8bpunFt/b2KfS6pKlDmJhI2k7ty2QKFvIam6asWIrrfkCRxzvV89f7JpPMcffsKH/3MAQJB95pFsCxKY3oixsWzwws+a2iu4MDhNiqrzfyIjf58O102yiu8xKOZ4mIlmymgqjq6bmxoY8ZidVjGwC1CEIRiEp0gCLS0VXGlc5zL50cIzSQwDNONWChoxCJpYpE00YiZtDXQO0XnuWF27G1iy/Z6PD7HfffiFkVhLo58Nf5vGBSzwaX763SsGlEUKQu6qarxMz4aKaoMTo5F+M7fHGPPgVaa2yqpqPJZhtUtIhZNMTK4MGG1pj7Atl2NJSfs3klM5VMBp9tuljHOGQOGYaCp+pyOhWUM3CtYxsAtxu1xsPcB88Xb2l6Nx+Og78rknCxvlnQ6hz4nApNKZEklTMnWcycHmBiLkk7laGmrKpaA3U+YingLb1FdN+ZclBv/ZXonEUUBl8fOjj2NJBPZogGaTud56XtnCM8m2bG3idbN1QSDHgJBN3aHbJWLrROqqhGPZZieutqqWRCgospHS1vVHRzZ6lFsi6s3dF23IlD3GJYxcJsoC3o4+FA7Bw63MdA7zekP+rhweojuy+MkYhlzxVusrTddce+8dolTx3o5/PgWnnhuJwcOb7ql2c+3knk1PF035soFjTnviFF8qRhXvwww11DJeuPcDB///ANMjEVIxjPF+vZkIssbL13g3TcuU1Hp5dCjm3nyQztpaK7A4VTM8sm5l//deK9tBFLJHPFohvQ1OS6KTSZQ5qayev37TpTK/PO26DnkuufwmtJcY4kyXYt7D8sYuM0IgkBrexWt7VV85ouHSSZzXDg9yKs/PMulcyMk4pkF818qmeP1F89z6ewwn/z8g3z2xw/fucHfJKGZBP09U4yPhJmaiDI1ETVV4RJzTYvyKoW5WveCqqIWTJEei7UhCAKb2qv5B7/6Ed5+9RIvf+8ModlE8e+FvMrEWITv/u1xvvd3x6lvKmfXvmb2PbiJA4facHtLa0xksZhUMjvXY+Aqwbm6/jtpX6mqTiSU5OLZYcaHQ8xMX+1PkYhlyeXyqAVTllgtaOTzGmpBva1KjRZ3BssYuAPMr7ZECbxeOwcOt7F1Zz3TkzEunRvh9Ad9nD0xsEA+dGY6zne+fpStO+tp31aL3b7xG4YYusHMdJzO8yO8+1on/b1T5LIFVFVDU/W5JCQdQzfQ51YsCzwGFjeNIAjUNwb55Ocf4OBD7bzz2iXefOkCiUSmGJ4CcyE4ORYhPJvk+JEe/AEXjz69jSee20FFte86oSCLG5HLFBb1I7E7lDmtj9tnDcx7Ai5fGOXcqUEunR1mZGiWXE4tPoe6rs+F3wwM3Sh6Cazn8P7CMgbuIIIgIEhmoqHTZcPjdcx17QvSvqWWl753mmTC1LDXVJ1wKMU7r12ivql8QxsDhmG2yj11rI9L54bp6ZpgqH+GWDS9yOsvCKb71GkzX5SyLCEr5n8TcbMNs2bVNN8Uik3GX+bG4bShKBJNrRX0XplkqH+G8ZEwkZCp3aCqOqpq6vbHIineed1gbCTMjj2NbN3ZQFtHzR0+krsHTdcXld+JonBbDQFdN6W8X/nBWS6dH2F0cJbpydiiFutgPod2h4LdriArktlwTRJRFInpiRi5vFqUCLe4N7GMgQ2Ew2mjobmC6toAja2VxXazRRU+TefksT4+/vkH8JYoVnK7mV/Zd54f5e1XL3Hx7DChmauuabfHjtvrwON14HbbsTttOJ0KdoeCzSaj2GQURUJWZLo7x7hyaczSFlgHRNE0Ojdvq50LU03Q2zVBX/ckIwOzzM4kiEZS5Ode+qqqM9g7zehQiKmJKLFouqh1b+UR3BhRXKwuOR+nvx3M9/Q4f3qIV144y+jQLLnsVU+FP+DCF3DhctvnjAAZl8eOw6Gg2OSiUW5TZN546Tyh2USxp4nFvYllDGxAFJtMfWOQn/z7TzI2HCKdys29SGB0KERkNklFpRenawPGdA2znv2v/+Rt+nsmyaSuxk2dLoXN22rp2F7Plu31bNpcTWWNH1leOiny2187ythw2DIG1hFTllpm++5Gtu9uJJcrMD4c5u1XL3HiaA8zk3HS6RzqXFc9taBx8cwwE6MRZqfi/F+//vyy18viKna7vEjuOZcrUJg7r7f69KkFncnxKH/6B68xMjBTjPnPG4W7D7aw50ALLZuqqKkvo6zcgyQt7bm4fMHMZbKMgXsbyxjYwDS1VLB1ZwPJRJbpyat9yMdGI9TUl21IYyCbK/D9bxyn78oE2YxZlywI4HTZ+ef/4bNs392I11daG+JrCg0sbhE2m0xLexUt7VV8+ecfp+fyOCfe7+XVH5xl9hqPTmgmwesvnmfPwRYOPdZh5RDcAKfbvqhHRjScIrWEi/5WMNA7xesvnWf4msZcsiLR3FrJ3/+nH2bX/uZFBslyBp6VNnB/sPH8zBbAVcGP8koPbs/CST+XMTN+NyKFvMq7r3cuWEW4PQ6++DOPsmtfEx6vvXhs1/5bblvZjOUVuJVcew0URaJjWx2f/fJD/Kff/wkOHG4rdpUEUyDr5e+fJZu2ZLNvhN/vJFDmWmAQZLMFwqEUM1OxFX65PoyPhjl9rG/BZzt2N/KpLzzItt0Nc42abvwMgtnJ0CzztbiXsYyBDc58eOBabHZ5Ub+DUljqgV9Po98wDAoFjYnRMNo1yVM2u8yBw204nLaSRW2y2QKpVI5MOn/jL5fKXDOo67EWPibzIQSvz0FdY5DPfOkwZeXuouaAruv090ze1MQgsNhFbnDvXQNREvH5XdTUB65+aMDMZJS+K5O3dN+6bpBMZBcZHTX1ZWzf04htic6RS2EYBpl0nlQyS2GDLj4s1g/LGNigzAuCRCPpRROix+tYdftQQQDpOknj+Z7p6/Um1nUDNa+RTuUXbFOWJeqbylelYz4zFSMaSa3rS0iSxEXGiKpaWgbXM+8l2HOghbKgpxj7NgyIRdJomr7mRDhZlq4zyObvwXvLHBAEAX+Zm8aWygWfT45H6bo4aiZq3qJj1lSdXLZA5joPjs/vpKrGX/J2dN1gfDRMJp1fUIZqcW9iGQPrzHy97nqQTuUZHZolFkkVP5MkkbJyz6p7vwuCgNOpIFzzJp5fQaxXPbGhG0uGLwRRwGYvzXgxDANd07l8YZTJsci6Lhltc5UK15JJ58jnbt2L+U4x3/viZg5LsUn4/M5Fhud8xchaWMo7lEpkbsrA2KiUV3qLvUnmmRiNcO7UIDOTsVtWx6+pZjOvBQggySKKrTQZb8MwKORVTh3rI2d1U70vsIyBdSadypFKZq+R+lz9w24YpkHx7a8dZXhgptgtTBAEWjdXUVXjx+lanTEgiqYRIVxzxQt5lb4rk3OrlFUPcxGSLOJ02RaVPGqqxux0vOR9hENJXvn+Ga5cGr/5QV2D1+fE5V6YfzE2HGJmKn5P9mc37z1jzfdiNlNgZsqsLgDTu+QvcyHL0pq71V3fLdEwoK97knQyt25G9EahrjHIoUc6CARdxc/yeZXBvmn+v//6I7Lp/Kqeu2uv40rXcl4vYME1MiCdzBEJpZb93bX7KeRVpidjfPurR0mvZ6jOYsNiGQPrzFf/5G3+2T/4C/7zv/02r714nrHh0CJZ0pVIJbN0d47zh//1Rb711aNEw+ni3yRZ5FNfeBCPt7Rs/GsRJYGKKh/lld7i6ljXDRLxDN/52jFCM/EbbKE0ZJvEpo7qBQZBOpXnu3/zAYW8usIvIZ8rMNg7zX/6F9+gp2ty3VckvoCLiiovgbKrL+d0Os+5U4O8/uK5dd3XnSaZyPCnv/8qf/TfXubIm11MjEVKnmx1TScZz/KH//VFJieiRdEnSRLZ/+CmVYeorqWi0jtXFnvVmE0msrz8g7NcuTi25u1uRERRIFjp4cs/+zjyNTk+mbl77jd+7W848uZlZqdLe/bi0TSXL4zyo++e5uKZoeWTiAUIlLlobKlY8PGVznHeevniDfcTCSU5+vYV/su/+w7RSNoSG7pPsEoL15l0KsfEWJhoKMnwwCyvB5wEytz4y1z4y9yUBT243DYUxewEZhjmaiEWTRGaTjAzHWd6MsbEWGRBroDLbWfrznr2PbhpUclSKQiCgCjC3oOtvJ+6UhQC0nWDN1++QDyWpn1rLbUNZUVjo5A3+wRkswUy6RzZTIFHntqK27O0MWLGmmUOPtTO8MBs0VWZzRY48nYXbq+DbbsaqK4N4PU5kSSBTCZPeDbJxFiE4YEZOs+PMNA3jaZplFd5sSkyE2ORVR/vUoiiQFVtgO17mnj/rS7zQwMGeqb4Ua5AaCbBtl2NeP0OJEnE0M2EyHQqTzqVI58rEAh62H9o002NY97Nrqraogla00y1SU3Tb0pUStd0opEUl86O0Hl+BH/ARVm5h/rGIFW1ATPT3WnDZpORJJFCQSOVzBGNJJmaiNLXPcmlMyNFQ1YQTBf/48/tWFBhsBrmFTe37KxnZipG71winWHAB+91E4um6Lo0yqbNNfgCZodOTdXJ51WymQKpZJZcVmXHnkbqGoNrPjfmPg10nTk9hWuugWHmkWia6Z1bqwdk/nidLhuHHu3g5LE+Lp4dLpYWFgoavVcm+bu/OEJNXYDq2gA1DWV4fU5sdnluda6RzeaJhlJMTUSJhFPEY2nUgsan/t4htiwzSQuCeZ/v3NvM0DWlhaNDs7z16kU0XWPvwU0EKzxm+M4wn9HpiRj9PZP0XZmkv3eKkaFZJFmktqGMyGxySeXCm0HXDTTNWOSVmxe9Mi+LYWla3CYsY+AWUMhrZNMpImHTJedwKLjnpIb9ZW6cLlMWVhTFoksuHssQDiWJRVKLRHZ8ARetbVU8+dxOKqp8N/VwHDjcTl/3FIl4pqidPjYSRtV0RodDVNcGiqWMakEjl1fJZ1UymTy6rrP/0KZljQEwa5n3H2rj3dc7mZqIUshr6JrO1HiU997oZGIsQmW1D4/XnHCzmQKRcJLpiRjjo2GGB2YRRNi+u4nqGj/ZbH7djAGAmtoAew+2cu7kQPE8J+IZ+runyGbMfXm8pqEy/0LOZPJk0nk0Tad9S21JxkA8lmZyPEoynkEt6KiaVpzkNVWnoGr0dU0wPbEw43t8JMzJo71MT8aQFRFZvioNO/9PnisBNOPvy98LmqozM2UalqIo4HDaqK0PUFHlwxdw4XCY96Eki3NGT45YNM3sdHyhYp1g3oM79jTSsb3e7G1/E2zf1cjYcJixkXDR4J2ejJGfc00P9k0X23Vrqk6hoJkG6Zz4VmW1ryRjYHwkTDSSIpPOo6pm4x1Nu+YaFDQunh1e4LkzDIPB3mneeuWieY/OnfsF10EWsdsVtuyov6EAkyxLVNX6eeK5HagFjb7uSaJz74V0Kkf35XGGB2fwB1xU1Qbweh0odrmYf5PNFohF0sxMx0gnzeNwue3ksoUVQwWV1T527Wvi/bcvF0MDqWSOwb5pdF0nNJOkLOguJofmsgVmpuOmRPVwiFg0jSxL7D+0icoqH+dPDa3aGDAMg87zI+SyKtrc/a9qunkdVPOZCM8mGRmaXfC7RDzD+VODFPIasnLNvS+b10GWRRSbTHmFl/qm8lWNyWJ5LGNgnTFvVmmBnn42WyCbLSyQ5S1tW6LpEdhRz6HHOnjuE3tvenz7HtzE+dNDJOIZJsYiRVfj1HiUqfHoir/1+hyLmq8sNeade5vYtb8Z7YRuxuPn9jHQO81A7/QNf19R5eOjn95PWbmb3iuTHHmzq/QDvAFVtX72H9rEe29e5koxq3s+ljvDYN/Msr91OJRFCYjLMTkW5fUfnae/e5JMOk82UyCXK5CbuxeWC4F0XRyl6+Ko2bNBkXC47DidCja7gs0u43DYcLoU/tE/+yiVNTKiuMx45soE5ycqXTdIp3L0dU/R1z1V0jHA3D3ocdCxrY5P/NgDlAXdN71S27qrnsnxCEP90wz0TBUrRqLhFNFwiq4VwgUer50nP7SzpP2cOzXIxbPDTI5HyGYKpFM5cpk8uZxKPq8ueS/rusGZ4/2cOd5vavPbJOwOBafLhsNhK0r3lpV7+OV/+XEkt70kNcGnPrwLQzewOxQunhkinb6qFZLNFMhmYkxdZxguhyCYXq6lymTnKa/0snOf+RyeONJLNmMaD/mcSm/XJL1dy5c3iqKA3aFQXRvgCz/5CNlMnrGR8KJJ+0YYBnz/GyeIhpJkMgXyuULxOmSzeXOhsIR3IzST4KXvneGl753BZpexF+99BYfLhtNpw+t3cvChdssYWEcsY2CdaWgpp6Wtit6uicUZvatAEKCptZLPfOkwu/c3U1NfdtNjEwQBh1Phi195lOa2Sl74xgl6uiZW9fvSvmPw93/lw3z/747z3puX6e4sLRFQscnUNZTxq//2U7S0V6FrelHFcL2QZYnahjL+2W9+hv/2m9/lSuc46VTpwkalzoPRcNJs0nS59PN7LaaBopHPp4lHF/89lcxSrnlhGeNEUSTat9bywXvdJOKZNZeGNbVW8sxHd3P4sQ4amitu/IMSsNsVHntmO/VN5fzZH7xG5/mRVSTSrTwJXstw/zQXzwwxeQMjdzk0TUfLmPdgLJJe8Dd/wGXmwLht3GhApqgPPPuxPWzf08j5U0O88M0T9F6ZWHXirigK2O0KgTI34go3oylY5uNX/tUn+f3//ENOHesjHk0v+/1r8QVc7N7fwhd/5lE2dVQTi6Tx+Z2rGyiAYXD6gz4S8eya8w7yuaWNNqfLRmW1b03btFgayxhYZz7+2YM88/xuYuE0ly+N0t89ydREjGg4SSySJhHPkMsViqsCSRZxOG24PQ6qa83YYUNzOTv3NtPSVokyF9NdT3x+J898ZDcPPryZC2eGOPbuFYb6Z4iEkqSSOQp5FYdTwemy4/E6KAu6qWsI0r61Fl/AdcPtzxsdn/nyYR5/bge9XRMce/cK3Z0TC9y2NptEsNxLbUOQTZur2bqrgX0PtOB02Yvu72CFh/IqL6Hp1XlVVkKSRCoqvfzG/++LXL4wyuWLo3R3jjM8YJ6DfE5FkoS5FaGdYIWH+sZy6puCdGyrW7dx3EqcLhsf/fR+Hnt6m9mhsG+akcFZJsYjzEzFSSWz5HMqhYK5OrPbZZwuG4Ggh8pqH00tlRx8qI1NHTW4XLY1iVzdaHzbdjXwH/77j3P6gz7OnBhgqH+amckY8WiGbDaPw6Fgd9pwu+34y1w0tVSyqaOa9i13b/fEmroAldV+Hn92O53nR7jSOcZQ3wwTYxGioSSJRJZ8roAoml4Jl8tORbWP+sYgTa2VtLRX076llkDQdcP3giCAy23jV/71J+jvnqTz/AiXL4wy0DtNeDZBLqciiqbHyx9w07ypit0HW9ixp5GG5qudUf0BF+WVXrx+J4lY5nacJos7gGDca8W9GwBdN1BVjWQiW0w8K+TNmOV80phhGBiYE6ckCkiyhN0uY3coOJw2vD4nDqdyy5JnDMNUlEvEM0TD5gRdKKhz/c0NJElAnIuVKorpKnV77ATKPKuaGAp5lXQ6TzQ8b2hoaLqOMZecpdjMY3a57cUWznDVC5FKZunrnipWIjQ0lVNZ4ytZyXCl45/ffjKRJZXMzp0DDUPXQRAQRaHoKnY4bDic5jh9/hsbRLFIivHRyKq8Dqth6856nK6VFR3nS1TTc0qO2XSebK5APqeiXXsfGhSPVVYk7HbTHRsIuHC6S1eNXC3zCWLxWIZ41BTXyuUK5jOiGYiSgCSKiHOtdM1W33Z8fmdJSYwjg7NmJ8YbhLbWgiyLbN/diKxIa3pGDcMo3nuZdJ5c1mxiNP9+EDDLgSVJQLErOOZCFS6XHZfbvmrjLJ3KkUzM7y9HPq+h63pxP/Pn1+t34fE5cDgWvntGhmYJzySKyX479zZhs6+sZGgYBudPDd6Ssl1RFCiv9NLUWnnjL1uUhGUMWFhYWFhY3OdYOgMWFhYWFhb3OZYxYGFhYWFhcZ9jGQMWFhYWFhb3OZYxYGFhYWFhcZ9jGQMWFhYWFhb3OZYxYGFhYWFhcZ9jGQMWFhYWFhb3OZYxYGFhYWFhcZ9jGQMWFhYWFhb3OZYxYGFhYWFhcZ9jGQMWFhYWFhb3OVbXQguL24xhGOQz+WKjHhMBu8tm/q9b1JzK4tYz3+pFzavFRlCCYDbkEkTBurYWGxarUZGFxW1G13S+suPXCE1EUAtmRz3ZJvOt8T/G5rRZE8ZdjGEYxGbifP2/fJ/Tb1wgNBGlpqWSX/79n6N5Wz0Ot/1OD9HCYkmsMIGFxR3A0HX0uVbOhm5gaOvf5tXizvD6149w+o2LjPVOkYqlGeoc47t/8CNmx8N3emgWFsty14QJYjNxTr1+gc5jPeu2zS0HN9GxfxPN2xvWbZt3itB4hEwyiwG4vA7Ka8vu9JAsLG4r2VSW2GySTDKD2+fCX+nD5lBu+zgm+qdJRlOoedPrU8gVGO2ZJJ/J3/axWFiUyl1jDKTiGc6+1cnL/+et9dvmlx7BX+G7J4yBi+9fYXokhCSLNGyutYwBi/uO0ESUc293EpqI0Ly9gV2PbsXm8N/2cWiqhqEvjL4auoEVj7XYyNw1xgACSJKIJEtmko5hYP6n9EdMEAQQzP8KgoAkiwji3R2fNQwzSekHf/wqfWeHcAdcHProPh78yN47PTQLi9uGoRv0nx/m6//l+0wNzfDY5w7R2FFLWdXtNwaqmypwehwIooBhGEiSRP3mGuxO220fi4VFqdw1xoDT46B1VxP7n91FOp4mGU2TiqXJJLPk0jnUgrbsb0VJxOm243A7cHoduH0uvGVu2na3UFYVuH0HcQswDIPwZIzxvinSiQzugOtOD8nC4raTiKaYHg0xNTRzp4fCh7/yJJGpGKdev0BkKkbLtgZ+8t98lqrGijs9NAuLZblrjAF/uZdnf/xRHv/cIQzdMJOvDDP5Std0EpEU//HLv8f08AyaaiZjuf0ufu1//SKbdjUj2yTTIyCa/0RRxOZQUOy3P6a4nmiqzsUjXRRyhTs9FAuLO8Zw1xhjPRN3ehgA+INefuLffI4v/Pon0DUdWZHxBj1IspWvbbFxuWuMAVEScXmduLzORX8zDAOXz4VilwHhmt8IVDaUU9lYjqxIt3G0tw9d0+k+1U9hLlnJwuJ+ZLxvisnBO+8VEAQBQRLwlrkB950ejoVFydwTpqogCIiSuER9toAk35tGAJhGkKZq9J8fRs0vHyaxsLiXMQyDqaEZZkZDd3ooFhZ3LfeEMXC/YhgG+WyB/vNDRfEaC4v7CcMwUAsak/3TzIxYxoCFxVq5a8IEd5KlKhau90KsVshxNSpzy207Hc/Qd36I2Gyi5N/c7HhKORdr2f9qxnAn9rNe+1/rvlfaz3qdt5s9LzcjZlrKvpfb/sDFEaZHQ2SS2Zse0808B+u17bVwJ+/Da7e10c6LRelYxkAJvPDHr/H+D07Rf34IURJ54MN7+Jn/5wsEqwOAGbefHJzhxCvn6D09wOTQDIlwkngkhc2u4PY7CdaU0dBRy65HtnLwQ7tR7HLJD0FsNsHsaIiJ/mmGu8cZ751ianiG0ESE2MxCQ2B2LMwrf/kO7337eEnbFiSRPz7523jL3IjSjR1F596+zIt/+gbn3rqEIAr4gl5++8V/QfAaXQPDMJgcnOH8O5fpOT3A8JUxZkdDZNN5HC47Lp8Tb9BDTXMlux7dQsfBNspry3B6HCWN+VqSsTT954boPTtI37lBxvumSUQSFHIqsiLh9rsJ1gTY+cgWdjzcQV1bDYFK36r3sxwT/dP0nRvk4vvd9JwZIDYbR82pyDYZX7mXurZqHvzwHrY/tIWyan8xd0WSpVW9BI//6AzvfPs4J18+V/zsuZ98nEc/8yBbH2hb9bh/6yf/gM5jPcXEU9km85++/3/TsqNx1duaJzQeYax3kr5zQ/ScGWBqaIZ0LEM2nSOfKyApEk63g0Cln2C1n4qGIM3b69l+uIOqxvIVk3l1TWesd5KxnkmmhmaYHg0xOTjDaPcE4ckI6XhmwfePvXCKs29cLDlM+Plf/Tif+AfPlVT+l0lmGbo8ym989ndK2rYgCHz0F57h+a88SWVDeUm/WQ35XIHYbILzb3dy4d3LTA7NEg8lyCQzFPIavqCHQJWPhvZa2vY2s+vRrdRuql71JDx4aYRX/vIdXv/aewB0HGjl0c8c4sM//UTxO+GJKAOXRug81sOV431EpqMko2kMDOwOG94yD627Gtl+uIOtD7RR11aNIFnGwEbAMgZKIJfOkYwkic7EEUSBocujqDkVXdOZHQ9z6rULvPutD5gdj5CIpMimshTyKmpORZREZEViamiWoc4RLh3p4sTLZ3ny8w/RuqsRX7l3xX3rms7RH5zkja+/TyaZJR3PkElmyaZy5LP5RSWVhm42wSlV7Wy+FrpUe17Nq6SiKaIzcQBSsTSFvFoUWcmmc7zz7Q94/3snmR6ZJRFOkY6nyWby6KqOKIvIsoRilxm+PEb3qX4OfngPh57fy/bDHSWNwdANctk8x390lmMvnmZ6aJbYbJxENEUmkUPNF9B1A0EUkJUIkwPTjPVO8sGLZ2jcWsfOh7dw+GP7cfmca1tV6wapeJo3v36ES0e7Ge2ZJDabIBFJUsgV0DUDURQIjZv7Hro0SsOW0+x+bBsHnt1FZUM5Do8dcRUaF/msSiqWLp53gHQig7bG8FByblvXGgPzVTirQVM1pgZnOPKDk/SeHmB6NEwymiIRTpJNmSW/uqahawaCaBpBs6NhbA4Fu8vG6dddvP43RzjwzC72P7uLtt3Ni/ZhGAaZZJY//Kd/QTpuGhfZdI5sKkc6nlmykqaQUynkSj832XQOSlzVGoaBmtcWXIsVEUwDQltHyen5fKGuE310Hu2m81gP08OzRGfiZFM5CrkCmqqh6wax2ThTQzOMdI1z4UgXb3/rAw59ZC+HPrqPYG0ZthIrqjRVJ53IFI97rG+K0HgEwzDQVZ13v3Ock6+cY7R3kthMnHgoueAdJUois2Nhpkdn6TreS01LJZv3b+LpLz5MVVOF5SG4w1jGwCoxDIPZ8QiFgsZI9zgXj1zh3W8f58ybF1lqRtVUDU3VyGXyJMJJpoZmi1nP6WSG3Y9vw+1bXhvAMAzGeqc4/87lW3VIN0U+VyCXyaOqGvFQgssf9PLW3x3lwruXl3wZawUNrWCej2Q0zexYmM37W0uuhtBUjchUjM4Penjzb9/n3DudZBIZdG2pk2/uL5fOEw8nGbkyznjfFKGxCGpe5aFPHMDtd60qyVTXdDLJLO9//yRvf+sDBi+Nkggnl/geqAWNTDJLeDLKxOA00ekYuXSOxz53CKfHObffu7ckNBXPMNE3xdEXTnH8pTOM9kwuWqFfi6GBrpmTdOq6ebRhcy25dG6ZH4JaUDnzxsV1HP3aEQQBm0OhqrGcQk5FLaioBQ01r1IoqEu+B9YT0xhROfd2JydeOU/n0W76Lw6jLmP85DMF8pkCyWia6ZEQwsURsoks+WyBXY9upXl7w5q8colwkkQkSS6d5+KRLt76xlEuHe0mvkTYEsxnR82rZJJZZkfDjPVOMjk4gySLfOQrT+Hxu0ryTlrcGixjYLUYEJmKEZmMcunoFd7+xjH6zg0BYHfakG0ykiwhSgIY5uSVz6moeRVNNS3k2GyCV/7qbRLRFIEqf9HNu6RlLJh6CUu5F3Vdp5ArEA9dnYxEydRP8JZ5SjocURQQRYE12+SG6R2Izya4cqqfb/2PF+k82g2ArEhIiowsiwii+ZDrmo6mmQbB/IqheVsDlfU3dp8ahkFsNsGl96/wt7/zA/rODi04DtmuYHcoiLKEIJgLPV0zz1Euk8fQDUITEaIzMfrODxKsK2PLgU14AqWFSAzDIJvOMXR5lK/+1neZHp5Fv2a1p9jN1a40V9liGKYGRi5TIBVLc/atTsb7pimr9mNzKHe1+mU2nWO0e5y3v3mM7/z+SwvOA5j3oWI3n4Vi617DQNN00yBUtaInQhQFmrfVF8NuSyGIIpWN5UtOtPmceX7VawxKu9OGy+dEVkp7xbl9TihxZSopEt6gh4Mf3kMymiKTyJJJ5kgnMua/eJpUPIO2ghDaWjE9AjoTA9N843d/SO+ZAZLRdPHvil3B5ph7B4kiCFcn4ULONFYM3ZjzaE0Qmojw9JceYdPu5uJ9WyrJaJrwVIzx/im++d9/yPl3LqOpOpIimeOwycXnStdNT0Y+my8uErKpHP0XhpkcmqF9XyvbD2/GbnXtvGNYxsAa0AoaX/2t7zDRN8XEwDRgPoT7n93F5v2t1LRUmpOxYTAxOMOlI1foPTvIWO9kcRtqXuPsmxcpZPP8xjd+ddkHQJIkPvOPP8JHf/7pRX+LhxJcPtrN7/z9/138LFjjZ/+zu/j5//fLJR+PN+i5qQcwNpvg4pErnHz1fNEQUOwyjVvqaeiopW5TFd4yD7puEJ2OMTU8y2j3BEOXR1FsMpt2NVHVeGNjQM2rvPwXb/HyX7zNRP/0gr/5Krx0HNjE/md2UdVQjmKXKeRVItNxrhzv5egPT5GKZUxjRNWZHYvw2z/9h/zT//kL7H58G94y943PgQEDF0b4n7/2l0wOLNy/bJPZfngzhz62j8qGcuwOG4VcgZkxM4x05Xgv8XCS6ZFZ/sc//jMClb4Fk9fdhGEYnH7tAm/+7fu8860PFv1dlESC1X62P9xBZUM5noAbu9OGmlcJjYcZ651irHeS6dEQmqrhq/Cx/fBmqpqXVugTRAFvwM0fHvtPS/790ntdfP2/fp8rJ/uLn+1/Zief+5WP0bStvqRjsrtsJcsF2+wKta1V/JM/+LkFn89Lg7/6V+/yzd99geGu8ZK2txqMObf/b//MHzJ4cWRRaGfboXZ2PNxBbWs1vnIPsiIRmYnTd2aQKyf76L8wTC5thhBjswl++Cdv0H9hhH/6P3+empZKDMMo+V2gazqdR7v503/9dc68cQkwDaX69hq2H9rM1kPtBGsCCEAikmK8f4ozr1+k81hPMdHQ0A3SsQx/9Ot/yW9++9epaa5cv5NlsSosY2CNnHvrErpu4PQ4aNnRwC/93leoaa1CsSlmLHjugTJ0nQ//9BMMd41z5Lsn+Pp/+V5xG4lIioELI5x54xL7ntqxbCLNci8qQ9NxXOfeE0QRm8OGr0TPwHrw2tfeZeDCCON9U9gcCo//2GE++0sfoaKhHLvTZnoeBAGDuYYtc27OyHSM3tODNG+vRypBFOq7f/gyR753coG4jCfg5mO/8AyPfOogzdsaruk3IQBm/4rnfvxRvvQvP8V3fu8lTr12oWiUJaMpvvpb3yEWSvDhn34C+Qbhgs4Penjn28foOzdY/EwQBDbvb+VT//BDPPLpB5DnVsLF/esGz3/lKXrODPDW373Pq3/9bjHv4/pmNncLF9+/wo/+7E1Ov35hwef+Sh87H97C0198mH1P70RSpGIfEMF0lM21bNYp5FRioQRdx3vRChqVDeUrT0ICy97TTp9zUahHtiu4/a7Sn4N1WowKgmAmB4u3xt091DnKi3/6BgPnh9Hn7h/FLlPdXMUv/pcvs/OhLcX9z59PwzB44nOHSScyDF4a4Wu/9V0uvHsZw4B8Jk/vmQF+/5f/jH//zV9Hsa1Ol2VmJERorjVz8/YG/t6vf4Kdj2whUOVfqP1iGOi6wWd/+Xle+vO3+Nb/eJHQeKQ4vuGucc6/3Yn09E5LtvkOYRkDa0RTdZweO1sfbOeL/+yTNGyuxeawLeH6lVCAxi21PPqZB7h09AqX3u823aoGZFJZLh29wp4nti3rqp5vsLTU58u9QG+nC/r8O11kkhmqGst56OMHeP5nn6KmpRLFrix7TIbDhs1pwxtw4wmsvCo3dIPZiQjHXjjNaPdEcRIVJZG/988+yYFnd1HXVo3DbV/694pEZUM5H//FZymr9vPyX7xtGhQGjPdMcvG9Lhraa9jzxPYVx3DlRB9n37hUfAkD7Hi4g4c/eZADz+7C6V467qrYoW13M4ZuINtkvvsHL9+VhoDZIAxe/ct3GLg4siB5tba1io/87FPsfWI7tZuqcflMpdDlrqvdaeBw23H7XBi6ccNkzuWegZVWsoJwe5+D+dDQrSIRSdJ3foj3f3CqeA8KosCWg218/BefZfuhzbi8zmWPWVYkNu9r5ad/48f4/V/6c8b6pijkCmSSWXrPDnLipTPsf2bXqvIHDMNA1yFQ6eNn/v3n2XJwE/4KH7Jt6alFscs89tlD9J8f4tzbl4tCUYZu0H16gOZtDZYxcIewsjVugoaOOvY+uZ1th9qxOZcyBK7idDuo3VTN/md2LVjFFHIqg5dG78rJYZ7YTByn28Hm/Zt47LMP0ry9AbvLvmIcXhAFbHaFQJV/2RfHPLpuuiPHB6aKteSiJNK+p5kDz+6ifnPNii8wQRBQbAoNW2rZ/fh29j29s/i3bDrH4MURc6U057VYivBklNGeCSavaYRjc9rYfngze57YTtkK8W4Al89Jy44GDjy7m2DNyt/dqBi6wXjfFFdO9i/IpJcUiYc/dZCDz+2mbU8z/grvioYqmNdfsSuUVfsJ1gZKju3fz4z1TtJ7dpDZsXDxs5qWyuI96C3zrPgOkmQJt99Fx8G2YvIsmO7+ZCTFsR+eJpPIrNqgsTts7Ht6Jzse7iBQHVjxeRYEgarGcnY9upWaloUhgbGeSeJLJONa3B4sY2CNCKLA1gfa2Pf0Luwue0lxNrtDYd9TOxe4xNWCyuTA9C1dUdwOGrfUseeJbex4eMu6b1vTdD548cwCURlZkTj88QPUtFTicC3tEbgeSZJo3lbPw584gM1xtZxqYmCaS8d6yKYXi9bMM9w1xvTwLNnU1Yz3YLWfzfs3lVyb7yv30rqjkbbdzasqK9woaKrGxSNXCI2Hi+V8gihQVu3nuZ94nMYtdXd946+NTN+5IXpODyz4bMvBNrY/1FGygWkaxjJPf+kRgjX+osGuaTqnXrtALJRYXeKjYBq6T3/xEdx+N1KJ1QBbHmin+rockZnR0IrVKBa3FssYWCMur5PWXc20711cF70csiLTurMR6ZqJQNd04qFEqSXOG5Y9T2znwLO71n278zXMp145T+6aiVi2yTz+uUPYSzQE5vEGPTRta6BlZ2NxFZVJZpkanKHnzOCy16H7VD+hiciCz3Y9to2qptU1wXJ47Bz40O67soRKVTVOvHKWfPZqOaTNofDYZx+kurmi5AQ8i9VjGAaDF0aKlUvz7Hiogy0HVyc6JQgCTVvradnZeFWAyzBFo/rODxGdLVE/AVBsMoEqM2l5NV0Z69tr8FcsFP9KRlLks6Xpo1isP3ffG2mD0HFgE5UNwdW91AWz5MnmuhpS0DWDVDxTsuDJRsRX7qVpaz21rdXrvu18Js9ozwTxcKIYJ7U5FKqbKqjfXLOmtrAOt539z+wyS6/myKSydB7rWfY6DHeNLZJ93vpAG2VV/lXt2+awseVg211ZVqirOp1HexboR9jsCk994eEFnhaL9WdiYJrZicgC71hlQ5DaTdWUVa/uHpxn+6HNi1z1vacHCU9ES95G2Vxp9GqfQ8UuY3fZ5jrNmmSSWav76h3EMgbWSFVTBW6/a1UlefNJUNdK0RoYa1J+20jUtVXjDrhuyQSXy+QZ65lcMEc73HZqN1XdMC69HIpNpmFzzYLx5rMFhi+PLRuumRkNL3JhVjaUr1qsRVYkapor77pa6kJeJTqbIDabQNfN+1UQBexuO40ddUjSvdsddCMw0T9NKpZe8FlNSxVOj2PN91JVUwXe4MJqi/G+KRKR0uP2Lp+T6uaKVT+LgiAgiuKCxZSm6Xd9uPRuxjIG1ogv6FmzW3S+1Gqeu/0B8AU92B23xkWsFjRis3GuVZuRbTL+yrWthgAkWaSs2r8gOV0raESnl3ePpuLpRbK3vqBn1StiURRx34VKa1pBM4V9rpE/VmwyvqAHh8e+bqV5FksTDyXIX3f/+Su9KDfhkfEFPYvybeKhRFGHoBRsDuWGkurLIlxXbWJwy9UbLZbn7nojbSCcHgfKDbLg7xecbntJOgFrQddMPfRr3xGyLJmKcWtEEEU8AfeCCUzXdFLx9KIogTFXH53PFhZpy7u8pSvcXd23WYcu20pvVLUR0FSNzHWeEcUu4w16EMXVKddZrJ5MMrtIpMrtc60qX+V6XD7nImMinVidq15W5DVJGVtsPCxjYI3YnbZVadrfyygOpeQs4tWizfUCuBZREnG41u6JEEUBh9POtdbAvDGw1NJEzZva89eXfypOBXENOQvABpAjXt0STFM10smFxoAkSSVXcljcHJlUtihnPo/dabup585mty0yJjLJzKqUMSVZshJH7xEsY2CNFPXWLW4pAksL19xsZGVRaEaA5To0mN9dqo/72vevKPIdNQZ0bXlNhaWY7/OwgNss6nM/IwqL786b9agbGIs3stqbWuCWqS1a3F6sq2ixoRFlEbfPueBFqGu62XJ2jei6QTaT59o3oRnLd7JU8Fuxy6bM8HUvyny2sHiCLJF8tnBHhKbm9fMLucKq6sklWVzkDtZUfYHugsWtw+V1Il0XlsylczeVfJzPFlCv8za41hD+tMzBewPLGLDY0EiShMu/sMWzOpfMtlZ0TTfbDl8zF4uSiNvnWrQwms96tjlsi8qnMsnsAkneUjDmOvfls/liVv7tJpfJo6mry9yWZGmRMaDmVZKRVNHAsLh1OL1OlOvyU5LXJXSullQsTT6zMFnQ6XUg261cqPsRyxiw2NDINnmulv/qLF3IF4hMx9a8TU3TCU9GF0xgkiJdFWBZApfPuUhdLxFOLRDgKQVDN8imcmaS1irmz2Wk+dfkKk5GUovizzdCkiXcAfcCg6iQV0lEUjflpbEoDX+lD9t1sfnodHzV99+1xEOJRZ4dX7kXu9PKA7kfsYwBiw2N3WWjcWv9gth0LpVnsn96xV4CK6HmVcb7phbkHdgcCo1b65bNA6moD+LyLlwZz4yGyCaXlzBect+qxsxoaNU5D4IgLIrN6rq+pjDF5NDMqicRxW4aZdc2wpmv9JgcmF5zuMSiNBo215gVMNcwNTh9U90vZ0ZCJCKpBZ+Z7cbdy/zC4l7GMgbuZpaYIODu1y24FsUmU9kQpKqxoli9kc8VmBkNM3R5bHU66nNkU1lOvXZ+wQTmcJsdKJdLoGraUofvOvnUrhO9q/ZQFLIF+s8Prfoa2RzKogqKTCJLJrE6YwQDuk/2k0muXgNeViS2Pti+IKZcyBV499vHF9XA305MMa+F180MXdyhAd0CgjUBqhrL8VdcrekPTUQZ65lcJJNdKp3HupkcnF7w2aY9LWtWNLS4u7GMgbuYpUrstIK2+gliAyMIApIs8fCnDuD0XHVfFvIqb3/jKNlVCKQAxENJBi+NMtQ5WpyQHW47VQ0VbN6/adlk6s37N1FeG1jw2fl3upgeCa3K5Z5N5Tj12oVVr6QdHkexLfA8s2NhpkdmS96GYRjohs7xl86QCKdu/INrmL8O+5/dtUBoKZ8t8ObX3yc8Gb1jUrIOt31xPkcig77KUMhGRhAENu9vZcsDC/sQXHz/Cl0n+la1LcMwGOocZbBzocR2oMpP255mAquU2La4N7CMgbsYWTHjuNeSTWWZHppFK2j3jIdAlEQOPb8PT8BddFFrqsYHPzrLeN/kIh2C5dA0jaHLo7z//VML9PWrmyvZdqgdp3v5WGnLjgYqG8sX1FSHJyP0nOpnsHO0pP1nElkmBqbpPNaz6uRBf4WXYE3Zgs8mBqYZuTJe8vHnswW6Puhl+PI4uczq4/ySIrH3ye34KnxFkSld05kdC/P6V99jvG9q1bkI64Hb71ok/jQ1OEsmmb2nwhdte5rZcmDTAn2TntMDdB7tXtDWeCXMShKV1792hMhktHh+RElk39M78Fd4b0rIyOLuxTIG7mJkm4yvfKEkbi6TZ2Y0xEj3+D3zIhRFgc37WmnZ3oC3zNRS1zWdwYsjnHr1PCNXxkknlnd7G4ZBIV9gpGuc8+9c5uxbl4p/szkVWrY3sOuxbYjS8kp6wdoADZtrF7RdzaXzdB7r4dxblwhPRlc8hlw6x2jPBOfe7jRds6u00/wVPioaggsU46LTMQY7R7lysu+Gxl8mmWW8d5J3v3OC6ExsTSVpomh2u2vf04zvGk37fK7Ae989wenXLjB4aZRktDSvg66bpYmTg9NEp2PkMmvrWOcNenB6HAsmydBEhPG+KaI3kWi60ahurqBtTzMNHbXFz6aHZ7n8QS9n3rhodj9dIX9AUzWS0TRXTvZx7Ien5kS2zOvq9rs4/NH9Zk6IpZ9yX3JP1JAsJwpz9W/3JopNJlDpo6IuyNTwDJqqo6k60dk4L//FW3z+1z6Bx+9CuFYu1jBMCXDDAN383zaHsqFfAIJgvqye+tIjZDN5zr9zGV3T0XWdv/tvL5CMpXnkUw+Y7aFlCVGcS703rpbyhSci/PBP3uDUaxeYGpopbru6qZLtD3Ww69GtK45BFEW2HGxjcnCG0e6JYgfFi0eukMvk8QW9PPLpBxbuH7N6QFM1xvunOfL9k/zoz95EQEAQKW6jFHxBDzXNlVTUBZnonwLMOv+B88N863dfpL69Bm+ZB0kW57wnAhgGum7eE8Nd43zwozN8/49eQdcN8zurjKsLgoCsyDz9pUeIhxLEQ4miUTHUOcq3f+9F+s4P8vQXH2HLA21IkjQnzgXzF8QwwNB1U+I5k2d6JMTJV87TvL2etj3N1LRUlT6guTH5y70EawJ4ytzEZsz+Eplklg9+dAaHx86Dz+8zdSKK+TVG8d6Yzy2QZOmmV8Tz75pl3kTFfa71WbM77bTsaOS5n3iMP/+NvysagN2n+4nOxnEH3Ox+bCuKXUEUheJ9YBiGmewZTzPYOcrf/Pb3GO4aK157u8tO07Z6Dn90P/abUPa0uLu5Z4wBNacuXgkbxlx/7HvYIFBknvnyo3zr914sdtXLpfN8+/deoufMEHuf3E7jlrriSi6TzJKKp0lG06SiaTLJLF/5f76AfBf0WXjixw6TTmTIZ/N0Hu0BIB3P8M3f/SGv/fW7bN7fyoFnd1PVWI7iUFDzKtGZOFdO9HH0hVMko6kFK2K7y8aX/vmn2PfMzgWtVJdjx8MdAFw80sXAhRHAvPe6T/Xzu//wT3j1r9/l0Mf2UdlghhO0gkpoMsqFdy9z/t0uIpMxBFGgrNqPr8LLRP9U6U1hBHNl+NGfe4o//ddfL34cDyc58eo5funhf8uTf+8hWnY0Eqjyo9gk0vEsI11jXDjSxdDlMULjZqJZTXMlskMmEU4Sm0kst8dlOfyx/SQiKURJ5PTrF4ufT4+EePWv3uWNv3mfmpZKdjzUQbAmUCzLzOcKxEMJZkdDTAzMMDU0U4xZf/lffZqa1tUZAtey+7FthMYjHH3hVPGzI987SfepAd751nEe/MheKhuCCIJAIa+SS+dIRFNEp+KkExkOPrebvU/tWPP+59E1nUK2gHFdGKiQMyWtdd1AktZueNe0VvH8zz5F5wc9nHjprLndvMp47yS/+fn/xq5Ht7Lj4S3UbarGV+FBtsnEZuP0nR2i60QfAxeGF4SVZEWidWcjv/x7P4vdbRkC9zMbfwaYIzab4MTLZzn3difpRJZ0IkMmniaTypHL5MlnC0Sn4wtilslYmt/8wu9id9pxuO04XOZ/XV4nbr+L3Y9tY+uDbTRvb7iDR3ZzyHaZ53/2KU69ccF80K9JHuw63kPfuUFk5eqqyDAMsyRP10EQcPuc/NRv/NhdcSMIgsATP3aYmpYqvvP7P+L4j84W/xYLJTj3dieXP+hBlCQEYa4JmqabL/9MvuhCFUUBT5mHX/nDn2PHw1vwlntKWq0JgsCm3c384//xFf7zT/8hs+ORogGq5lUuHe2m9+xAcf9gahoUcgUK2QKCKFDTUsk//J2f4oOXzhKbiZdsDAiCQEVdkGe+9CgnXzlH57GeYt6DoRtEZ+O89OdvISuS2RFREEyvREEln1PRVA1BEHB47PzSH/wsZ9+6xJnXL67JGBAEgUc//QDVTRUEawK89tX3FvxdUzUmB6cJjUfM0Mucd8Aw5sohVR1N0xfmF9ykvb7/mZ1kkln6LwwxNXQ1qTI0EeHES+Z7o9gpct4joBvomoHDY6e6uaIkY+DEK+fpPNbN1OAMmWSWTDJLLm2+g3KZPLl0nmwqS/raJF4DXvvrdzny3RPYHAqKXcHusuPyOrC7bNidduxOG+6Ai5/5jc/j9DoQl5H4FQQBl9fJP/7vX+FP/83fcOaNi4QnosW/d53ope/cEJJ8tT2wrhtmf428ukCkyOVz8tQXHuaZLz9KQ0dNcfsW9yd3wxwAQDadY/DSKKdfv1i8qecbyGiavmSszNANotPxuUxoEUmWkBQJRTG7xnnKXNS0VtJ8B45nvRAEAX+lj8/8o4/w9jeP0Xm0uxi/LuTUBYly1yOKwi1rMHSrcHmctO9p5rO/9DyBSh8nXjpHPJxEUzXy2cIN6+fLqv207mrikU8+wPaHOvCUuUs+B4Ig4HDbadneyI//68/y6l+9w2DnKMm5Wu1CrrCozfE8vnIPWx5o46GPHaDjYBvDV8ZX3/5YFvFXePnCr32CH/zxa1w52UdkyoyJG7qxYiKh0+ugblM1z3zpUTbva2VmNETP6YFV7X/B9jwONu1q4qM/9wz+Sh/Hf3SW6ZHZonFjhqxKS1KUFQmX14nNvvZ2vC6fix2PdPCZX3qeH/zRq4z3T81N9npxol4eo2QlyfG+SS6+18VYzwRqQTPfP+r8v+V1H+YNB0EQECVhLiwhIykikiQhyhIur4Mv/4tP4XDbV8zmMr1LPj7x95+ltrWKC+92ceVknylmdYNnHsz7uONAK4c/foDdj2+jZUfDqrtvWtx73DV3gFbQiIeTJWfNXothGMUHl2vyzOKh5JqTljYKZhxXYv8zO9FUDV+5h4ELI4QmIiSjKVODXtUxdB1RMuOiil3B7lRweV1UNJTdVasBQRTwBj3semwrhmFgc9gY650kMhUlHk6Sjmco5FQMQ0cQRWRFxu5UCFT68Ff6aNhcy7ZD7Rz+2AF8JXoErkWSzF4JD3/yILlMnspjPYz1ThKdiZOIJClkC+i6gSiJKHazvWtlfZDmbQ3sfnwb+5/Zha/cQ2VDOYptdZOfIAhmRv9TO4jNJiir9jNyZZzwZJREOEkunS9qzYuigGJXcPtdBKp81DRXsnl/K0/82GF8QQ/ltWW4fa4b7HHlsXiDpoFjd9lwuh0MXBohNB4hGUmRiJjPllrQ0DXTPS6KIrIiYXMoprfOY8cbcFPZWE7z9gbc/rWPR5JFqpsreejjB4jPJrj4/hXCE1FSsTSZVNZ8DjQdUTInX0mWsDlk3D4XwdrAiuqT15KKpQlPRgldsxpfDYZhoKkGmqovMlxTURt6CYmd8/fs1gfasTtsBKsDBKsDjPVNEp6KkkmYx6uqGugGsl3BZldweR14yzyU1QTY/8xODn10H5X15VaegAVwFxkD4txLeD0FMdx+V0mxYrvbgbfcu2DfDrd9ze1rA5W+YmKZIAhmhvhNTsiegJsnv/AQe5/cTvfpAU69cp6BSyPEQwkyqRxaQcPusuHyuvAF3QRryqhpqaR5e/2iGu2VUGwynjL3gnPh9ruKpWa3g/lEtv3P7GL74Q76zg/Rc3qAnjMDjPVMEA8nUQsaiiLh9rsJ1gTYfngz2x/qoL695qbvIUEU8AU9fOr/+hAHn9tN79lBOo9203t2iNhsHDWvothlvOVe6jZVcej5/Ww/vJlAlQ9JljAMg+rmSsrryooZ3bIil3QPzB/7M19+lH3P7GSoc5Tz73TRe2aA2bEw6WTWNJLsCr5yL83b6tnxcAeb97XS0FFbzLgvrw1Q2RgsngvZpqzpGsqKRPveFtr3tjDaO8FI1zj9F4bpOztIaCJCOp4hlymgqRqyTcbtdRCo8lNeW0Z1cyWbdjWx+4ntuLyOq278NWKzK1Q3V/CT/+5zXHzvCheOdDHcOcbU8AyxUIJcOo/NYTONF4+DQIWXxi31NG2ro31vS0n7cLrt+Mu9pKrX3htjOexOW8nnYN4g2LS7maZtDTz66Qc4+3YnZ9+6xET/FLHZhFlaqep4gx4ClT7q22vYtKuJHY9spaGjZvWGsCwtegd7g56S3qFL4fQ4KKvyF+WsZUXGbrXEvmMIxr2cbm9hYWFhcd9z/TR3N3lDbxd3jWfAwsLCwsJitRw/O8gr71zmzKUROjZV8w9/6nHqqwNmCbBFEcsYsLCwsLC4JzEMGJmIcPLCEOFIimyuwNRMnPKAG5fTypW4FssYsLCw2PAYhkEurzIdShCNZ0ilcmRyBQoFFd0ASRRQFAmHXcHncVJZ7iHgdaIo8s2m41jcQvJ5lVA0RaGgUVvtR5HXP/dIFOaqpgSw2SQkSbTuiSWwjAELC4sNi2EYqJpOOpNnfCrGyfND9AxOMzYZJRRJkUhm0TQdm03G47JTXuampaGcfTsb2b65lqpyr7UC3KAYhkEileWDswOk0nk+8cwuFK/zxj9cBYIAjXVlPLinhXOXR9m1pY6aSh+OmyhjvVexEggtLCw2JIZhoOkGw2Nhfvj6Bb77yjlyq+iMeHB3M88/uYMPP7H9Fo7SYq3ohsHFK+P889/6DrIk8Ef/749TXxO408O6b7E8AxYWFhuSdCbPC69f4LX3uugdnKEwp6Fgt8tUBr20N1dQEfQgyxLJVI6ZUIKRiQjjc0JM+3Y2sqWt+k4egsUKzIaTDI2GSKayBHzr6xGwWD2WMWBhYbGhMOaaaX37pbMcOdnH4GiIgmrqRjz90Bb27migsS6Ix2XHZpMQBQFV08nnVZLpHKMTUbr6Jjmws4nqitLEhCxuPzOhBENj4VU1y7K4dVjGgIWFxYbCMAy6B6b54MwAgyMhsrkCDrvCYw+288wjW+jYVE0w4F6yNEzTdZobymmoCdBYV4ZzlZLPFrcHwzCYCScZmWueZXHnsYwBCwuLDcN8wuDbx3roG54lmc5ht8s01Ab44icPsqmpYsWMc0kUKQ+4KQ+4S9qXrhukMjlyOZWCqqFqOoZhSicrkojNJuN0KDjsK7f5zuYKJJJZUpk8wYAbl0NB1XSSqRzpbB4BAYdDxu20Fw2UQkEjlsiQy6tz3QxFvG47brcdaYlGRYlUllQ6Ty5fwGm3URF0IwgC+YJGJpMnnc2jajoYpkqmLIk4HQpet8NsabzC+A3DIBxLk0rn0HUDh00mWOZBkcUVf5fLFUikciTnVATLA26cDgX5umuUz6tk8yqFgkq+oJHPa/QNzTIybsrLa7rB2GS0GAq6HkWWcLvsNwwnJFM5IvE02jI9IkRBoKbSh20VXVpzeZVEMksyncNhlwn4XNhtsnnvpHOks6b0sz7XEl4UBGw2CZfDht0uY1tF3wfDMMgXNFLpHLm8iqqZ7b5LSe1TZInaKj+CsDZRJcsYsLCw2DAYhkEmW+CF1y+Qmptg6qsDfOlTD9DRWrVuynGGYWAYEImlef1IFxevjDM4GmI2nCSbV/G5HdTXBOjYVMWDe1o5vL+l+NulxtDdP803XzzNG+9f4Vd+7mkeOdjGxFSMH711ifdO9CLLIgd2NfP0I1s4vK8VWZIYGA3x1e8ep7NngkQiS5nfxac+vIePPbUTr8exaD9vH+vhlXcuc6FrjEP7WvjXv/Q8NkWmf3iW94738v6pPiamY2i6gctpo7bKx8FdzXz2o/vweRxI4vITu6rq/OU3j/HyO50kUzl2b63n//4HH6K5IbjieewZmuE7L53l5bc7Afi1X3iWRx5oo6rcu+B7Q2NhznaO0jc0Tf9wiJHxMOlMHm2uwVw8keVX/8M3l91PU10ZH3piOz/zYw+tOJ53jvfwv776LrNzzcOux+208Yf/8Uu0t1SuuJ0FYx8N8c0fneHFNy6yZ1sDv/jjj7Kzo454Mssr71zm3eM9jE/HSKayqKqOx+1gc2sljxxsY+/2BloaKkoSODIMA03T6RmY4pV3LnOlf5qp2TiJZLakxNmmujL+9L/+FI41ykNbxoCFhcWGIZbIcvRUP9F4BsMwCAbc7Oio49lHtq7rfhKpHEdP9/MH/+ctkumc2fl0zkAACEVThGNpLnWP88LrFzmws4lf/rmnqCr33rAWfmQiwndePkvPwDSnLgyjz014b7x/hcmZOCPjEZ56qIN/+dvfJRJLUZhrTpTO5Pnjv34XgEcOttFUt/RErOk6Q6MhwpEU337pLO+f6mM6lETX9eL4M9kC4WiKy71TvPzOZf7RTz/B3u0NBG6iOdXNcP7yGF/9zgeEY+kF53m9cdhk/D4XsUR2WS/DzTA2GSEcSfH2sW7++jvH6R+eRbtu5R6OpjhxNs2p88O0t1Tx2IPt/PSPHb7htsenYrz01iW+9r3jqKqObiyWUV4Kp8PU1mhpLM3oWA7LGLCwsNgwpDN5LvdOFl+Cbc0V7NxSt66ttscmo5y+OMzXvnucWCKDKAi0NJTT1lxJQ20AmyITjWcYGJllaDTE1GyCc5dH+Z9/9Q6f/chedm+rR5aWNwgu90ySzRUoL3Pzuef3YbfJ/PCNi8STGQbmciBmQgkEQeCjT+/C7bQxHUrw9rFuCqrO+yf7aKoLLmsM6LrBTCjJn3z9CD0D0xiGWUa5ubUKj8tmJlGOR+gemGZ8KsZMOMHXvnuCeCLLh5/Yjn0VLvL14uCeJsoCLvLXrHCPnu7ng7ODJFM53E4bP/P5hyhbpnOl22WnroQGY/t3NdFQFySXK5DLq6SzeT44M8h7x3sJRZf2FqyGaDzD9187j67pjE1Gqa7wcmB3M+VlbgQEEqksg6MhTp0fRtV0BkdnEQTo2FTFob2ty07WIxMRjp3u54U3LpDLa1RXeDm8fxPbN9dSEfRg6DqDY2HePd5L39AMyZTpNfvK5x9ie0ctZT4XTodyU6JNljFgYWGxYcjmCgyNhor/v6bCR1Nd2bptP5M1jY23jnYzMhHFbpN55IE2dnbU0dwQpDzgRpYkUpk8U7O19A3OcPzcIJd7JznXOUpTXRkel52OTcuXLI5NRtnUVMHubQ08sLsZWRKJxtO8d6KPWCLD6EQUVdV4+uEODu1rxe2yMz4ZZTqU4PzlMQZHQoSjKTRNX9YIyuVVzl0epbm+nC2bqtm5pY7aKj92u0wuV2A2kmJz6wyvvnuZobEQ/cMznO8apaWhnN3b6tftfJZKdYUPv9dZ9JIAjE5GOXNpFMihKBK7tzVQW7V09YckiiXF+QM+FwGfq+hyz+VVpmbinDi3PlOdqul090/jcdtpbargmUe20N5chddjBwRT7ng2jt0mc65zlEQqx/h0jGOnB3hwTwuwtDHQPzTDmUujzISSSKLA049s5dDeFloayvF5HRi6QX1tGQ6bjNtp4/1T/QDkCxpNdWXU19z8M2IZAxYWFhuGfEFjfDpW/P/BgHtR/PlmmA4luHhljNMXRwBoqA3wiWd2sbWtBq/HseC72zfXsq29BpfTRv/wLJFYmlMXhgn4nGxqrkReZqKOJTJs21zD4X0tbGuvxTAMnnlkKxevTBCNZ8jlC0yHknzsmV3UVfuxKTLBgIvBsRDnL48RiWdIpLLkCiouaWn1RAMzFHBgVxNPHN5Ma2PFgr93GAZb22tIprOMTUbI5lR6B2Y4eWGIXVvrgNvbuc9hVxap/rkcSnGlLAgQ8DkJlpD4WQqCICDLErIsYbcr69qUKJHKUl3p5cnDm/nc8/sXJezt6KjFblOYmI6TysySzuQ5fWkYTdeXTOTUdYOBkRBX+iYRAK/HwYce20ZTfXCBF6extgy300Yur3L64jDZnMqFrjGefKiD9TDv1s/3ZmFhYXETGIaBqpoZ9vP4vI51myAAjp8doqtvioKqIYkCX/j4AbZsql5kCIA5QdVU+vnUh/fS2lSBLIt09U1y5tIo8WvGuBTtzZU01F5drW3vqMPtMid2RTGrIxpqAsVMc4ddoaWhvKiZn0zliSeyK+5ja3sN+3c1LTIEzLELBHxOfvzTh3C77YiiwMhEhDOXRsyKA4s143Xb2bOtgc9+ZN8yVRoCjxxso6WhHI/bQaGgMToeIZMtoC+RA5DPq8yEEkzNJhAlka3tNVQEPUuGc4IBNw21ZTTMeQIGR8NksvmScgtuhGUMWFhYbAjmjYFMtgCALJuuYVlev9fU2c4RBkdDCIKAy2XnycMdeNyLDYFrsSkiH31yJ067gqYZTM3EOXZ6YNnvK7JEmd+Fx2UvfuZyKNhtMpIkYlckmuvLF0wikiQuMEgKBXVBfH0pHtzTsmIJpSgI+Dx2Du5qxuO2k8urhCIpegdnVtyuxcrs2tbAzi11KMrK8fm6aj9Bv1kKqc9VrixV8phIXa0WEAWoDHqQVvBkOOwywTLzuseTGTLZApp+8waeZQxYWFhsSAQEBNbHnW0YBtFYmlAkRTqdx26TaK4PYrOt3NVQEMx49ebWqmLtfCKVpW94+QnV47IhS1fL+ATBXD3a7TKKLCJJIn7vQgNEgAXaArphoN/gBV9X7V9RVEkw/de0NARx2Mzv5fMqoxMRS/XvJqir8lNd6Vv2vpw77XjcdhyOq2GefF5d8rw7rtFlMAxIpnNLehDmKRT0YgKhNKcnIQo3P5VbxoCFhcWGQBAERFEsxuI1XUfTbzwplkoilSWfV9ENA0mSKA+4EYWVxXjmx1UZdBdXa/m8RiSaXvb7NkVGWGJlN78vQRCWEKK5bhyGmRewEl6P44bZ4wJQ5ncXvSuars+FYSxrYK143PYFXp/lkCQR8Zprupx4kMOu4PXYcbts6IbB6ER02dV+NlcgmkgzG04CUFXuvaEgVqlYxoCFhcWGQJjrO2+fSzTTdYN8XiVXWJ968VT6qsiNJAp43Dd+oZvjAo/bUZzgVU0rCiIthSStrNo3/51lEsuBuan6BvO1Yy7scCNcThvinNdB101RJ8sUWDsOm7ym8szl4vqKLFFd4aOuKoCuG0xMxegdnCEUSZEvaBiG6THI5goMjYUZGA4RiZnG6Nb2Gjxu+4rerVKxjAELC4sNgySJ+K6JnSdSOWLxlZP1SiVfUIsvZEEQbhjzvRabIs0FLUzp3Gxh+Xi+KArF7y7Lery8l5AsXgozZGH+b8PghrkIFisjy9K66l4AbGuv5cDuJiRRIJnO8dff+YCjp/qZmo2TzRXIZAsMjob47stneeP9LrNxlyzyzKNbKS/zrMsYrNJCCwuLDYPTobCpuYKJufLC6dk4oxMRaipvvvug85pSNt0wyOUKJf82l79qSEiiiMt+5xsg5QvqirHleXLXGEGiKOB0KOthiwCgz3WLtLg5tm+uwemQiScyvPjmJS51T9DZM4EkiihzIaVczqxGEAC/x8GPf+ZBHtq/CdsqjNqVsIwBCwuLDYPTobC5pYojJ/oA6B+Z5XLvJAd3N9/0ts3YufniVFWN2UiqJHe5Ptdhb14wx2aTCPjXr9xxrcSTWQolhFAi0TTqnOSxJAr4vCtXT6yGfEEjkVo+ZGJRGoIg0FAb5Gc+/xDRRIaT54fRVB0EgXxBNRtwBd001paxta2G/Tsb2d5RZ3qs1kkvwjIGLCwsNgxup51dW+qQRAFNN5icjtMzYDZsqSr33tSLz+u2E/A6cdgVCqrGxFQMdU5vYKXt6rrByHikWJ/vcthKksa91cyEEuTyK3s3DAMmZuLk58Ia8lx8eqk4hSyLxU81XSedzd9wDJlsoZjMthZun+zRxieRzHKha4yRsQgVZW4O7GyipbECRZEQBTPR0Od1UFHmoabStyCcth5YxoCFhcWGwWGXaW2qoCLoZTacIJ7MMjQa4vTFEZ55ZOsNW+ouh1nap1BXHWBwLMTUdJxQNMXUbILaKt+ybWbnZW27eieKjW+8bseSQj+3m6HRMPt3Lj9hz+s2DI+FyeZURFHA5VCoqfQvTjgTwGG3Fc9tQdWI3iBXI53JF8s114IoCsWwjapebdV7O5URNwoFVWN8Ksqr73UxMhHhmUe28MyjW9m5pW6RcuOtwkogtLCw2DDIskTA5+TBvc0452q0xyaj/N0PTjE1Gydf0Bbo21+P2RHPWNSFcJ7tm2toqg1iYOYBHDs9QCK1fF23bhikMnneP91PPq+iyBIVQTfbN9es1yGvmQtXxglFUksqCs6fg1AkxZX+KTLZAk67QnmZe0mvhlmC6ComJWayBYbHw3OZ7IvPjWGY3pLB0RCJ1MpKicshy1IxiTOZzpHNF4rVHvcbyVSOwdFQUczqqYe20NpUgd0mr4u6YClYxoCFhcWGQpElfuFLj9JQW4ZNkcnmVXqHZvi1//BN3jzazWxkZbe0rht0D0yTTC1eNT/6QDu7t9XjcdnRdYP/8433uXB5bNmKhbGJKF/99nH6hmZRNZ0dW2p5YE/Lst31bid9QzO8dbSbc52jS/49FE3zP//6HVLpHIZhsKmpgocPbFpSp18UhTlNfXNynpyO871XzhFPZhZNRoZhEE9m+P5r53j9SNeax+/zOIt9JwwDTl0YZmIqdoNf3ZukM/mikBDAsTMD9A3OEE9mb1sZqBUmsLCw2HAEfE7+wU88xrdfPssHpweK3ed+78/eoLzMTW2Vn6b6IAGvC1kWTJd1IstMKMHwWJhEKse/+ycfZf/ORoRr1NlcThuPPtCGAfz5371PMp3jd//0dba21bCjo5bWxgrsdoVINMmV/im6+qboHTDVBmsqfXz48e08fmjzhnBlV5Z7eOd4D529E+zcWs/ebQ34vA5SqRz9I7OcvzzGxSvj6LpBwOdk/64mnn5465JjFwSB9uZKOlqryOZVYvEME9Mx/ulvfoOnH9k6p3ZoQ1U1hkbDvP1BN2OTMSRJoLk+yNBYeNXjb20sZ/e2hmLTqK995zhdvZPs2lpPXbUfSRTJ5gokUzlsNpnm+iCbW6tuuF3DMNB1g3QmTzZfIJHIFmWADcMgFElS5ndit8nYbYqZK3GHr2dluYfWpgpqKn1MzsR57b0u3jvRiyJLCOLVQlUBsyTW5bJRVx3goX2tPLCnmfIyz003Y7KMAQsLiw3FvErf5tYqPvbUTqrLvbx/qo+xyRjxZJZMtkAokmJoLIxNkRFFM+acK6hksubkoWl6McZ/LaIoUFvl5+EDm0gks/zg9QtEY2kudY8zNhXF53EgiSK5vEo0niYWz5DJFWisLePzH9vP3u2NJYsV3Wo++5G9HDszyMh4hGOn+unpn8amSBRUjUQySyiaIpdX8XrsfOzpnTy0f9OSDZngqu7CR57aiQGcvjhCOpNnaCzMK+904nbZkSURXTdIpLJMTMdob66itakcr9uxJmOgtsrHnm317Oyo42L3ONF4hrOXRhkaC+N2mvkL89exrtqPdLhjSWNgPhz0nZfPMjAyS6GgU1BVVFVH03XGp2JEY6bnJ1fQ+Op3T+Dz2BElEVkUkWUJm03mwM5Gdm6po3Idu2SWiigIBAMuHtjTzAuvXyCbK5BdpvRVFAUUWWJ6NsHkdIzeoRkO7Wvh4K7mm9I/sIwBCwuLFUlmckzFkvRNhJb9zsH2BrwuO4q0PjXPAH6vk91b6/F5HNhtMheujBOOpkimcnN94xOoqmb2D5BEFFnCbpOpqfQRDLjmsq0Xr5bcLjvN9UGee2wb0USGodEQkWiamdkEI+MRdN1AkUWcDoWA30V7i5u9Oxp59MF2gn7Xgh4Cd5J9OxqRZYkLXeMMjYYYGg2RyRUwDANZEnE4zE6I2ztqefzQZloaKm44WezZVk88kUGWRAZGQoSiqeI5mTcYvB47WzZV89CBTbQ2VhSb7KwWz1wi5tOPbEE3DKZDCdLpPJG42dBHEgVkRcJhU/C47StqKhiGwanzQ5w4P0ShoC3bmVHTdE5fHF7wmSQK2GwyLodCc0PwthsDyXSO4bEw3QPT5AsaDrtCMOA2G1uJ4oJkT90wUDWdXE4lHE1xuXeSSCyNJIk01JRRXxNY8zgsY8DCwmJFJqMJXj3bwx+9dGzZ7/zvf/Q5tjVWozjXzxgAU39/19Z6tm2u5dKVcc5cGqF/eJbpUIJEKkc6k0MQTCEdr9tsd9zSUM6+7Q001pYt6zp12BW2tlXzT3/uad493sul7gmGRsOEoknyeRWPy05NlY9NTZXs3dHAg3taVnQly7KIx20nGHAT8LmW7LTodTsI+l3Y7QquaxrYgCl5rMgiwYAbwzBwO203nLhtiszHn9nFwV3NHDszwMkLQ0zNxNE1A5fLRnWFl307mvjYMztxOW0lGTEBn4sPPbaNHZtrOXK6nzMXh5mcSZDPq8hz6pDtLVU8+9hW2psrURSJ/uFZggEzh8Julxfo8d+IiqCHzz2/j5pKH0dO9TMyFiYcS5PNFbDbZLxuOxVBDx2bqm840cmyhNOhrNi8aeXfL31+JEnE47IXj9FhV0pyyTvsCn6vg2DAhSSZHohr76H5XIyB4Vm+98o5jp0ZIJMt0NpYwcHdTZSXeXA6lOJ1MzANgXQmz2woyakLw/QPzzA5E+di1xhNdcGbMgYE43alKlpYWNyV9E7MlmwMeJ0bw4V+L/LC6xd45Z3LxZXt//qtH6e1qbxYdWFxd2EYBrm8yq/9h2/S3T+Nokjs3lbPf/z1T96wv4Wm6UTjab7y639FNJamotzDA3ua+Zf/8CNrHs/G8HdZWFhYWKwKaxV3d6PrBmcvjTIxHSeTK1BT5eOTz+0uKe4vigIBv4v6aj92u0w+r5FK31gkaiWsMMEGRdN1/uy1E/RPhldsilIKogCiYLaGdSgyTruC227D67JT7nVTX+6jLujD53LgWEZ8xcLCwsJi/TCA2UgSdS7R1abIVMw1HSqlusEwzEZemqZjU6RFoafVYr35NyiGAecGxjndN0ZqFQ1VlkLA7HAmiQIORcZhU3DZFTwOO2VeJ7VlXmoCXir9Hip8bqoDHhor/CjS+uleW1hYWFgsRBSFYo5roaAVWxOvxHx4oatvilgig6rpuF02aipvLvHRMgbuAwxMT4OmQ17ViGeWbiwS9LporSrjYHsDz+3ZTLnPjdthwyZbRsGtRNd1svMd6AxAMDvjOW13vjOehYXFrUEAKoNebIqMIEAskeH0xRE6NlWblQSSaCZjCle1E1RVJ19QmY0k+e7LZ0kkswhAVYWPzZuqb2o8ljFgUSScSBNOpDnVN8ZfvnmKTz24g2f3bmZPS60pfmEZBOuOYRjEMzneudRPbE7WVRJFqsu8PLO7/Q6PzsLC4lYhigJ7tpsCS/FklsmZOH/7g5NMzsQ4vK+V6kofbqcNcU73YjaSZGQ8QvfANBevjDMTSgBQXxNgz/Z6Du9rvanxWMaAxZJk8irfOnqBdzoH2Lepnl/88IM0V5ZZBsE6o2o6g9MRfuubb6FqZuxQkST2t9VbxoCFxT2OIkv80s88xbdfOsO7x3uJxjO8fayH9070zYlvzX3RMDUGDMNA0w103dRReGBPM1/65EG2tdci34TgEFjGgMUKFDSd6ViSD7qHiWey/MonH6OpIoBNXt9a8vuZUCLFwFSYdO5qJrBuGBS0G/ept7CwuHuZX1g11JbxYx/dz74dTVzoGqOrb5KpOQGmfF5DN3QUWcLltOH3OgmWuamr8rOtvYatbTXU1wRwuWw3vVCzjIG7FEEAp02h3Ote8Xu6YVqRqqZT0HRSuTyqpi3q5rYcqqYTSqQ41TvGCyc6+fzDu6n0eyyDYJ0IJdIMTkfu9DAs7gJaG8t54vBmNjWZ7ZNNMRvrObzbcToUWhrLKS9zU1Xupb2lknAsRTaroqoahmEgyRIOu4zHZcfndVIR9NBSb/7mZnsSzGMZA3cpkihS6fPwyLaWFb+n6ToFTSObV8nmC0zHUyQzOXIFlbyqkc7lydxATtQwIJ3L880j59laX8WBtnoqfJ7FPdEtVs1sIs3g1Op13S3uP3Z01LGjo+5OD8PiFiCJIgGfi707XOzd0XBHxmAZA3cpdllie2MV//xzT5b8m3lvwGwixVgoxpWxGd660MfJnlEKmnZDEZNEJs+fv3YCURB4ds/G6Nx2N2MYBlPRJN3js3d6KBYWFvc5ljFwH1LhdVHucbGzqYZPH9rB0EyUv3zzFCd7RpiIJFb87ZXxGY5cHiTodXGw/c5YsPcK0VSW8VCMiXD8Tg/FwsLiPseSI76PEIT5fwKiKCBLIjZZoqkywC889yA/++wDPLSlacVtGAacH5rgg+7hFb9ncWP6JkNMRpOWrKyFhcUdx/IM3OcIgqlK2DRXNiiJIlPRJP0rxLGnIkn6J0NEkmkCbqcVLlgjQzMRZmLJOz0MCwsLC8sYsDARBGiqDGBXZAanIwzPRFH1pXuCp3J5pqJJRmZjBNzO2zzSu5/53I3hmQiz8dSdHYyFhYUFVpjA4jrKvS5+4sl9pvLVCiv+RCbHhcGJ2ziyewlTPKRvMsxU1PIMWFhY3HksY8BiAZIoUO5189EDW/G5HMt+L5HJ0TU6cxtHdm/RNxliJpokk7+5JlQWFhYW64EVJrBYgCAIiALs31TP2xf7iaYyS34vV1CZjK5ceWCxGN0wyBVU3u8aIpZeumHUvUauoBJOprk8Ms3l0Wmmo0kiqYypd6Fq6LqO027DaZNx2hR8TjtttRW01QRprAxQ4XVj3yCttTVdJ5rKMjgVpnt8luHZCKFEmkQmRzpbIK+qCAjYFAm33YbP5aDK72FzXQWb6yqoKfPiX8HI3igUVI1YOsuFwUm6x2eYjiWJJDPE0lmzqZau47ApxZboPqeDtpogLdVBGir81JZ5cShWo627iY3xhFlsKAQB2mrLV3wBFzRtWUPhWgzDIJHN8633zxNfZvLzuxzs3VTH3tbbJ6hiGAapbJ4XTl5e1lXvsim01Zbz1K62VSdJzgs6hRNpQok00ZT5Io2ls0SSGc4PThBLL33+dN1geCbK//jBe6s+rqVorQ6yraGSzXWV67K9pZAkcYEIlWEYRFIZLo9M0TcZZngmykQ4zmQ0QSKTI5MvkMurqLqObhjYZAlFklBkCYci0z0+S4XPTaXfTX3Qz5b6Sna31OK0KyuGr24FhmGQzOa5MDTB4FSEsXCcqUiCqViSSDJNKlcwRbwK5vEIXK3UcdgUvA4bnSNTVPo91Aa9NFUE2NpQxebaimJ1z3oTS2cZmo7w5oW+RX+TRIGf/9Ah7Es0H4umMvRNhOidmKV/KszobIzpWJJENkcmVyCTV4sKprIkLrhmPeOzlHtdBL0uaoNedjZWs7u1DpddQRItJ/RGxzIGLJaktsy7ouSwqukks6WtbLP5Am+e7+PC8CS6vriQrsrvRtN1ttRV4rTfvtXEaCjGd45epGts6XBHdcDDpw/t5Mldbaz0up5vHjIRiZuTXEEllc0TTmaYCMcZDcWYjiaZiaeYjacIJVbuWa4bBuPhOH/22ombOLqrPLFzEw5FvqXGgE2SEAWxeC6mognODU7w7qUBLg5PMjIbw1hBAztX0MgVrvZjmNe7kCWRKr+Hg2315Aoq2xqrCbgdt8VTYBgG2bzKTDxF9/gMb57v4+LwJBORBLnC8qqdBgZ5VSOvaiSzeWbjKQbmJKf9LgfNVQEOb2khr6rUl/vxOOzrLu+dzOToGp1e8h5SJInPP7Kbcq8bWRIwDAPDgMlogkvDk3zQPcLZgXH6JkJmW+1lmD9G5l4D855CSRTwu5wc3tJItqCypb6Kcq/rtj7bFqvHMgYsFiEIAi67DUWSEAVhyReC6e6+cTMdQRBw2RSe2dNO19g0OX3xb6ZjZrOe4dkoW+pv3YR1LQbMueqzy34n4Hby6LaWFQ0BMKsDktk8f/nmKfonzdVUJJVZccK413DYFCRRQNMNwsk03zhynr959xzZm8yJUDWd8XCc74fjvHK2h3/yiUd5ZFsLDeV+pJvs0rYSumGQy6v0T4X4/vHLfPP986ja0tU1qyGWznJ+cJLzg5O8evYKv/DcIfZuqqM64L3prnOlohsGQzNRvE47kqigGwbpXIFvHDnPd45eJJrK3JT2xfw98OKpK7xxvo+feeYgT+zcREdd5W07RovVYxkDFsvicijYFInsEr0LDINlSw+vx2lX+NjBbfzZqyfJF5Z+0XSPz/LWxb7bZgxgGLx2rptIcmlXvd/loLWqjF0tNTfclG4YJDI5/u698+s9yrsGt93smnaiZ4S/eOMUR68Mrfs+sgWV//Ltt3h6dzvPH9jCc3s71n0f80zHkvztu2d5+XQ3Y7dIIXJgKsK/+drLPLKthY8e2MpHD2y9Jfu5HsMw6B6foX0uFNg3Eeb3f3iEdzv7S25gVirZgsofv3SMkz2jfOzgVj778K713YHFumEZAxbLksurqOrSE74oCiW7akVBIOB28uCWRk50jxBZItdgeCbKqd4x0k8VcCryLRUyyqsaIzNRBqejy67e22vLOdDeYAkqlYAggE2R+NGpLl4928OZ/rFbti8DONo1RE5VCbidPLC5cV23rxsGQ9MRfue7b3N5dJpIcnnP0brsTzc42TPCZDjB6GyUn3/u0MI+9reIgckw+YLGkcuDvHiyixM9I+tuCMxjABeGJ0nn89SW+zjU0XTb8z4sboxlDFgswjAMCppOXtXQlln9S6KI21ZaDNBUNoTDHU30jM8uaQxkCyrTsSSXhibNSfimjmBlsvkCp/vHyBXUZd2hzZVl7Gi6sVfAAuyKQufIFO93DdE5MkV2CQNLEMyEzOaqIF6nDYeiYJMlJFEgU1CJp7PMxlOEExlSufyK+0vnC1wZm+H7xzvZUl+F5waaGKVSUDXCiTR/8cYpLg5PEUtlV4yZAwTcDqoDXnwuR7EaQtN1MnmVTK5ALJ1lLBRb8pzMk8mrjMxGee1cL02VZTy2vRW3w3bTx7MchmEwMhPlwtAkZ/vHON0/tmyJq8uu0FgRwOu045yrHpi/ZslMjnAyw8xcJ9SVyBVURmZjfOv9C2ytr8LnsltJhRsMyxiwWJJEJrdiJ0NFFPGuskRqb2sdL52+wuhslMJ18VfDMIins5zoGWF/Wz23amlkGAaZvMqJntElkxkBfC47DRUBmioDJW1TEMChyDxY4irVAMZCMWbiKQrq4hwKAfC67Gytryppezeio66CoNe1LttaClGANy+YyXXXJ0e67AplHifVfg/VAS8d9ZUE3E7cdgW7IiOJIqlcnkgyw0QkwXg4xshsjOGZCJl8YdnVaiiR5tiVYXonZtnVXIN4kwl4um4QS2f5oHuEV8/2kMrllt23XZEJepzUlvlorPTTUBEg6HHhtit4HHYKmkY6VyCZzRFOZMweFJEE4+E4iWxuyWueLaj0jM/yw5OXaazw01IVvGUGgYGZPPv2pX76JmYXVdM4FBm/20FNwEtd0EdbbQUBtwOPw4bTpiCLIql8nlgqy3QsxWgoytCcamk6V1jWgEpmcxztGqJ3YpYdTdW47LfO4LFYPZYxYLGI+clqqZfWPDZFotLnLnmbgiDQVltOS1UZg9MRppfQ5E9m87zXOcjPPfcgoiDcEhf9fHz/RM/Isi+tzbWVNFeaq6FSEAWRoMfFb//U8yV93wD+z+sn+dHpK0vKEUuSyObaipK3dyNsioxdWd9s9WtJ5wp8++jFRZ/bFZm22nIe2drC07vb6KgzjZuVLms8neVs/zj/+9Xj9I7PkiksbRDoumk8vnymm456MzHtZu6XbEGldyLE/371+IpVMjZZoqHcz6PbW/jcQ7toqPCvuMI1qyt0zvZP8K2jF7gwNMFkJElBW/xs6YbBO5cGaKsp58P7OthSX4Uo3hqjeCwcZ+x456LP5xuXHWhv4BMPbGNbQ/UNwxbZvMrpvlH+9NUT9EzMksjklny2DMO8V14520NjRQCnTbHCcBsIyxiwWIRhGJzuGyOdWz4T3O2w0V5XvuptP7S1mXAizWvnexf9LVdQuTI2Q/f4LJtry3GUGIZYDdPRJOcHxwknly/ve2x7C201qzs2UaTk1bcBOG0r18srsnRLV/O3GlEU+CefeIRn9mym2u8p+Xdep53HdrRyoL2B3/7Wm3zQPcLUMuJWuYLKCycv81NPHcChyMjS2ieWD64M8/3jlxieiSz7HZ/Tzpef2MdzeztoqwmWvG1JFDnQXs/+tnrODYzz0ukrfP29c8t+/6/ePI1NkQl4XNSWeVd1HDeDIMAvfOhBnt7dfs39f+NzalckHtrazN5N9fzRS8d4+2Ifg9NLn0fdMPjhyct84oFtlHtdKOtcUmmxdqygjcUCDMNcdb3TOUAyu3zs1uu0s72hetXb37+pnu1N1Sjy0reebhi8dPrKsgJFN8vIbIyjXcu3X/Y4bOzdVEddua/kbc4Lx5T6r/Ttlr7N9dzvzRJwO/j1Tz/Oxw9uo9LnvmYMN47+zI/TaVf4v55/iCd3blpWsc8AUtkcZ/rHlsxDKZXhmQhHrwyuWAHhtCv83599kk8+uJ3mqkDJ53XhNYAdTdV8+Yl9/OyzDyxrDKq6zuvnevjuB4u9LbcKmyzx659+gk8f2klzVdmarpnDJvMTT+7j04d2ULZCA7N0zhRwmojcmioNi7VhGQMWC8jmC1wcnqJ/MrRspr0siZR5XGsqA/Q47TRWBpaNh+uGwQfdw0TTmWWTF9dKQdOYiMS5NDK15N8FzLyGoLViWTOVPjeHOpp4YkcbXqdjTUlipiS2QKXfzYG2evZtql/2u4YBA1MhUjdIYFuJI11DdI3OkFmihBZML81nDu1g36Z6Kn1uFGlt94YgCNgUmZoyL8/v38Le1jqctqWds+PhOJeGJukZn1lRrGk98Drt5jXbuYkyr3NNxzd/zYIeFzuaanhkW8uy3zUMs3poubJeizuDZQxYFCmoGjPxJG9d7Fsxk7rM46Sh3E/lKty/88iSSF2Zj13Ny2fqD89EGJ2NkbiJF/xShBNpxsNxppdxOwuCwAPtDXgddqv0aQ1IokhDhZ/Hd2yiocJ/0/FuRZLoqK9kd0sN0grbGp6JkVohpLUc85LUZ/rGGA3FlvyOLIlUeF18aF8HVQE3tnVQPpzPpXhyVxs+l3NJR3w6V2BkNsbJ3tGb3t9KiIJAhdfNU7vaaCj3r9nQmUeWRJoqAzywuXHFazYejq8o+GVx+7GMAQsANE0nnExzaXiK7x67uGJJVXtNOTuba9actFVf7uNge+Oyq8ZcQeP84CTj6yz20jM+y+B0ZFElwzyKLHF4a/MtLeu6l/E6zQqIJ3dtWrdtNlb46aivxL1C5vnQTOSG5YjLMTIb5crYzLIS0R6Hje2N1extrcMmr1+KlSgIfOzgVuqDvmUNjNl4itfP9aLp+i3zDrjsNpqryvjQvvUTcKr0u9nRVI3bvnwC7mgoVlJvE4vbh2UM3OeYuuQGo6EYf/feeX7ne+8STS1vsSuyxMHNjTy+vXXN+yzzuNjaUMnm2vJl45HvdQ7QNxFat5egYRic6huja3R6yb/bFZm2mnLaays2TIe8u40DbfUcaG/A4yitCqMUZEki4HbQXlex7HcmIvE1yR7rhsGrZ3uIr+CBqi/386XH96562zdCEAQqfG6e2t1Ge+3SyarJbJ7OkWkGpiIlq32ulq0NlTy2oxWv075ueSWSKOJx2NjSULGsh206mlx3z5/FzWEZA/cxBVVjZDbGH710jF/9sx/w1XfOLFnqdi2ffGA7B9saCKyQIFQKHqedTzy4fVnvQP9UiJ6J2WLDmpuh2EFvdIqRZdzBfped/397d/rbxp2fAfz5zQw5vE/x0EEd1uVDjh0njpNu0jpn08W2XRTdRYvtART9B/Zl0aIFir4p0Dd9U/RVXxTYouiLdoHFNt1Fmm02u9nciaM4tmXJsm5KFCVSJMVrjr6g5RyaoWRJlCnz+bywDQxNjkya88zv+H5ffXys5ZXfHmXnB5I4mzqa2ghf5lWdTVfvlyr1A/UNMEwTb30+a1swx+VU0B0O4LHB7gd+7v26PNKHgVjY9nhd1/GzyRlUbdYzHNZwMopLTdZkHJRTke93ZbRSrmmo2VQ3pYeDt0CPKNM0oZsm6poO7V41wVKlhrV8EdmtEtbyRSxltzC7toHl7BZW84WmjYeEwP39z0OJyKHng91OB545PYB//p93UKzsLvCiGybupDcweXcFPZH9r+y388mdZWS3tqFbXDQEgIDbhadPD3CtwAGFvW70dQUR9e+/9sR+KbKMgNu+wJVuND7fdV3f95y3phvYLJSxvLFluecfAPqiQYx0R4+8o+CXpbpC6IkE4HerlnfKumHi2t0V/H4LavoHPS70RAJItmD7oiRJCHhcEBCAReky3TBQ13TUNO1Ip1/o4PgunFB13cBiNo8fvnvd9jGGYaCuG/fDQLlaQ2arhM17JURXc0VkLIr/fN1OS9JXHh/DWG8MAc/hh4EdsoTeaABDiTBuL2cty6EurOdwfWEVL10cPXQRoo/vLNkuWPK7VfREg0h1hQ78/J0uHvIh6HXDZbM6/jBkSezZ/rau6ahr+w8DOztLtqs120qD8aAPfdFgS7dl+twqYkEvugIeyzBgmEZjZ4+mwTDNIw2rUb8HEZ8bnha0FpYE4FUdTcsUaHqjBTLDQHvgu3BC1TQdk3NpTM6lW/o6stRoMnR+IIk/eO4i/C7nkXw5CiHgVBQ8PT6A9GbRMgwsb2zh5mIGxXIVgQcsfbzDNE1ouoGPZpZtaxckw36cTcVb8qXYKXojQXhaUCQKuBcG9ljHUdf1B5oqqNY1zK5uNG3O0xXwtuSu+esiPg96IgHMru4u1GOawMrGForlGqJ+40hHKZJh/4H/X+1FCLFn0TBNN5pWOaXjxTUD1FRPJICXLo7ib7/3mwi4VUhH2FxEAHj10jgiPuv1BzVNRzpXwNuHaIer6QbmMpu4s2o9+gAAQ4kInh7vP/BrENAfCzVd8X84AmKPz51pWg1G26vVdczaVMnbEfF7kAg9+PbZBxXyuZEM2U+FmQDm13NNyyQfRG80iKC3NWEAwJ7fFSbQsk6J9OAYBsiSU5Hxe89M4C+/8yK+/9vPIbDPOv0PajAextn+hO2X7kZhGz9+/+aBvzTKtTp+8tGU7V1j0OPCaE8XJtih8FB6IoE9h/LbSU3XsZzdgtkkQkT9HsSDxzEy4EZ3pPnrLGXzTSuCHkQi6IO/yVoM6iycJqD7hBDwu1Q8NpjEq5fGMd4XQzLkh8uptGTeVAgBWQg8MdyHlY3Cru5pQKN06c3FNaRzBcSDPijy/vOraTaaqLx9865tGDjXn8RgPPxAz0u7eVRH0yIz7WanroZdFlAdClwOpaWLB3d4VGfTBZIAkCtVUGvSBvkgXKrDtiw4dR6GgQ6nyBK6Al4kgj7EQz70RoI4k4rjylgKAbcL8jFcJM+k4picS+OD6cVdK7v1e61lP5tL4xtnBqHI+x+KrtTqSOcKmMvkbIsoneuPI9UVYve0Q3I6lCOdQmo13TBRLFdtxwVUhwyHIresa+CXOWRpz9oWxbJ16+PDUBUZygl6z6i1GAZOMFmSmramFfd+bVznBCSp8XdkSYIiSXAoMnxuJ073xnGuP4EzfXEMJVrXR93OQCyMgVgIYZ/bsrWxbhj45Y27uDTcC4+6/7anuVIZU8sZ2+ImqkPGmb74kWxd7HSqQzlRIwOGaWC7SdVCp3J8P48sS3v2wtiu1WwrZx6UQ1GOJezTycAwcELJkkAs4MX5Qfu5biG+uPg7FRlelxMRnwddAQ/iQR+6w4FGDflj7mr3dYosYbg7iitjKfzo/Ru7juuGiZ9NzuBPXngCYZ8b8j7O1TRNrGwW8E6TDoWn++JIxUItW1HdSVwO5Vjuoo+KaTYWqNpxORQo0vE0q3LI8p4jA3VNb1oi/CBUB0cG6AsMAyeU6lBwYagbf/dHr+7r8Ttf00KgUQhkp+1u607xgYz3xlA4P2wZBgAgv13Bu1PzcCryvuoBaLqBhfWc7U4EAeC3Lo0j4vMc4qxph7TzuTohTJhN77QVWTq2cKPIEhx73KFrmgnDONow8LBvAqi9MAycUAKN/8zHscDpOPhcKlJdIZxNJfC5TYvhd27OYyge2VcYuLO6gZl0FmWLbnYCjTB1ZWwA/hbtkqD2JiCaXoDrugH9iC++djTd2HMKQJElVsekluIYEbUFRZYQ9rpxeaTP9kvv1nIGS9l807neHTPpLGZXNyyHVh2KjOHuKOIh355ztfRoEqIxZ26nrukwWtQc6Ot0w7AtibzjOEcqqDMxDFDb8LqceHq83/YCnd4sYH49Z7kF8cs03cD0SqNdsRWX04Enh/ugKjLvtjqUJETTefqaph/vyIDWfNug03E8OxuoczEMUNvwqA5cGulFV8Bru+//5mIGn8wu32+9/HWmaWJru4Lby1ksrFt3KPS5nLj62PCJWv1OR0uWJAQ9qu0qh2q9Ds3Qj6yFdjN13WjaJAxo9M94VKYEqT0xDFBbccgyvnX5DII2K/yvz6fx3tRC05XVP79+B+nNguUXuc/lRH8sjAuDPVw81cEUWUIs6LNtpFOuaShV6qgecaEfK6VKFZvFctPHRP0euPbYcUB0GAwD1DaEEJCEwEuPjdjWTN+u1rGUzePa7Irt8/zq5hzWCyXLY73RIK6Mpe5NDzAMdCqHIqM3Gmi6AyJXanT3bLVcqWJZX+PL4iEf3C3r/UDEMEBtqDcaxGA8gpBFIDBMExvFbXw4s2h5LL9dwXQ6i6JNoaHusB8XhrobWyyZBTqWU5HRGwk2fUx+u9IoWdxihXIF2T1CRyLkb1lXSCKAYYDajBACXpcTZ1MJJELWzVvypQo+vrMMzTC+MhWgGwbm1jaxlitaFpTxqk70RAIYTkZbdv50MjgVGalY8zLUuWIZ6/nWjgyYZuPzvNYkDLhVpTFN4OQ0AbUOwwC1pStjKQwlIpbHCuUqPptPI1+qfGXtQF3T8faNOdttWkOJME4lowh5rVsmU+dQHQpGu6NNG/WkcwUsrOdtF6seBcM0kdkqYXE9Z3lcEgIDXWF4VSdkVgukFuKni9rSRH8S470xdAW8u46ZaHQjfP3aNCq1LxZ41TQdb0xO25aZvTLej3P9iVadMp0gkhDwu1VM9Cfhthl+n17JYnJuBVoL6w1Mr6xjdnUTuVLF8rgiS3hqLMWdBNRyDAPUloQQGO+N4amxlOVxTTfw1ud37q/2LtfqWNnYwuzqpuX+cK/qxER/EoNx69GG4+Zy2tfy13UDtXu16I9ja1snEvdK8T57Zgg+m8ZctbqG1VwRnzZZrHpYH99ZwmI2Z3tckSQ8e2Zoz94FRIfFMEBtSYhGN8PHBrotCwMZhoGppQy2ylXUdR1b2xXcXMrYThGc7Y8jHvS1zbyrW3XYFjwy0Qg7xYr1Ikg6GkIIPDnaB79HtVw7YALI5Et4Y3IGJnCkwWynHsZHM0tYtKmH4ZBlxIJejHRHbetuEB0VfsKobcWCXgwnI4jZTBVk8iWsbGyhXK0jv13BjYU12+d6YrgXIZ+7LSoOCmDPOeC6piPT4sVrnU4AGE42el3Y9ajIlcp4b2oB6c3CkTYKMgHcWFzD1PK6bY0Bn9uJM6kEIn4P1wtQy/ETRm1LdSiIh/x4YqTP8rgJ4POFNWwUysiVKrYNjiRJ4OnxAYTbaOFg0ONqere3XatjajlzjGfUeYQQ8KhOPDM+gKF42PIxlbqGucwmfjY5g1K1diRthA3TRKVWx3++PYn1rZLlcwoAiZAPL18cPfTrEe0HwwC1tajfg29dPmNbE+Da3WUsb24hky9ZjgwosoSRZBRjPTF41PbZpz3eG7NduAYAG4VtvPbhLXDJQOt984lxPH6q1/b9qNY1/OOPfoH3phawWTh83YHN4jb+/a1r+Oknt1GwqYcR8XtwNpXAC+eHD/16RPvBMEBtzas6cX4gif6ukOWd9NRSBtfnVzGf2bRc9e12OvDK42NQZKmtyg/Hgz7Eg154bQJKsVLFh9OLeGNyel9dGung/G4Xnjs3hN956qztY6p1Df/wwzfxX+98hpmV7IFexzBMXJ9fxb/9/BP8y+vvNx1luHp+GN++cq6tPrP0aGuP1VRENiRJwOV04JnTA/jxBzd33UltFLcxs7Ju+aUp0Gh+9MzpgbZagCWEgCwLjPZ0YWE9j5n07ouLaTZKL//gzY9RrtZx8VQPusOBA/0cOwvfeGGxJkkCI91RbFcHMTmXtp1uWssX8dpHt3B3bROXhvvwjTMDiAW8kJrM5zdqFAB31zbwzq15XLu7gpuLa7YjAgBweaQPl0f6MJSI8D2jY8MwQG1PlgSeGR/A/03OoFiu4sv3U9W6jul0FrLFl6bL6UAy5MdQPNIWCwe/bqI/iZl0FndWs5bTAYZp4uM7y/C7VKwXShhORhHxeeB1Ob8Y6TAbj9MNA3Vdh6YZqOuNP1frGip1DaloEPGQj8WWmgh53RjvjeGFx4axlM2jUK7uunPXDRPTK1lk8iWkc0UUK1UMxMIIel1wOxU4ZBkORYZpAnVdR13TUalp2Chs49ZyBr+8cRdzmU1sbdsHga6AF1fPD+NMKo6ATbMuolZgGKC2JwmBJ0f6EPF7sFEs7yoqNG0zbBv1e3B+oBtem33kD9ul4V7cWsrgvakFFCvWUwGmaeLN63fw7u15xIM+nO6NYSAegdflgCQkmKaJum6gXK2hVK2hUK6iUK5ha7uCjcI21raK+N6vP44XLowwDOwhFvDiu89ewMd3lnFtdhmlas0ypOW3K3j/9gLev72AZMiPke4oEiEfAh4XAm4VummiWK4hv13GWr6Iybur2CpbFxXaIdBYMPvUaAqvPD5muYOGqJUYBqjtCSHgc6t4ZnwA5ZqG2dWNrxy32//dFw3iNyZOHccpHkjA48JTYymsF0r4j1982vSxlZqG+UwO85ncA7/OUayA7wSSJCHgVvH3f/pN/PUPfoJPZpexsUdr4XSugHSucOjX9rtVPDHSh7/5w5ehKjKnB+jYMQzQifHihRHMrm3uCgNWfC4nBuJhXBjqPoYzO7iJ/iR8LhXpzQLeuj4LXrYfPq/Lib/67kv48Qc38NNPpjA5l27p651NxfH8+WF899kLUFl2mB4ShgE6MQZiYQzGwoj6PcjuscVrtKcLoz1dbV/TXZFl9EYD+LOXLsOpyHh3ah6FMncPPCxCCAgAIZ8LL14YQV9XEL+8cRevfXgT29X6kYa1kNeFly6M4vJoCmdTcQTvrRHgqAA9DAwDdGL43CoGE2EMJSL7CAMxnEq2/2psIRrbH88PJPHqpXGoDgUz6SxWc0XbynQPShKiLRdQtjNZktAbDcLvVuF3qxACuLWYwfJmAVvbFdtmWHtxKjICHhV90SDO9Sfx/PnhxsJQv+eIfwKiB8Mw0MYifg+S4QDKtfquY26nA2Ff5y0IG+mOYmIgiQ+nF23v0hyyhPGeLtsWyO1GCAFFlvHyxTEMJiJ4b6qxOO3zhTQqNb2xS0A3YBjm/eZFOz+7uPf3JSEgSQKyJCBJEhRJgiJLUBUFYZ8HrkM0ulFkCX63ip5IwPYxTofSssAhSwI+l7Pp63tUZ0teP+Bx4cmRPpzrT+Cnn0zh3VsLuL28jo3iNqp1DXXdgG403puvvC/iixAmyxKcigyHLCMa8OBUIoqrE6fw4oUROOTWrA+QJQnePf7N3E77/hiHJUkCXtWBnkgAmm7d9THgcdk266LjJ0y2RaMTpKbpePvmXfzFv76G7erukAQAE/0JfP93fx1P2pQxPgmqdQ0rm1t4b2oBt5YyWFjPI7NVRLFcRbFSQ7WuQRISHErjgh/yuRHxexAPeBEL+tAT8eNUMoozfXF4VGdb1Vk4yQzTxGaxjKmlDD66s4RbixmkcwVsFssolquoaBoUSYLqkOF3q4j4POiJBDExkGwUz4qFLNtyEz1sHBmgE2XnjqvZ3dSLF0aRDPmP8ayOnlOR0d8VQk8kuHtE4GsjAxCAgIAQX4wS7Pwu887rSAkAYZ8bl0dTuDTcC8PceW9w/33Z+RdvtEm+V2RKEpCFBMH3g9oUwwCdKAuZHG4tZVCxmDoBAIci3atJcLKnUMS9C7qTN/RtZWeBoSQLjrbQI4WfZjpRZtc2cWNxDbpFO1lZEhiMR9Ad9h9qjpyIqNMwDNCJUdd0zKazuLVk3drXIct4crivsZiM/d+JiPaN35h0YqQ3C5hOZ7G4nrc87nTIeOniaNvXFiAiajccS6UT438/ncbs6qblMbfTgYGuMB4f6uF2JSKiB8QwQG3PNE3UNB3v3Z7HctZ6VCAe8uG5c0OcHiAiOgCGAWp7hmni8/lVLK7nUaruLtUrCYF40IfLoymw0B4R0YPjbRS1NdM0Udd0vHl9BpulsuUuAp/bib5oAKf7Yg/hDImITj6GAWprmm4gWyjjh+9cR9Gmgc/ZVAIXT/XAozqP+eyIiB4NnCagtraYzeOf/vtXyJUqlr0InA4ZVydO4fmJ4WM/NyKiRwXDALWta3eX8ca1abx9c862KdHzE8MY743B51aP9dyIiB4lDAPUVkzTRKFcxUd3lvGrm3fxwfQiipWq5WP9bhVXJ4bR1xWCzF0EREQHxjBALacbBra2q8iXypDlRntdSfqioY5hmtB0A3VdR7lax3wmh598PIXP5tJI5wqWzylLEs71J/D4qV5E2QueiOhQGAao5Wqajg+mF/GzT6fh96gIuFV4VCecDgWKLFCt69jariKzVcL0yjquz6fRrLG2EIDP5cCfv3wFEb+bowJERIfEMEAtp+sG0ptbeP3TaVTrGuxKATS5/n9FXzSIbz89gSdHeo/qFImIOhrDAB0j80u/HsxYbwzPT5zCd37tPIBGS1kiIjochgE6MS4N9+LqxDCujKUQ9Lof9ukQET0yGAaorcmSgN+tItUVwisXx/D0eD8G45GHfVpERI8UhgFqPQEosgSnokA3TJimCdNsbCM0v/owQAhIorFbQJYEAm4Xzg0k8MdXn8DZVAIuJz+yRERHTZhms3XbRIdX13TMpLN4/dptLKznkcmXsF4ooViuolyro6ppUCQZHqcDfreKnmgAZ1MJnEnFMdrdhcF4+P5zcY0AEdHRYxigljPv1RGo1DXougHdNGEYBoz7owMmBASEaHQglCUJDkWGIktwyBIUWX7YPwIR0SONYYCIiKjDsVoLERFRh2MYICIi6nAMA0RERB2OYYCIiKjDMQwQERF1OIYBIiKiDscwQERE1OEYBoiIiDocwwAREVGHYxggIiLqcAwDREREHY5hgIiIqMMxDBAREXU4hgEiIqIOxzBARETU4RgGiIiIOhzDABERUYdjGCAiIupwDANEREQdjmGAiIiowzEMEBERdTiGASIiog7HMEBERNThGAaIiIg6HMMAERFRh2MYICIi6nAMA0RERB2OYYCIiKjD/T+unGSVKFhXYQAAAABJRU5ErkJggg==",
      "text/plain": [
       "<Figure size 640x480 with 1 Axes>"
      ]
     },
     "metadata": {},
     "output_type": "display_data"
    }
   ],
   "source": [
    "# We start by generating a string with text\n",
    "# The WordCloud() command generates and object. To display it use \"plt.imgshow()\"\n",
    "# Words with higher frequency will tend to appear larger (see advanced options)\n",
    "# at the end for how to adjust the relative scaling\n",
    "\n",
    "text = \"Introduction to Statistical Computing Python Python Python Python Python\"\n",
    "word_cloud = WordCloud(background_color = \"white\").generate(text)\n",
    "plt.imshow(word_cloud)\n",
    "plt.axis(\"off\")"
   ]
  },
  {
   "attachments": {},
   "cell_type": "markdown",
   "metadata": {},
   "source": [
    "<font size = \"5\">\n",
    "\n",
    "Get word frequencies"
   ]
  },
  {
   "cell_type": "code",
   "execution_count": 15,
   "metadata": {},
   "outputs": [
    {
     "ename": "NameError",
     "evalue": "name 'WordCloud' is not defined",
     "output_type": "error",
     "traceback": [
      "\u001b[0;31m---------------------------------------------------------------------------\u001b[0m",
      "\u001b[0;31mNameError\u001b[0m                                 Traceback (most recent call last)",
      "Cell \u001b[0;32mIn[15], line 1\u001b[0m\n\u001b[0;32m----> 1\u001b[0m word_frequencies \u001b[39m=\u001b[39m WordCloud()\u001b[39m.\u001b[39mprocess_text(text)\n\u001b[1;32m      2\u001b[0m word_frequencies\n",
      "\u001b[0;31mNameError\u001b[0m: name 'WordCloud' is not defined"
     ]
    }
   ],
   "source": [
    "word_frequencies = WordCloud().process_text(text)\n",
    "word_frequencies"
   ]
  },
  {
   "attachments": {},
   "cell_type": "markdown",
   "metadata": {},
   "source": [
    "<font size = \"5\">\n",
    "\n",
    "Adding stop words\n",
    "\n",
    "- WordCloud drops common words like \"to, from, the, a, ...\"\n",
    "- They're stored in STOPWORDS. We can add more!"
   ]
  },
  {
   "cell_type": "code",
   "execution_count": 325,
   "metadata": {},
   "outputs": [
    {
     "data": {
      "text/plain": [
       "(-0.5, 399.5, 199.5, -0.5)"
      ]
     },
     "execution_count": 325,
     "metadata": {},
     "output_type": "execute_result"
    },
    {
     "data": {
      "image/png": "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",
      "text/plain": [
       "<Figure size 640x480 with 1 Axes>"
      ]
     },
     "metadata": {},
     "output_type": "display_data"
    }
   ],
   "source": [
    "# Create adjusted list of stop words\n",
    "\n",
    "stop_words = list(STOPWORDS) + [\"Introduction\",\"Computing\"]\n",
    "text = \"Introduction to Statistical Computing Python Python Python Python Python\"\n",
    "\n",
    "# Plot results\n",
    "# If you don't wan't any stopwords, use \"stopwords = []\" instead\n",
    "word_cloud = WordCloud(background_color = \"white\",\n",
    "                       stopwords = stop_words).generate(text)\n",
    "plt.imshow(word_cloud)\n",
    "plt.axis(\"off\")"
   ]
  },
  {
   "attachments": {},
   "cell_type": "markdown",
   "metadata": {},
   "source": [
    "<font size = \"5\">\n",
    "\n",
    "Try it yourself!\n",
    "\n",
    "- Search in Wikipedia for an article.\n",
    "- Copy a paragraph into Python and store it as <br>\n",
    "a string variable called \"text\".\n",
    "- Display a word cloud!"
   ]
  },
  {
   "cell_type": "code",
   "execution_count": 326,
=======
   "execution_count": 16,
>>>>>>> upstream/main
   "metadata": {},
   "outputs": [],
   "source": [
    "dataset = pd.read_csv(\"data_raw/bills_actions.csv\")\n",
    "senate_bills = dataset.query('category == \"senate bill\"')\n",
    "amendments   = dataset.query('category == \"amendment\"')"
   ]
  },
  {
   "cell_type": "code",
   "execution_count": 17,
   "metadata": {},
   "outputs": [
    {
     "data": {
      "text/plain": [
       "0       S.Amdt.1274 Amendment SA 1274 proposed by Sena...\n",
       "1       S.Amdt.2698 Amendment SA 2698 proposed by Sena...\n",
       "2       S.Amdt.2659 Amendment SA 2659 proposed by Sena...\n",
       "8       S.Amdt.2424 Amendment SA 2424 proposed by Sena...\n",
       "11      S.Amdt.1275 Amendment SA 1275 proposed by Sena...\n",
       "                              ...                        \n",
       "3298    H.Amdt.172 Amendment (A004) offered by Ms. Kus...\n",
       "3299    H.Amdt.171 Amendment (A003) offered by Ms. Hou...\n",
       "3300    H.Amdt.170 Amendment (A002) offered by Ms. Oma...\n",
       "3301    POSTPONED PROCEEDINGS - At the conclusion of d...\n",
       "3302    H.Amdt.169 Amendment (A001) offered by Mr. Esp...\n",
       "Name: action, Length: 1529, dtype: object"
      ]
     },
     "metadata": {},
     "output_type": "display_data"
    }
   ],
   "source": [
    "display(amendments[\"action\"])"
   ]
  },
  {
   "attachments": {},
   "cell_type": "markdown",
   "metadata": {},
   "source": [
    "<font size = \"5\">\n",
    "\n",
    "Search word"
   ]
  },
  {
   "cell_type": "code",
   "execution_count": 18,
   "metadata": {},
   "outputs": [
    {
     "data": {
      "text/plain": [
       "0       [Amdt.]\n",
       "1       [Amdt.]\n",
       "2       [Amdt.]\n",
       "8       [Amdt.]\n",
       "11      [Amdt.]\n",
       "         ...   \n",
       "3298    [Amdt.]\n",
       "3299    [Amdt.]\n",
       "3300    [Amdt.]\n",
       "3301         []\n",
       "3302    [Amdt.]\n",
       "Name: action, Length: 1529, dtype: object"
      ]
     },
     "execution_count": 18,
     "metadata": {},
     "output_type": "execute_result"
    }
   ],
   "source": [
    "# We use the \".str.findall()\" subfunction\n",
    "# The argument is an expression\n",
    "\n",
    "amendments[\"action\"].str.findall(\"Amdt\\.\")"
   ]
  },
  {
   "attachments": {},
   "cell_type": "markdown",
   "metadata": {},
   "source": [
    "<font size = \"5\">\n",
    "\n",
    "Wildcards\n",
    "\n",
    "$\\quad$ <img src=\"figures/wildcards_regex1.png\" alt=\"drawing\" width=\"300\"/>"
   ]
  },
  {
   "cell_type": "code",
   "execution_count": 25,
   "metadata": {},
   "outputs": [
    {
     "data": {
      "text/plain": [
       "0       [S.Amdt.1274 Amendment SA 1274 propose]\n",
       "1       [S.Amdt.2698 Amendment SA 2698 propose]\n",
       "2       [S.Amdt.2659 Amendment SA 2659 propose]\n",
       "8       [S.Amdt.2424 Amendment SA 2424 propose]\n",
       "11      [S.Amdt.1275 Amendment SA 1275 propose]\n",
       "                         ...                   \n",
       "3298    [H.Amdt.172 Amendment (A004) offered b]\n",
       "3299    [H.Amdt.171 Amendment (A003) offered b]\n",
       "3300    [H.Amdt.170 Amendment (A002) offered b]\n",
       "3301                                         []\n",
       "3302    [H.Amdt.169 Amendment (A001) offered b]\n",
       "Name: action, Length: 1529, dtype: object"
      ]
     },
     "metadata": {},
     "output_type": "display_data"
    }
   ],
   "source": [
    "# Get digits after string\n",
    "example1 = amendments[\"action\"].str.findall(\"Amdt\\..\")\n",
    "\n",
    "# Get any character before string\n",
    "example2 = amendments[\"action\"].str.findall(\".Amdt\\.\")\n",
    "\n",
    "# Get two characters before string\n",
    "example3 = amendments[\"action\"].str.findall(\"..Amdt\\...............\")\n",
    "\n",
    "#display(example1)\n",
    "#display(example2)\n",
    "display(example3)"
   ]
  },
  {
   "attachments": {},
   "cell_type": "markdown",
   "metadata": {},
   "source": [
    "<font size = \"5\">\n",
    "\n",
    "Wildcards + Quantifiers\n",
    "\n",
    "$\\quad$ <img src=\"figures/wildcards_regex2.png\" alt=\"drawing\" width=\"300\"/>"
   ]
  },
  {
   "cell_type": "code",
   "execution_count": 32,
   "metadata": {},
   "outputs": [
    {
     "data": {
      "text/plain": [
       "0       [S.Amdt.]\n",
       "1       [S.Amdt.]\n",
       "2       [S.Amdt.]\n",
       "8       [S.Amdt.]\n",
       "11      [S.Amdt.]\n",
       "          ...    \n",
       "3298    [H.Amdt.]\n",
       "3299    [H.Amdt.]\n",
       "3300    [H.Amdt.]\n",
       "3301           []\n",
       "3302    [H.Amdt.]\n",
       "Name: action, Length: 1529, dtype: object"
      ]
     },
     "metadata": {},
     "output_type": "display_data"
    }
   ],
   "source": [
    "# Get all consecutive digits after string\n",
    "example4 = amendments[\"action\"].str.findall(\"Amdt\\.\\d*\")\n",
    "\n",
    "# Get all consecutive characters before string\n",
    "example5 = amendments[\"action\"].str.findall(\".*Amdt\\.\")\n",
    "\n",
    "#display(example4)\n",
    "display(example5)\n"
   ]
  },
  {
   "attachments": {},
   "cell_type": "markdown",
   "metadata": {},
   "source": [
    "<font size = \"5\">\n",
    "\n",
    "Try it yourself\n",
    "\n",
    "- Practice using the ```senate_bills``` dataset\n",
    "- Use ```.str.findall()``` to find the word \"Senator\"\n",
    "- Use the regular expression ```\"Senator \\S``` to extract <br>\n",
    " the the first letter of senator\n",
    "- Use ```*``` to extract senator names"
   ]
  },
  {
   "cell_type": "code",
   "execution_count": 33,
   "metadata": {},
   "outputs": [
    {
     "data": {
      "text/plain": [
       "3      [Senator Alexander]\n",
       "4         [Senator Graham]\n",
       "5         [Senator Graham]\n",
       "6         [Senator Wicker]\n",
       "7          [Senator Moran]\n",
       "              ...         \n",
       "795      [Senator Johnson]\n",
       "796                     []\n",
       "797       [Senator Hoeven]\n",
       "798                     []\n",
       "799       [Senator Graham]\n",
       "Name: action, Length: 514, dtype: object"
      ]
     },
     "execution_count": 33,
     "metadata": {},
     "output_type": "execute_result"
    }
   ],
   "source": [
    "# Write your own code\n",
    "\n",
    "senate_bills[\"action\"].str.findall(\"Senator \\S*\")\n"
   ]
  }
 ],
 "metadata": {
  "kernelspec": {
   "display_name": "base",
   "language": "python",
   "name": "python3"
  },
  "language_info": {
   "codemirror_mode": {
    "name": "ipython",
    "version": 3
   },
   "file_extension": ".py",
   "mimetype": "text/x-python",
   "name": "python",
   "nbconvert_exporter": "python",
   "pygments_lexer": "ipython3",
   "version": "3.11.1"
  },
  "orig_nbformat": 4
 },
 "nbformat": 4,
 "nbformat_minor": 2
}
