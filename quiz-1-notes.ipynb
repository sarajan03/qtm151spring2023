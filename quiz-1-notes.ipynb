{
 "cells": [
  {
   "attachments": {},
   "cell_type": "markdown",
   "metadata": {},
   "source": [
    "importing packages"
   ]
  },
  {
   "cell_type": "code",
   "execution_count": null,
   "metadata": {},
   "outputs": [],
   "source": [
    "import numpy as np\n",
    "import matplotlib.pyplot as plt\n",
    "import pandas as pd\n"
   ]
  },
  {
   "attachments": {},
   "cell_type": "markdown",
   "metadata": {},
   "source": [
    "data sets"
   ]
  },
  {
   "cell_type": "code",
   "execution_count": null,
   "metadata": {},
   "outputs": [],
   "source": [
    "carfeatures = pd.read_csv ('data/features.csv')\n",
    "carfeatures #prints all data\n",
    "carfeatures ['cylinders'] #prints col cylinders\n",
    "\n",
    "#creates category index & columns as custom title\n",
    "pd.crosstab(index = carfeatures['cylinders'], columns = \"How many cars have (x) cylinders\")\n",
    "\n",
    "carfeatures.describe()\n",
    "\n",
    "#scatterplot\n",
    "plt.scatter(x = carfeatures['weight'], y = carfeatures ['acceleration'])\n",
    "plt.xlabel(\"weight\")\n",
    "plt.ylabel(\"acceleration\")\n",
    "plt.title(\"weight vs acceleration\")\n",
    "plt.show()\n"
   ]
  },
  {
   "attachments": {},
   "cell_type": "markdown",
   "metadata": {},
   "source": [
    "variables & lists"
   ]
  },
  {
   "cell_type": "code",
   "execution_count": null,
   "metadata": {},
   "outputs": [],
   "source": [
    "#find type -- int, float, str\n",
    "type (3)\n",
    "type (\"hello\") \n",
    "type('hello') #str can have single or double quotes\n",
    "\n",
    "number_3 =3\n",
    "hello_world = \"hellowworld\"\n",
    "\n",
    "#int/ float operations\n",
    "print(3*2)\n",
    "print(3+2)\n",
    "print(3-2)\n",
    "print(3/2)\n",
    "print(3**2) #exponent\n",
    "\n",
    "#concatenation \n",
    "name = \"Aanya\"\n",
    "age = 5\n",
    "print (\"My name is \" + name + \" and I am age \" + str (age))\n",
    "\n",
    "#lists, index starts at 0\n",
    "lists_num = [1,2,3,4]\n",
    "lists_numsquared = [1,4,9,16]\n",
    "lists_words = [\"hello\", \"red\", \"aanya\", \"red\", \"white\"]\n",
    "lists_mixed = [\"red\", 2, \"white\", \"3\"]\n",
    "print (lists_num[2])\n",
    "\n",
    "#histogram\n",
    "plt.hist(x=lists_words)\n",
    "plt.show()\n",
    "\n",
    "#scatterplot\n",
    "plt.scatter (x=lists_num, y=lists_numsquared)\n",
    "plt.xlabel(\"nums\")\n",
    "plt.ylabel(\"squared\")\n",
    "plt.title(\"number vs number squared\")\n",
    "plt.show()\n"
   ]
  },
  {
   "attachments": {},
   "cell_type": "markdown",
   "metadata": {},
   "source": [
    "numPy basic functions"
   ]
  },
  {
   "cell_type": "code",
   "execution_count": null,
   "metadata": {},
   "outputs": [],
   "source": [
    "print(np.log(1)) #log base e (ln)\n",
    "print(np.exp(1)) #e to the power of x\n",
    "print(np.sin(1)) #sin of 1, can also do with cos\n",
    "print(np.sqrt(4))"
   ]
  },
  {
   "attachments": {},
   "cell_type": "markdown",
   "metadata": {},
   "source": [
    "Vector Arrays"
   ]
  },
  {
   "cell_type": "code",
   "execution_count": null,
   "metadata": {},
   "outputs": [],
   "source": [
    "vec_a = np.array([1,2,3])\n",
    "vec_b = np.array ([2,3,4])\n",
    "print(vec_a[0])\n",
    "print(vec_a ** 2) #squares the elements of vec_a\n",
    "vec_c = np.array(vec_a + vec_b) \n",
    "#adds, mult, etc element by element\n",
    "#must be same size!\n",
    "print(vec_c)"
   ]
  },
  {
   "attachments": {},
   "cell_type": "markdown",
   "metadata": {},
   "source": [
    "Vector Arrays Summary Stats"
   ]
  },
  {
   "cell_type": "code",
   "execution_count": null,
   "metadata": {},
   "outputs": [],
   "source": [
    "print(np.mean(vec_a))\n",
    "print(np.std(vec_a))\n",
    "print(np.min(vec_a))\n",
    "print(np.median(vec_a))\n",
    "print(np.max(vec_a))"
   ]
  },
  {
   "attachments": {},
   "cell_type": "markdown",
   "metadata": {},
   "source": [
    "Random Numbers"
   ]
  },
  {
   "cell_type": "code",
   "execution_count": null,
   "metadata": {},
   "outputs": [],
   "source": [
    "#pregenerated seed, gives same random numbers\n",
    "np.random.seed(1234)\n",
    "\n",
    "#mean = loc; std_dev = scale; size = number of variables\n",
    "randomvar_a = np.random.normal(loc = 0, scale = 1, size = 10)\n",
    "print (randomvar_a)\n",
    "\n",
    "randomvar_b = np.random.normal(loc=0, scale=1,size =100)\n",
    "#inc size = more normal distribution\n",
    "plt.hist(x = randomvar_b)\n",
    "plt.xlabel(\"random variable b\")\n",
    "plt.ylabel(\"frequency\")\n",
    "plt.title(\"frequency of random variable b\")\n",
    "plt.show()\n"
   ]
  },
  {
   "attachments": {},
   "cell_type": "markdown",
   "metadata": {},
   "source": [
    "Matricies"
   ]
  },
  {
   "cell_type": "code",
   "execution_count": null,
   "metadata": {},
   "outputs": [],
   "source": [
    "X = np.array([[1,2,3], [2,4,6], [3,5,7]])\n",
    "#2 sets of square brackets!\n",
    "print(X)\n",
    "\n",
    "#column stack\n",
    "Y = np.column_stack([[1,0], [2,0], [3,0]])\n",
    "print(Y)\n",
    "\n",
    "#transpose\n",
    "Z = np.matrix.transpose(Y)\n",
    "\n",
    "#matrix mult\n",
    "print(np.dot(X,Z))\n",
    "print(np.matmul(X,Z))"
   ]
  },
  {
   "attachments": {},
   "cell_type": "markdown",
   "metadata": {},
   "source": [
    "String equality & in function"
   ]
  },
  {
   "cell_type": "code",
   "execution_count": null,
   "metadata": {},
   "outputs": [],
   "source": [
    "\"Is happy\" == \"Is happy\"\n",
    "#double == is comparison, single = is an assignment operator\n",
    "\n",
    "keyword = \"yellow\"\n",
    "sentence = \"aanya is at emory\"\n",
    "keyword in sentence\n",
    "\n",
    "list = [\"yellow\", \"red\"]\n",
    "keyword in list"
   ]
  },
  {
   "attachments": {},
   "cell_type": "markdown",
   "metadata": {},
   "source": [
    "Testing expressions with numbers"
   ]
  },
  {
   "cell_type": "code",
   "execution_count": null,
   "metadata": {},
   "outputs": [],
   "source": [
    "x=5\n",
    "print (x == 5)\n",
    "#can do ==, <=, >=, <, >\n",
    "\n",
    "print (np.exp(5) < 50)"
   ]
  },
  {
   "attachments": {},
   "cell_type": "markdown",
   "metadata": {},
   "source": [
    "Validating data type"
   ]
  },
  {
   "cell_type": "code",
   "execution_count": null,
   "metadata": {},
   "outputs": [],
   "source": [
    "print (isinstance (3,int))\n",
    "print (isinstance (3, str))"
   ]
  },
  {
   "attachments": {},
   "cell_type": "markdown",
   "metadata": {},
   "source": [
    "If loops + and/or"
   ]
  },
  {
   "cell_type": "code",
   "execution_count": null,
   "metadata": {},
   "outputs": [],
   "source": [
    "age = 11\n",
    "print(not (18 < 22))\n",
    "print((age>=10) & (age<15)) #and\n",
    "\n",
    "if ((age==10) | (age==15)): #or\n",
    "    print (\"slay\")\n",
    "elif (age < 10):\n",
    "    print (\"too young\")\n",
    "else:\n",
    "    print (\"failed\")\n",
    "\n",
    "vec_c = np.array ([1,2,3])\n",
    "sum = np.sum(vec_c)\n",
    "if (sum >= 5):\n",
    "    print (\"sum greater than or equal to 5\")\n",
    "else:\n",
    "    print (\"less than 5\")"
   ]
  },
  {
   "attachments": {},
   "cell_type": "markdown",
   "metadata": {},
   "source": [
    "lists"
   ]
  },
  {
   "cell_type": "code",
   "execution_count": null,
   "metadata": {},
   "outputs": [],
   "source": [
    "list_null = [None,None,None]\n",
    "list_null[0] = \"yay\"\n",
    "list_null.append(\"happy\") #adds to end\n",
    "print(list_null[3])\n",
    "\n",
    "list_new = [5] * 3 #repeats the number 5 3 times\n",
    "list_two = list_null * 3 #repeats the list_null 4 times\n",
    "print(list_new)\n",
    "print(list_two)\n",
    "#multiplying lists repeat values; vs arrays (vec_a) multiplies each element!\n",
    "\n",
    "print(len(list_new)) #counts # of elements"
   ]
  },
  {
   "attachments": {},
   "cell_type": "markdown",
   "metadata": {},
   "source": [
    "For loops"
   ]
  },
  {
   "cell_type": "code",
   "execution_count": null,
   "metadata": {},
   "outputs": [],
   "source": [
    "list_car = [\"tesla\", \"kia\", \"ford\"]\n",
    "\n",
    "index = 1\n",
    "for car in list_car:\n",
    "    print (\"Your car is \" + car + \"; Position number: \" + str(index))\n",
    "    index = index + 1"
   ]
  },
  {
   "cell_type": "code",
   "execution_count": null,
   "metadata": {},
   "outputs": [],
   "source": [
    "#create multiple plots comparing the items in list_vars to mpg\n",
    "carfeatures = pd.read_csv(\"data/features.csv\")\n",
    "list_vars   = [\"acceleration\",\"weight\"]\n",
    "\n",
    "index = 1\n",
    "for variable_name in list_vars:\n",
    "    plt.scatter(x= carfeatures[variable_name], y = carfeatures[\"mpg\"])\n",
    "    plt.ylabel(\"mpg\")\n",
    "    plt.xlabel(variable_name)\n",
    "    plt.title(\"Figure \" + str(index))\n",
    "    plt.show()\n",
    "    index = index +1"
   ]
  },
  {
   "cell_type": "code",
   "execution_count": null,
   "metadata": {},
   "outputs": [],
   "source": [
    "n = 50\n",
    "dataset[\"x\"] = np.random.normal(loc = 0,scale = 1, size = n)\n",
    "dataset[\"e\"] = np.random.normal(loc = 0,scale = 1, size = n)\n"
   ]
  },
  {
   "cell_type": "code",
   "execution_count": null,
   "metadata": {},
   "outputs": [],
   "source": [
    "# The number b0 is known as the \"intercept\"\n",
    "# The number b1 is known as the \"slope\"\n",
    "# e is residual\n",
    "\n",
    "\n",
    "b0 = 1\n",
    "b1 = 2\n",
    "\n",
    "# We can compute formulas directly over dataset columns\n",
    "dataset[\"y\"] = b0 + b1 * dataset[\"x\"] + dataset[\"e\"]"
   ]
  },
  {
   "cell_type": "code",
   "execution_count": null,
   "metadata": {},
   "outputs": [],
   "source": [
    "dataset[\"p\"] = b0 + b1*dataset[\"x\"]"
   ]
  },
  {
   "cell_type": "code",
   "execution_count": null,
   "metadata": {},
   "outputs": [],
   "source": [
    "plt.scatter(x = dataset[\"x\"], y = dataset[\"y\"])\n",
    "plt.scatter(x = dataset[\"x\"], y = dataset[\"p\"])\n",
    "\n",
    "plt.xlabel(\"X Variable\")\n",
    "plt.ylabel(\"Y Variable\")\n",
    "plt.legend(labels = [\"Data points\", \"Best fit line\"])\n",
    "plt.show()\n"
   ]
  },
  {
   "cell_type": "code",
   "execution_count": null,
   "metadata": {},
   "outputs": [],
   "source": []
  }
 ],
 "metadata": {
  "kernelspec": {
   "display_name": "Python 3",
   "language": "python",
   "name": "python3"
  },
  "language_info": {
   "codemirror_mode": {
    "name": "ipython",
    "version": 3
   },
   "file_extension": ".py",
   "mimetype": "text/x-python",
   "name": "python",
   "nbconvert_exporter": "python",
   "pygments_lexer": "ipython3",
   "version": "3.11.1"
  },
  "orig_nbformat": 4,
  "vscode": {
   "interpreter": {
    "hash": "aee8b7b246df8f9039afb4144a1f6fd8d2ca17a180786b69acc140d282b71a49"
   }
  }
 },
 "nbformat": 4,
 "nbformat_minor": 2
}
