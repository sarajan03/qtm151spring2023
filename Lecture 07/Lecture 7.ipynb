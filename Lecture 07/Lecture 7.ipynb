{
 "cells": [
  {
   "attachments": {},
   "cell_type": "markdown",
   "metadata": {},
   "source": [
    "# <span style=\"color:darkblue\"> Lecture 7: Applications II - Operations with multiple datasets </span>"
   ]
  },
  {
   "attachments": {},
   "cell_type": "markdown",
   "metadata": {},
   "source": [
    "<font size=\"5\"> \n",
    "\n",
    "This class will be entirely self-directed\n",
    "\n",
    "- Learn basic commands for importing/exporting datasets\n",
    "- Practice this module's concepts in a quiz\n",
    "- More info will be posted on Canvas at the start of class\n"
   ]
  },
  {
   "attachments": {},
   "cell_type": "markdown",
   "metadata": {},
   "source": [
    "## <span style=\"color:darkblue\"> I. Import Libraries </span>"
   ]
  },
  {
   "cell_type": "code",
   "execution_count": 2,
   "metadata": {},
   "outputs": [],
   "source": [
    "# the \"numPy\" library is used for mathematical operations\n",
    "# the \"matplotlib\" library is for generating graphs\n",
    "# the \"pandas\" library is for manipualting datasets\n",
    "\n",
    "import numpy as np\n",
    "import matplotlib.pyplot as plt\n",
    "import pandas as pd"
   ]
  },
  {
   "attachments": {},
   "cell_type": "markdown",
   "metadata": {},
   "source": [
    "## <span style=\"color:darkblue\"> II. Importing / Exporting Datasets </span>"
   ]
  },
  {
   "attachments": {},
   "cell_type": "markdown",
   "metadata": {},
   "source": [
    "<font size = \"5\">\n",
    "\n",
    "There are many formats to store data out there.\n",
    "\n",
    "- So far we've only imported \".csv\" files\n",
    "- Also common: Excel (\".xlsx\") and Stata (\".dta\")\n",
    "- Pandas can handle all these formats! Full list:\n",
    "\n",
    "https://pandas.pydata.org/docs/reference/io.html#"
   ]
  },
  {
   "attachments": {},
   "cell_type": "markdown",
   "metadata": {},
   "source": [
    "<font size = \"5\" >\n",
    "\n",
    "Read/write from CSV"
   ]
  },
  {
   "cell_type": "code",
   "execution_count": 3,
   "metadata": {},
   "outputs": [],
   "source": [
    "# Import a CSV file (READ)\n",
    "carfeatures = pd.read_csv(\"data/features.csv\")\n",
    "\n",
    "# Save the dataset to another csv file (WRITE)\n",
    "carfeatures.to_csv(\"data/features_stored.csv\")\n"
   ]
  },
  {
   "attachments": {},
   "cell_type": "markdown",
   "metadata": {},
   "source": [
    "<font size = \"5\">\n",
    "\n",
    "Read/write from Stata (\".dta\")"
   ]
  },
  {
   "cell_type": "code",
   "execution_count": 4,
   "metadata": {},
   "outputs": [],
   "source": [
    "# Read a Stata file\n",
    "carfeatures = pd.read_stata(\"data/features.dta\")\n",
    "\n",
    "# Write a stata file\n",
    "carfeatures.to_stata(\"data/features_stored.dta\")"
   ]
  },
  {
   "attachments": {},
   "cell_type": "markdown",
   "metadata": {},
   "source": [
    "<font size = \"5\">\n",
    "\n",
    "Read/write from Excel (\".xlsx\")"
   ]
  },
  {
   "cell_type": "code",
   "execution_count": 6,
   "metadata": {},
   "outputs": [
    {
     "ename": "ImportError",
     "evalue": "Missing optional dependency 'openpyxl'.  Use pip or conda to install openpyxl.",
     "output_type": "error",
     "traceback": [
      "\u001b[0;31m---------------------------------------------------------------------------\u001b[0m",
      "\u001b[0;31mModuleNotFoundError\u001b[0m                       Traceback (most recent call last)",
      "File \u001b[0;32m/Library/Frameworks/Python.framework/Versions/3.11/lib/python3.11/site-packages/pandas/compat/_optional.py:141\u001b[0m, in \u001b[0;36mimport_optional_dependency\u001b[0;34m(name, extra, errors, min_version)\u001b[0m\n\u001b[1;32m    140\u001b[0m \u001b[39mtry\u001b[39;00m:\n\u001b[0;32m--> 141\u001b[0m     module \u001b[39m=\u001b[39m importlib\u001b[39m.\u001b[39;49mimport_module(name)\n\u001b[1;32m    142\u001b[0m \u001b[39mexcept\u001b[39;00m \u001b[39mImportError\u001b[39;00m:\n",
      "File \u001b[0;32m/Library/Frameworks/Python.framework/Versions/3.11/lib/python3.11/importlib/__init__.py:126\u001b[0m, in \u001b[0;36mimport_module\u001b[0;34m(name, package)\u001b[0m\n\u001b[1;32m    125\u001b[0m         level \u001b[39m+\u001b[39m\u001b[39m=\u001b[39m \u001b[39m1\u001b[39m\n\u001b[0;32m--> 126\u001b[0m \u001b[39mreturn\u001b[39;00m _bootstrap\u001b[39m.\u001b[39;49m_gcd_import(name[level:], package, level)\n",
      "File \u001b[0;32m<frozen importlib._bootstrap>:1206\u001b[0m, in \u001b[0;36m_gcd_import\u001b[0;34m(name, package, level)\u001b[0m\n",
      "File \u001b[0;32m<frozen importlib._bootstrap>:1178\u001b[0m, in \u001b[0;36m_find_and_load\u001b[0;34m(name, import_)\u001b[0m\n",
      "File \u001b[0;32m<frozen importlib._bootstrap>:1142\u001b[0m, in \u001b[0;36m_find_and_load_unlocked\u001b[0;34m(name, import_)\u001b[0m\n",
      "\u001b[0;31mModuleNotFoundError\u001b[0m: No module named 'openpyxl'",
      "\nDuring handling of the above exception, another exception occurred:\n",
      "\u001b[0;31mImportError\u001b[0m                               Traceback (most recent call last)",
      "Cell \u001b[0;32mIn[6], line 2\u001b[0m\n\u001b[1;32m      1\u001b[0m \u001b[39m#  Read\u001b[39;00m\n\u001b[0;32m----> 2\u001b[0m carfeatures \u001b[39m=\u001b[39m pd\u001b[39m.\u001b[39;49mread_excel(\u001b[39m\"\u001b[39;49m\u001b[39mdata/features.xlsx\u001b[39;49m\u001b[39m\"\u001b[39;49m)\n\u001b[1;32m      4\u001b[0m \u001b[39m# Write \u001b[39;00m\n\u001b[1;32m      5\u001b[0m carfeatures\u001b[39m.\u001b[39mto_excel(\u001b[39m\"\u001b[39m\u001b[39mdata/features_stored.xlsx\u001b[39m\u001b[39m\"\u001b[39m)\n",
      "File \u001b[0;32m/Library/Frameworks/Python.framework/Versions/3.11/lib/python3.11/site-packages/pandas/util/_decorators.py:211\u001b[0m, in \u001b[0;36mdeprecate_kwarg.<locals>._deprecate_kwarg.<locals>.wrapper\u001b[0;34m(*args, **kwargs)\u001b[0m\n\u001b[1;32m    209\u001b[0m     \u001b[39melse\u001b[39;00m:\n\u001b[1;32m    210\u001b[0m         kwargs[new_arg_name] \u001b[39m=\u001b[39m new_arg_value\n\u001b[0;32m--> 211\u001b[0m \u001b[39mreturn\u001b[39;00m func(\u001b[39m*\u001b[39;49margs, \u001b[39m*\u001b[39;49m\u001b[39m*\u001b[39;49mkwargs)\n",
      "File \u001b[0;32m/Library/Frameworks/Python.framework/Versions/3.11/lib/python3.11/site-packages/pandas/util/_decorators.py:331\u001b[0m, in \u001b[0;36mdeprecate_nonkeyword_arguments.<locals>.decorate.<locals>.wrapper\u001b[0;34m(*args, **kwargs)\u001b[0m\n\u001b[1;32m    325\u001b[0m \u001b[39mif\u001b[39;00m \u001b[39mlen\u001b[39m(args) \u001b[39m>\u001b[39m num_allow_args:\n\u001b[1;32m    326\u001b[0m     warnings\u001b[39m.\u001b[39mwarn(\n\u001b[1;32m    327\u001b[0m         msg\u001b[39m.\u001b[39mformat(arguments\u001b[39m=\u001b[39m_format_argument_list(allow_args)),\n\u001b[1;32m    328\u001b[0m         \u001b[39mFutureWarning\u001b[39;00m,\n\u001b[1;32m    329\u001b[0m         stacklevel\u001b[39m=\u001b[39mfind_stack_level(),\n\u001b[1;32m    330\u001b[0m     )\n\u001b[0;32m--> 331\u001b[0m \u001b[39mreturn\u001b[39;00m func(\u001b[39m*\u001b[39;49margs, \u001b[39m*\u001b[39;49m\u001b[39m*\u001b[39;49mkwargs)\n",
      "File \u001b[0;32m/Library/Frameworks/Python.framework/Versions/3.11/lib/python3.11/site-packages/pandas/io/excel/_base.py:482\u001b[0m, in \u001b[0;36mread_excel\u001b[0;34m(io, sheet_name, header, names, index_col, usecols, squeeze, dtype, engine, converters, true_values, false_values, skiprows, nrows, na_values, keep_default_na, na_filter, verbose, parse_dates, date_parser, thousands, decimal, comment, skipfooter, convert_float, mangle_dupe_cols, storage_options)\u001b[0m\n\u001b[1;32m    480\u001b[0m \u001b[39mif\u001b[39;00m \u001b[39mnot\u001b[39;00m \u001b[39misinstance\u001b[39m(io, ExcelFile):\n\u001b[1;32m    481\u001b[0m     should_close \u001b[39m=\u001b[39m \u001b[39mTrue\u001b[39;00m\n\u001b[0;32m--> 482\u001b[0m     io \u001b[39m=\u001b[39m ExcelFile(io, storage_options\u001b[39m=\u001b[39;49mstorage_options, engine\u001b[39m=\u001b[39;49mengine)\n\u001b[1;32m    483\u001b[0m \u001b[39melif\u001b[39;00m engine \u001b[39mand\u001b[39;00m engine \u001b[39m!=\u001b[39m io\u001b[39m.\u001b[39mengine:\n\u001b[1;32m    484\u001b[0m     \u001b[39mraise\u001b[39;00m \u001b[39mValueError\u001b[39;00m(\n\u001b[1;32m    485\u001b[0m         \u001b[39m\"\u001b[39m\u001b[39mEngine should not be specified when passing \u001b[39m\u001b[39m\"\u001b[39m\n\u001b[1;32m    486\u001b[0m         \u001b[39m\"\u001b[39m\u001b[39man ExcelFile - ExcelFile already has the engine set\u001b[39m\u001b[39m\"\u001b[39m\n\u001b[1;32m    487\u001b[0m     )\n",
      "File \u001b[0;32m/Library/Frameworks/Python.framework/Versions/3.11/lib/python3.11/site-packages/pandas/io/excel/_base.py:1695\u001b[0m, in \u001b[0;36mExcelFile.__init__\u001b[0;34m(self, path_or_buffer, engine, storage_options)\u001b[0m\n\u001b[1;32m   1692\u001b[0m \u001b[39mself\u001b[39m\u001b[39m.\u001b[39mengine \u001b[39m=\u001b[39m engine\n\u001b[1;32m   1693\u001b[0m \u001b[39mself\u001b[39m\u001b[39m.\u001b[39mstorage_options \u001b[39m=\u001b[39m storage_options\n\u001b[0;32m-> 1695\u001b[0m \u001b[39mself\u001b[39m\u001b[39m.\u001b[39m_reader \u001b[39m=\u001b[39m \u001b[39mself\u001b[39;49m\u001b[39m.\u001b[39;49m_engines[engine](\u001b[39mself\u001b[39;49m\u001b[39m.\u001b[39;49m_io, storage_options\u001b[39m=\u001b[39;49mstorage_options)\n",
      "File \u001b[0;32m/Library/Frameworks/Python.framework/Versions/3.11/lib/python3.11/site-packages/pandas/io/excel/_openpyxl.py:556\u001b[0m, in \u001b[0;36mOpenpyxlReader.__init__\u001b[0;34m(self, filepath_or_buffer, storage_options)\u001b[0m\n\u001b[1;32m    541\u001b[0m \u001b[39m@doc\u001b[39m(storage_options\u001b[39m=\u001b[39m_shared_docs[\u001b[39m\"\u001b[39m\u001b[39mstorage_options\u001b[39m\u001b[39m\"\u001b[39m])\n\u001b[1;32m    542\u001b[0m \u001b[39mdef\u001b[39;00m \u001b[39m__init__\u001b[39m(\n\u001b[1;32m    543\u001b[0m     \u001b[39mself\u001b[39m,\n\u001b[1;32m    544\u001b[0m     filepath_or_buffer: FilePath \u001b[39m|\u001b[39m ReadBuffer[\u001b[39mbytes\u001b[39m],\n\u001b[1;32m    545\u001b[0m     storage_options: StorageOptions \u001b[39m=\u001b[39m \u001b[39mNone\u001b[39;00m,\n\u001b[1;32m    546\u001b[0m ) \u001b[39m-\u001b[39m\u001b[39m>\u001b[39m \u001b[39mNone\u001b[39;00m:\n\u001b[1;32m    547\u001b[0m \u001b[39m    \u001b[39m\u001b[39m\"\"\"\u001b[39;00m\n\u001b[1;32m    548\u001b[0m \u001b[39m    Reader using openpyxl engine.\u001b[39;00m\n\u001b[1;32m    549\u001b[0m \n\u001b[0;32m   (...)\u001b[0m\n\u001b[1;32m    554\u001b[0m \u001b[39m    {storage_options}\u001b[39;00m\n\u001b[1;32m    555\u001b[0m \u001b[39m    \"\"\"\u001b[39;00m\n\u001b[0;32m--> 556\u001b[0m     import_optional_dependency(\u001b[39m\"\u001b[39;49m\u001b[39mopenpyxl\u001b[39;49m\u001b[39m\"\u001b[39;49m)\n\u001b[1;32m    557\u001b[0m     \u001b[39msuper\u001b[39m()\u001b[39m.\u001b[39m\u001b[39m__init__\u001b[39m(filepath_or_buffer, storage_options\u001b[39m=\u001b[39mstorage_options)\n",
      "File \u001b[0;32m/Library/Frameworks/Python.framework/Versions/3.11/lib/python3.11/site-packages/pandas/compat/_optional.py:144\u001b[0m, in \u001b[0;36mimport_optional_dependency\u001b[0;34m(name, extra, errors, min_version)\u001b[0m\n\u001b[1;32m    142\u001b[0m \u001b[39mexcept\u001b[39;00m \u001b[39mImportError\u001b[39;00m:\n\u001b[1;32m    143\u001b[0m     \u001b[39mif\u001b[39;00m errors \u001b[39m==\u001b[39m \u001b[39m\"\u001b[39m\u001b[39mraise\u001b[39m\u001b[39m\"\u001b[39m:\n\u001b[0;32m--> 144\u001b[0m         \u001b[39mraise\u001b[39;00m \u001b[39mImportError\u001b[39;00m(msg)\n\u001b[1;32m    145\u001b[0m     \u001b[39melse\u001b[39;00m:\n\u001b[1;32m    146\u001b[0m         \u001b[39mreturn\u001b[39;00m \u001b[39mNone\u001b[39;00m\n",
      "\u001b[0;31mImportError\u001b[0m: Missing optional dependency 'openpyxl'.  Use pip or conda to install openpyxl."
     ]
    }
   ],
   "source": [
    "#  Read\n",
    "carfeatures = pd.read_excel(\"data/features.xlsx\")\n",
    "\n",
    "# Write \n",
    "carfeatures.to_excel(\"data/features_stored.xlsx\")\n",
    "\n",
    "# Note: If the information is contained in a specifc sheet of the excel file\n",
    "# carfeatures = pd.read_excel(\"data/features.csv\",sheet_name = \"Sheet1\")\n"
   ]
  },
  {
   "attachments": {},
   "cell_type": "markdown",
   "metadata": {},
   "source": [
    "## <span style=\"color:darkblue\"> III. Quiz Structure </span>\n",
    "\n",
    "<font size = \"5\">\n",
    "\n",
    "The day of the quiz I will ...\n",
    "- Provide different datasets with yearly data\n",
    "- Give more specific instructions.\n",
    "- Below, you will see that type of questions that will be asked.\n",
    "- The idea is for you to apply known concepts to new data\n",
    "- You have 50 minutes to complete the assignment\n",
    "\n",
    "Questions\n",
    "\n",
    "(exact wording may change in quiz, but exercise will be very similar)\n"
   ]
  },
  {
   "attachments": {},
   "cell_type": "markdown",
   "metadata": {},
   "source": [
    "<font size = \"5\">\n",
    "\n",
    "(a) Create two normal random variables ...\n",
    "\n",
    "\n",
    "- Call them \"vec_x\" and \"vec_z\"\n",
    "- To generate each variable, use loc = 2, scale = 5, size = 1000\n",
    "- Plot a histogram of each variable\n",
    "    - Label the axes and title\n",
    "    - Each graph should have a different title\n",
    " \n",
    "To get full points, plot the histograms on a grid (See Lecture 6)"
   ]
  },
  {
   "cell_type": "code",
   "execution_count": 1,
   "metadata": {},
   "outputs": [
    {
     "ename": "NameError",
     "evalue": "name 'np' is not defined",
     "output_type": "error",
     "traceback": [
      "\u001b[0;31m---------------------------------------------------------------------------\u001b[0m",
      "\u001b[0;31mNameError\u001b[0m                                 Traceback (most recent call last)",
      "Cell \u001b[0;32mIn[1], line 1\u001b[0m\n\u001b[0;32m----> 1\u001b[0m vec_x \u001b[39m=\u001b[39m np\u001b[39m.\u001b[39mrandom\u001b[39m.\u001b[39mnormal(loc\u001b[39m=\u001b[39m\u001b[39m2\u001b[39m, scale\u001b[39m=\u001b[39m\u001b[39m5\u001b[39m, size \u001b[39m=\u001b[39m \u001b[39m1000\u001b[39m)\n\u001b[1;32m      2\u001b[0m vec_z\u001b[39m=\u001b[39m np\u001b[39m.\u001b[39mrandom\u001b[39m.\u001b[39mnormal(loc\u001b[39m=\u001b[39m\u001b[39m2\u001b[39m, scale\u001b[39m=\u001b[39m\u001b[39m5\u001b[39m, size\u001b[39m=\u001b[39m\u001b[39m1000\u001b[39m)\n\u001b[1;32m      6\u001b[0m fig, list_subfig \u001b[39m=\u001b[39m plt\u001b[39m.\u001b[39msubplots(\u001b[39m1\u001b[39m, \u001b[39m2\u001b[39m,figsize \u001b[39m=\u001b[39m (\u001b[39m10\u001b[39m,\u001b[39m3\u001b[39m))\n",
      "\u001b[0;31mNameError\u001b[0m: name 'np' is not defined"
     ]
    }
   ],
   "source": [
    "vec_x = np.random.normal(loc=2, scale=5, size = 1000)\n",
    "vec_z= np.random.normal(loc=2, scale=5, size=1000)\n",
    "\n",
    "\n",
    "\n",
    "fig, list_subfig = plt.subplots(1, 2,figsize = (10,3))\n",
    "\n",
    "plt.tight_layout()\n",
    "\n",
    "\n",
    "\n",
    "list_subfig[0].hist(x = vec_x)\n",
    "list_subfig[0].set_title(\"Vector X random normal distrubution\")\n",
    "list_subfig[0].set_xlabel(\"Vector X\")\n",
    "list_subfig[0].set_ylabel(\"Frequency\")\n",
    "\n",
    "list_subfig[1].hist(x = vec_z)\n",
    "list_subfig[1].set_title(\"Vector Z random normal distribution\")\n",
    "list_subfig[1].set_xlabel(\"Vector Z\")\n",
    "list_subfig[1].set_ylabel(\"Frequency\")\n",
    "\n"
   ]
  },
  {
   "attachments": {},
   "cell_type": "markdown",
   "metadata": {},
   "source": [
    "<font size = \"5\">\n",
    "\n",
    "(b) Create a new variable \"vec_y\" by the formula\n",
    "\n",
    "$ y = x^2 + 2x + 5$\n",
    "\n",
    "- Use element-by-element vector multiplicaiton (no loops)\n",
    "- Produce a scatter plot of \"vec_y\" against \"vec_x\"\n",
    "- Label the axes and the title\n",
    "- Change the color to \"red\", \"green\" or \"purple\" (you choose)\n"
   ]
  },
  {
   "cell_type": "code",
   "execution_count": 6,
   "metadata": {},
   "outputs": [
    {
     "data": {
      "text/plain": [
       "Text(0, 0.5, 'Vector Y')"
      ]
     },
     "execution_count": 6,
     "metadata": {},
     "output_type": "execute_result"
    },
    {
     "data": {
      "image/png": "[encoded data removed]",
      "text/plain": [
       "<Figure size 640x480 with 1 Axes>"
      ]
     },
     "metadata": {},
     "output_type": "display_data"
    }
   ],
   "source": [
    "vec_y=[]\n",
    "for x in vec_x:\n",
    "    y= (x**2)+(2*x)+5\n",
    "    vec_y.append(y)\n",
    "\n",
    "plt.scatter(vec_x, vec_y)\n",
    "plt.xlabel(\"Vector X\")\n",
    "plt.ylabel(\"Vector Y\")\n"
   ]
  },
  {
   "attachments": {},
   "cell_type": "markdown",
   "metadata": {},
   "source": [
    "<font size = \"5\">\n",
    "\n",
    "(c) Creates two lists with ...\n",
    "\n",
    "- The names of the datasets\n",
    "- The years of the datasets (type manually based on the dataset names)"
   ]
  },
  {
   "cell_type": "code",
   "execution_count": 8,
   "metadata": {},
   "outputs": [],
   "source": [
    "carfeatures = pd.read_csv(\"data/features.csv\")\n",
    "wdi_2019 = pd.read_csv(\"data/data/worldbank_wdi_2019.csv\")\n",
    "\n",
    "list_datasets = [carfeatures, wdi_2019]\n",
    "list_datasets_years = [2000, 2019]"
   ]
  },
  {
   "attachments": {},
   "cell_type": "markdown",
   "metadata": {},
   "source": [
    "<font size = \"5\">\n",
    "\n",
    "(d) Create a loop that ...\n",
    "\n",
    "\n",
    "- Goes over the list of years\n",
    "- If the year $\\ge$ 2010, print the message\n",
    "\n",
    "$\\qquad$ \"This dataset contains information on or after 2010.\n",
    "\n",
    "- If the year $<$ 2010, print the message\n",
    "\n",
    "$\\qquad$ \"This dataset contains information before 2010\""
   ]
  },
  {
   "cell_type": "code",
   "execution_count": 9,
   "metadata": {},
   "outputs": [
    {
     "name": "stdout",
     "output_type": "stream",
     "text": [
      "This dataset contains information before 2010\n",
      "This dataset contains information on or after 2010\n"
     ]
    }
   ],
   "source": [
    "list_datasets_years = [2000, 2019]\n",
    "for years in list_datasets_years:\n",
    "    if (years>= 2010):\n",
    "        print(\"This dataset contains information on or after 2010\")\n",
    "    else:\n",
    "        print(\"This dataset contains information before 2010\")\n"
   ]
  },
  {
   "attachments": {},
   "cell_type": "markdown",
   "metadata": {},
   "source": [
    "<font size = \"5\">\n",
    "\n",
    "(e) Create a for loop that ...\n",
    "\n",
    "- Reads multiple \".csv\" files and\n",
    "- Converts them to \".xlsx\" files\n",
    "- Note: Make sure to know how to read/write in subfolders\n",
    "\n",
    "Hint: Create a new list with the \".xslx\" names and use a for loop with numbering"
   ]
  },
  {
   "cell_type": "code",
   "execution_count": 11,
   "metadata": {},
   "outputs": [
    {
     "ename": "TypeError",
     "evalue": "'list' object is not callable",
     "output_type": "error",
     "traceback": [
      "\u001b[0;31m---------------------------------------------------------------------------\u001b[0m",
      "\u001b[0;31mTypeError\u001b[0m                                 Traceback (most recent call last)",
      "Cell \u001b[0;32mIn[11], line 5\u001b[0m\n\u001b[1;32m      3\u001b[0m list_csv_files \u001b[39m=\u001b[39m [carfeatures, wdi_2019]\n\u001b[1;32m      4\u001b[0m \u001b[39mfor\u001b[39;00m files \u001b[39min\u001b[39;00m list_csv_files:\n\u001b[0;32m----> 5\u001b[0m     list_csv_files(\u001b[39m\"\u001b[39;49m\u001b[39mdata/features_stored.xlsx\u001b[39;49m\u001b[39m\"\u001b[39;49m)\n",
      "\u001b[0;31mTypeError\u001b[0m: 'list' object is not callable"
     ]
    }
   ],
   "source": [
    "carfeatures = pd.read_csv(\"data/features.csv\")\n",
    "wdi_2019 = pd.read_csv(\"data/data/worldbank_wdi_2019.csv\")\n",
    "list_csv_files = [carfeatures, wdi_2019]\n",
    "for files in list_csv_files:\n",
    "    \n",
    "    (\"data/features_stored.xlsx\")"
   ]
  },
  {
   "attachments": {},
   "cell_type": "markdown",
   "metadata": {},
   "source": [
    "<font size = \"5\">\n",
    "\n",
    "(f) Create a loop that ...\n",
    "\n",
    "- Reads multiple \".csv\" files\n",
    "- Creates a numeric vector by \n",
    "    - Adding/Subtracting/Mutiplying/Diving two or more variables \n",
    "- Plots a histogram of the transformed variable\n",
    "    - Numbers the figures\n",
    "    - Labels the axes\n",
    "    - Labels the title"
   ]
  }
 ],
 "metadata": {
  "kernelspec": {
   "display_name": "Python 3",
   "language": "python",
   "name": "python3"
  },
  "language_info": {
   "codemirror_mode": {
    "name": "ipython",
    "version": 3
   },
   "file_extension": ".py",
   "mimetype": "text/x-python",
   "name": "python",
   "nbconvert_exporter": "python",
   "pygments_lexer": "ipython3",
   "version": "3.11.1"
  },
  "orig_nbformat": 4,
  "vscode": {
   "interpreter": {
    "hash": "aee8b7b246df8f9039afb4144a1f6fd8d2ca17a180786b69acc140d282b71a49"
   }
  }
 },
 "nbformat": 4,
 "nbformat_minor": 2
}
