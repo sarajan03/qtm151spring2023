{
 "cells": [
  {
   "attachments": {},
   "cell_type": "markdown",
   "metadata": {},
   "source": [
    "# <span style=\"color:darkblue\"> Lecture 3: Mathematical Operations and Random Numbers </span>"
   ]
  },
  {
   "attachments": {},
   "cell_type": "markdown",
   "metadata": {},
   "source": [
    "<font size=\"5\"> \n",
    "\n",
    "In the previous class we:\n",
    "- Introduced lists and variable types\n",
    "- Talked about how to extract elements from a list"
   ]
  },
  {
   "attachments": {},
   "cell_type": "markdown",
   "metadata": {},
   "source": [
    "<font size=\"5\"> \n",
    "\n",
    "In this class we will:\n",
    "\n",
    "- Introduce a library for general mathematical operations\n",
    "- Generate random numbers\n",
    "- (Optional) Matrix operations"
   ]
  },
  {
   "attachments": {},
   "cell_type": "markdown",
   "metadata": {},
   "source": [
    "## <span style=\"color:darkblue\"> I. Import Libraries </span>"
   ]
  },
  {
   "cell_type": "code",
<<<<<<< HEAD
   "execution_count": 4,
=======
   "execution_count": 2,
>>>>>>> upstream/main
   "metadata": {},
   "outputs": [],
   "source": [
    "# the \"numPy\" library is used for mathematical operations\n",
    "# the \"matplotlib\" library is for generating graphs\n",
    "\n",
    "import numpy as np\n",
    "import matplotlib.pyplot as plt\n"
   ]
  },
  {
   "attachments": {},
   "cell_type": "markdown",
   "metadata": {},
   "source": [
    "##  <span style=\"color:darkblue\"> II. Numbers and Functions </span>"
   ]
  },
  {
   "attachments": {},
   "cell_type": "markdown",
   "metadata": {},
   "source": [
    "<font size = \"5\" >\n",
    "Examples of numPy numbers"
   ]
  },
  {
   "cell_type": "code",
<<<<<<< HEAD
   "execution_count": 5,
=======
   "execution_count": 3,
>>>>>>> upstream/main
   "metadata": {},
   "outputs": [
    {
     "data": {
      "text/plain": [
       "3.141592653589793"
      ]
     },
<<<<<<< HEAD
     "execution_count": 5,
=======
     "execution_count": 3,
>>>>>>> upstream/main
     "metadata": {},
     "output_type": "execute_result"
    }
   ],
   "source": [
    "# Computes \"pi\" (3.14...)\n",
    "\n",
    "np.pi"
   ]
  },
  {
   "attachments": {},
   "cell_type": "markdown",
   "metadata": {},
   "source": [
    "<font size = \"5\" >\n",
    "\n",
    "Examples of numPy functions\n",
    "\n",
    "$ ln(x), e^x, sin(x), cos(x), \\sqrt{x}$"
   ]
  },
  {
   "cell_type": "code",
<<<<<<< HEAD
   "execution_count": 6,
=======
   "execution_count": 4,
>>>>>>> upstream/main
   "metadata": {},
   "outputs": [
    {
     "name": "stdout",
     "output_type": "stream",
     "text": [
      "0.0\n",
      "2.718281828459045\n",
      "0.8414709848078965\n",
      "0.5403023058681398\n",
      "1.0\n"
     ]
    }
   ],
   "source": [
    "# log(x) computes the logarithm with base \"e\" (Euler constant)\n",
    "# exp(x) compute the Euler constant raised to the power of \"x\"\n",
    "# sing(x) computes the sine of x\n",
    "# cos(x) computes the cosine of x\n",
    "# In this example, we're substituting x = 1\n",
    "\n",
    "print(np.log(1))\n",
    "print(np.exp(1))\n",
    "print(np.sin(1))\n",
    "print(np.cos(1))\n",
    "print(np.sqrt(1))"
   ]
  },
  {
   "attachments": {},
   "cell_type": "markdown",
   "metadata": {},
   "source": [
    "<font size = \"5\">\n",
    "\n",
    "Try it yourself!\n",
    "\n",
    "- Create a new variable, $x = 5$\n",
    "- Compute $\\pi x^2$\n",
    "- Compute $ \\frac{1}{\\sqrt{2\\pi}}e^{-x^2} $"
   ]
  },
  {
   "cell_type": "code",
<<<<<<< HEAD
   "execution_count": 57,
=======
   "execution_count": 5,
>>>>>>> upstream/main
   "metadata": {},
   "outputs": [
    {
     "name": "stdout",
     "output_type": "stream",
     "text": [
      "[[  3.14159265  12.56637061  28.27433388]\n",
      " [ 50.26548246  78.53981634 113.09733553]\n",
      " [153.93804003 201.06192983 254.46900494]]\n",
      "[[1.46762663e-01 7.30688275e-03 4.92333887e-05]\n",
      " [4.48950392e-08 5.54048800e-12 9.25355727e-17]\n",
      " [2.09160876e-22 6.39827974e-29 2.64884796e-36]]\n"
     ]
    }
   ],
   "source": [
    "# Include your answer here:\n",
    "\n",
    "x = 5\n",
    "\n",
    "print((np.pi)*X**2)\n",
    "print((1/(2*np.pi)**0.5)*np.exp(-(X**2)))\n",
    "\n",
    "\n"
   ]
  },
  {
   "attachments": {},
   "cell_type": "markdown",
   "metadata": {},
   "source": [
    "##  <span style=\"color:darkblue\"> III. Vector Arrays </span>"
   ]
  },
  {
   "attachments": {},
   "cell_type": "markdown",
   "metadata": {},
   "source": [
    "<font size = \"5\">\n",
    "Create an array from a list\n",
    "\n",
    "$ \\text{ }$\n",
    "$ a = \\begin{pmatrix} 1 \\\\ 2 \\\\ 3 \\end{pmatrix}\n",
    "\\qquad b = \\begin{pmatrix} 0 \\\\ 1 \\\\ 0\\end{pmatrix}\n",
    "\\qquad c = \\begin{pmatrix} 10 \\\\ 100 \\\\ 1000 \\\\ 2000 \\\\ 5000 \\end{pmatrix} \n",
    "\\qquad d = \\begin{pmatrix} 4 \\\\ 2 \\end{pmatrix} $"
   ]
  },
  {
   "cell_type": "code",
<<<<<<< HEAD
   "execution_count": 8,
=======
   "execution_count": 7,
>>>>>>> upstream/main
   "metadata": {},
   "outputs": [],
   "source": [
    "# You create an array by converting a list [1,2,3] to a numeric object\n",
    "# \"array\" is a subfunction of the library numPy.\n",
    "\n",
    "vec_a  = np.array([1,2,3])\n",
    "vec_b  = np.array([0,1,0])\n",
    "vec_c  = np.array([10,100,1000,2000,5000])\n",
    "\n"
   ]
  },
  {
   "cell_type": "code",
   "execution_count": 9,
   "metadata": {},
   "outputs": [],
   "source": [
    "vec_d  = np.array([4,2])\n",
    "\n",
    "#parenthasis to signify argument and brackets to signify array"
   ]
  },
  {
   "attachments": {},
   "cell_type": "markdown",
   "metadata": {},
   "source": [
    "<font size = \"5\">\n",
    "\n",
    "Accessing an element of an array"
   ]
  },
  {
   "cell_type": "code",
<<<<<<< HEAD
   "execution_count": 10,
=======
   "execution_count": 8,
>>>>>>> upstream/main
   "metadata": {},
   "outputs": [
    {
     "name": "stdout",
     "output_type": "stream",
     "text": [
      "1\n",
      "3\n"
     ]
    }
   ],
   "source": [
    "# Arrays, like lists, start their numbering at zero.\n",
    "# You also access them with square brackets\n",
    "\n",
    "print(vec_a[0])\n",
    "print(vec_a[2])\n"
   ]
  },
  {
   "attachments": {},
   "cell_type": "markdown",
   "metadata": {},
   "source": [
    "<font size = \"5\">\n",
    "Operations with a single array and a scalar"
   ]
  },
  {
   "attachments": {},
   "cell_type": "markdown",
   "metadata": {},
   "source": [
    "<font size = \"5\">\n",
    "\n",
    "$ a + 2 = \\begin{pmatrix} a_1 + 2 \\\\ a_2 + 2 \\\\ a_3 + 2 \\end{pmatrix}$"
   ]
  },
  {
   "cell_type": "code",
<<<<<<< HEAD
   "execution_count": 12,
=======
   "execution_count": 9,
>>>>>>> upstream/main
   "metadata": {},
   "outputs": [
    {
     "name": "stdout",
     "output_type": "stream",
     "text": [
      "[2 4 6]\n",
      "[0.5 1.  1.5]\n",
      "[3 4 5]\n",
      "[1 4 9]\n"
     ]
    }
   ],
   "source": [
    "# A scalar refers to either an int or float\n",
    "# We can do many common operations with \n",
    "\n",
    "print(vec_a * 2)\n",
    "print(vec_a / 2)\n",
    "print(vec_a + 2)\n",
    "print(vec_a ** 2)"
   ]
  },
  {
   "attachments": {},
   "cell_type": "markdown",
   "metadata": {},
   "source": [
    "<font size = \"5\">\n",
    "Element-by-element addition between two arrays of the same size\n",
    "\n",
    "$\\text{ }$\n",
    "\n",
    "$ a + b = \\begin{pmatrix} a_1 \\\\ a_2 \\\\ a_3 \\end{pmatrix} +\n",
    "          \\begin{pmatrix} b_1 \\\\ b_2 \\\\ b_3 \\end{pmatrix} =\n",
    "          \\begin{pmatrix} a_1 + b_1 \\\\ a_2 + b_2 \\\\ a_3 + b_3 \\end{pmatrix}$"
   ]
  },
  {
   "cell_type": "code",
<<<<<<< HEAD
   "execution_count": 13,
=======
   "execution_count": 10,
>>>>>>> upstream/main
   "metadata": {},
   "outputs": [
    {
     "name": "stdout",
     "output_type": "stream",
     "text": [
      "[1 3 3]\n"
     ]
    }
   ],
   "source": [
    "# When you add two arrays of the same size,\n",
    "# Python adds the individual elements in each position\n",
    "\n",
    "print(vec_a + vec_b)\n"
   ]
  },
  {
   "attachments": {},
   "cell_type": "markdown",
   "metadata": {},
   "source": [
    "<font size =\"5\">\n",
    "\n",
    "The default multiplication option is element-by element:\n",
    "\n",
    "$ a * b = \\begin{pmatrix} a_1 * b_1 \\\\ a_2 * b_2 \\\\ a_3 * b_3 \\end{pmatrix}$"
   ]
  },
  {
   "cell_type": "code",
<<<<<<< HEAD
   "execution_count": 14,
=======
   "execution_count": 11,
>>>>>>> upstream/main
   "metadata": {},
   "outputs": [
    {
     "name": "stdout",
     "output_type": "stream",
     "text": [
      "[0 2 0]\n",
      "[1 1 3]\n",
      "[inf  2. inf]\n"
     ]
    },
    {
     "name": "stderr",
     "output_type": "stream",
     "text": [
<<<<<<< HEAD
      "/var/folders/3_/1g3y3f694h9c708zyc8p2lph0000gn/T/ipykernel_18512/3839639845.py:6: RuntimeWarning: divide by zero encountered in divide\n",
=======
      "/var/folders/1b/jzb9ndz97b5260fzr9d8kzyh5f7xd6/T/ipykernel_59016/3839639845.py:6: RuntimeWarning: divide by zero encountered in true_divide\n",
>>>>>>> upstream/main
      "  print(vec_a / vec_b)\n"
     ]
    }
   ],
   "source": [
    "# We can do other similar element-by-element operations\n",
    "# such as multiplication, subtraction, and division.\n",
    "\n",
    "print(vec_a * vec_b)\n",
    "print(vec_a - vec_b)\n",
    "print(vec_a / vec_b)\n"
   ]
  },
  {
   "attachments": {},
   "cell_type": "markdown",
   "metadata": {},
   "source": [
    "<font size = \"5\">\n",
    "Summary statistics of an array"
   ]
  },
  {
   "cell_type": "code",
<<<<<<< HEAD
   "execution_count": 15,
=======
   "execution_count": 12,
>>>>>>> upstream/main
   "metadata": {},
   "outputs": [
    {
     "name": "stdout",
     "output_type": "stream",
     "text": [
      "2.0\n",
      "0.816496580927726\n",
      "1\n",
      "2.0\n",
      "3\n"
     ]
    }
   ],
   "source": [
    "# The function np.mean() computes the mean of an array\n",
    "# We can do similar operations for the standard deviation (std),\n",
    "# the minimum (min), the median (median), and the maximum (max).\n",
    "\n",
    "print(np.mean(vec_a))\n",
    "print(np.std(vec_a))\n",
    "print(np.min(vec_a))\n",
    "print(np.median(vec_a))\n",
    "print(np.max(vec_a))"
   ]
  },
  {
   "attachments": {},
   "cell_type": "markdown",
   "metadata": {},
   "source": [
    "<font size = \"5\">\n",
    "\n",
    "Try it yourself! Compute the mean of\n",
    "\n",
    "\n",
    "$ e = \\begin{pmatrix} 10 \\\\ 8 \\\\ 15 \\\\ 0 \\\\ 24 \\end{pmatrix} $"
   ]
  },
  {
   "cell_type": "code",
   "execution_count": 18,
   "metadata": {},
   "outputs": [
    {
     "name": "stdout",
     "output_type": "stream",
     "text": [
      "11.4\n"
     ]
    },
    {
     "data": {
      "text/plain": [
       "11.4"
      ]
     },
     "execution_count": 18,
     "metadata": {},
     "output_type": "execute_result"
    }
   ],
   "source": [
    "# Create your own array and compute any of the above summary statistics\n",
    "\n",
    "vec_e = np.array([10,8,15,0,24])\n",
    "print(np.mean(vec_e))\n",
    "vec_e.mean()\n",
    "\n",
    "\n"
   ]
  },
  {
   "attachments": {},
   "cell_type": "markdown",
   "metadata": {},
   "source": [
    "<font size = \"5\">\n",
    "<span style=\"color:red\"> Common Pitfall </span>: Make sure that the arrays have the same size"
   ]
  },
  {
   "cell_type": "code",
<<<<<<< HEAD
   "execution_count": 19,
=======
   "execution_count": 14,
>>>>>>> upstream/main
   "metadata": {},
   "outputs": [
    {
     "ename": "ValueError",
     "evalue": "operands could not be broadcast together with shapes (3,) (5,) ",
     "output_type": "error",
     "traceback": [
      "\u001b[0;31m---------------------------------------------------------------------------\u001b[0m",
      "\u001b[0;31mValueError\u001b[0m                                Traceback (most recent call last)",
<<<<<<< HEAD
      "Cell \u001b[0;32mIn[19], line 3\u001b[0m\n\u001b[1;32m      1\u001b[0m \u001b[39m# Here I try to combine two arrays of different size.\u001b[39;00m\n\u001b[0;32m----> 3\u001b[0m vec_a \u001b[39m+\u001b[39;49m vec_c\n",
=======
      "Cell \u001b[0;32mIn[14], line 3\u001b[0m\n\u001b[1;32m      1\u001b[0m \u001b[39m# Here I try to combine two arrays of different size.\u001b[39;00m\n\u001b[0;32m----> 3\u001b[0m vec_a \u001b[39m+\u001b[39;49m vec_c\n",
>>>>>>> upstream/main
      "\u001b[0;31mValueError\u001b[0m: operands could not be broadcast together with shapes (3,) (5,) "
     ]
    }
   ],
   "source": [
    "# Here I try to combine two arrays of different size.\n",
    "\n",
    "vec_a + vec_c"
   ]
  },
  {
   "attachments": {},
   "cell_type": "markdown",
   "metadata": {},
   "source": [
    "##  <span style=\"color:darkblue\"> IV. Random Numbers </span>\n",
    "\n",
    "<font size = \"5\">\n",
    "\n",
    "Why randomness?\n",
    "\n",
    "- Simulate different scenarios: high risk or low risk\n",
    "- Study properties of a complex system and/or estimator\n",
    "- In medicine, randomly assign subjects to treatment or control"
   ]
  },
  {
   "attachments": {},
   "cell_type": "markdown",
   "metadata": {},
   "source": [
    "<font size = \"5\">\n",
    "\n",
    "Create a vector of random variables"
   ]
  },
  {
   "cell_type": "code",
<<<<<<< HEAD
   "execution_count": 35,
=======
   "execution_count": 15,
>>>>>>> upstream/main
   "metadata": {},
   "outputs": [
    {
     "name": "stdout",
     "output_type": "stream",
     "text": [
<<<<<<< HEAD
      "[ 2.04942205  0.34652238 -0.67920056 -0.51375156 -2.53789227 -1.67314652\n",
      " -0.41089413 -1.98403201  0.66445592 -1.03945836]\n"
=======
      "[-0.64265744 -1.24067156 -1.03884266  0.0069859  -0.03245425  0.31636014\n",
      " -0.68259118  1.11243663  1.42242021  0.24775057]\n"
>>>>>>> upstream/main
     ]
    }
   ],
   "source": [
    "# This code creates a vector of random variables \n",
    "# generated from a normal distribution with\n",
    "# mean \"loc\" (location) and standard deviation \"scale\"\n",
    "# the number of distinct variabels is \"size\"\n",
    "\n",
    "\n",
    "randomvar_a = np.random.normal(loc=0, scale=1, size=10)\n",
    "print(randomvar_a)"
   ]
  },
  {
   "attachments": {},
   "cell_type": "markdown",
   "metadata": {},
   "source": [
    "<font size = \"5\">\n",
    "\n",
    "Random numbers differ every time!\n",
    "\n",
    "- Avoid this problem by drawing from a \"pregenerated\" set.\n",
    "- This is called a seed"
   ]
  },
  {
   "cell_type": "code",
<<<<<<< HEAD
   "execution_count": 45,
=======
   "execution_count": 16,
>>>>>>> upstream/main
   "metadata": {},
   "outputs": [
    {
     "name": "stdout",
     "output_type": "stream",
     "text": [
      "[-0.20470766  0.47894334 -0.51943872 -0.5557303   1.96578057  1.39340583\n",
      "  0.09290788  0.28174615  0.76902257  1.24643474]\n"
     ]
    }
   ],
   "source": [
    "# Your computer will typically generate different numbers every time you run a command\n",
    "# However, sometimes you want to be able to replicate the results\n",
    "# You can choose any other number instead of \"12345\". This will produce another set\n",
    "# of random numbers, but they will give the same answers\n",
    "# each seed gives a different set of random numbers\n",
    "\n",
    "np.random.seed(12345)\n",
    "\n",
    "random_var_b = np.random.normal(loc=0, scale=1, size=10)\n",
    "print(random_var_b)"
   ]
  },
  {
   "attachments": {},
   "cell_type": "markdown",
   "metadata": {},
   "source": [
    "<font size = \"5\">\n",
    "\n",
    "Compute a histogram with the results"
   ]
  },
  {
   "cell_type": "code",
<<<<<<< HEAD
   "execution_count": 55,
=======
   "execution_count": 22,
>>>>>>> upstream/main
   "metadata": {},
   "outputs": [
    {
     "data": {
      "text/plain": [
       "Text(0, 0.5, 'Frequency')"
      ]
     },
<<<<<<< HEAD
     "execution_count": 55,
=======
     "execution_count": 22,
>>>>>>> upstream/main
     "metadata": {},
     "output_type": "execute_result"
    },
    {
     "data": {
<<<<<<< HEAD
      "image/png": "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",
=======
      "image/png": "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",
>>>>>>> upstream/main
      "text/plain": [
       "<Figure size 640x480 with 1 Axes>"
      ]
     },
     "metadata": {},
     "output_type": "display_data"
    }
   ],
   "source": [
    "# Compute a histogram\n",
    "# You can edit the number of bins with plt.hist(x = randomvar_a)\n",
    "\n",
    "randomvar_x = np.random.normal(loc=0, scale=1, size=10000)\n",
    "\n",
    "plt.hist(x = randomvar_x)\n",
    "plt.xlabel(\"Variable a\")\n",
    "plt.ylabel(\"Frequency\")"
   ]
  },
  {
   "attachments": {},
   "cell_type": "markdown",
   "metadata": {},
   "source": [
    "<font size = \"5\">\n",
    "\n",
    "Try this again with $size = 100, 1000, 10000$"
   ]
  },
  {
   "cell_type": "code",
   "execution_count": 17,
   "metadata": {},
   "outputs": [],
   "source": [
    "# Write the code for your histogram\n",
    "\n",
    "\n",
    "\n"
   ]
  },
  {
   "attachments": {},
   "cell_type": "markdown",
   "metadata": {},
   "source": [
    "# <span style=\"color:darkblue\"> Additional Resources </span>\n",
    "\n",
    "<font size=\"5\"> \n",
    "\n",
    "Check out additional examples at:\n",
    "\n",
    "- https://allendowney.github.io/ElementsOfDataScience/03_arrays.html\n",
    "\n",
    "\n"
   ]
  },
  {
   "attachments": {},
   "cell_type": "markdown",
   "metadata": {},
   "source": [
    "# <span style=\"color:darkblue\"> (Optional) Matrix Operations </span>\n",
    "\n",
    "<font size=\"5\"> \n"
   ]
  },
  {
   "attachments": {},
   "cell_type": "markdown",
   "metadata": {},
   "source": [
    "<font size = \"5\">\n",
    "Creating a matrix by stacking different rows\n",
    "\n",
    "$ \\text{ }$\n",
    "\n",
    "$ X = \\begin{pmatrix} 1 & 2 & 3 \\\\ \n",
<<<<<<< HEAD
    "                       4 & 5 & 6 \\\\\n",
    "                       0 & 8 & 9\n",
=======
    "                       0 & 4 & 5 \\\\\n",
    "                       0 & 0 & 6\n",
>>>>>>> upstream/main
    "                       \\end{pmatrix} $"
   ]
  },
  {
   "cell_type": "code",
<<<<<<< HEAD
   "execution_count": 63,
=======
   "execution_count": 13,
>>>>>>> upstream/main
   "metadata": {},
   "outputs": [
    {
     "name": "stdout",
     "output_type": "stream",
     "text": [
      "[[1 2 3]\n",
<<<<<<< HEAD
      " [4 5 6]\n",
      " [0 8 9]]\n"
=======
      " [0 4 5]\n",
      " [0 0 6]]\n"
>>>>>>> upstream/main
     ]
    }
   ],
   "source": [
    "# Matrices are usually denoted by capital letters\n",
    "# The object [[1,2,3],[4,5,6],[7,8,9]] is a list of lists\n",
    "# It's useful to maintain this notation in the code as well\n",
    "\n",
<<<<<<< HEAD
    "X = np.array([[1,2,3],[4,5,6],[0,8,9]])\n",
=======
    "X = np.array([[1,2,3],[0,4,5],[0,0,6]])\n",
>>>>>>> upstream/main
    "print(X)"
   ]
  },
  {
   "attachments": {},
   "cell_type": "markdown",
   "metadata": {},
   "source": [
    "<font size = \"5\">\n",
    "Creating a matrix by stacking different columns\n",
    "\n",
    "$ \\text{ } $\n",
    "\n",
    "$ Y = \\begin{pmatrix} 1 & 2 \\\\ 0 & 1 \\\\ 1 & 0 \\end{pmatrix}$"
   ]
  },
  {
   "cell_type": "code",
<<<<<<< HEAD
   "execution_count": 59,
=======
   "execution_count": 14,
>>>>>>> upstream/main
   "metadata": {},
   "outputs": [
    {
     "name": "stdout",
     "output_type": "stream",
     "text": [
      "[[1 2]\n",
      " [0 1]\n",
      " [1 0]]\n"
     ]
    }
   ],
   "source": [
    "# You can also stack columns\n",
    "Y =  np.column_stack([[1,0,1],[2,1,0]])\n",
    "print(Y)"
   ]
  },
  {
   "attachments": {},
   "cell_type": "markdown",
   "metadata": {},
   "source": [
    "<font size = \"5\">\n",
    "Transpose\n",
    "\n",
    "$ \\text{ }$\n",
    "\n",
    "$ Y' = \\begin{pmatrix}  1 & 0 & 1 \\\\ 2 & 1 & 0  \\end{pmatrix} $"
   ]
  },
  {
   "cell_type": "code",
<<<<<<< HEAD
   "execution_count": 60,
=======
   "execution_count": 15,
>>>>>>> upstream/main
   "metadata": {},
   "outputs": [
    {
     "data": {
      "text/plain": [
       "array([[1, 0, 1],\n",
       "       [2, 1, 0]])"
      ]
     },
<<<<<<< HEAD
     "execution_count": 60,
=======
     "execution_count": 15,
>>>>>>> upstream/main
     "metadata": {},
     "output_type": "execute_result"
    }
   ],
   "source": [
    "# Matrix Transpose\n",
    "np.matrix.transpose(Y)"
   ]
  },
  {
   "attachments": {},
   "cell_type": "markdown",
   "metadata": {},
   "source": [
    "<font size = \"5\">\n",
    "\n",
    "Matrix multiplication\n",
    "\n",
    "$ XY = \\begin{pmatrix} 1 & 2 & 3 \\\\ \n",
    "                       0 & 4 & 5 \\\\\n",
    "                       0 & 0 & 6\n",
    "                       \\end{pmatrix}\n",
    "                       \\begin{pmatrix} 1 & 2 \\\\ 0 & 1 \\\\ 1 & 0 \\end{pmatrix} = \n",
    "        \\begin{pmatrix} 4 & 4 \\\\ 5 & 4 \\\\ 6 & 0 \\end{pmatrix} $"
   ]
  },
  {
   "cell_type": "code",
<<<<<<< HEAD
   "execution_count": 61,
=======
   "execution_count": 34,
>>>>>>> upstream/main
   "metadata": {},
   "outputs": [
    {
     "data": {
      "text/plain": [
<<<<<<< HEAD
       "array([[ 4,  4],\n",
       "       [10, 13],\n",
       "       [16, 22]])"
      ]
     },
     "execution_count": 61,
=======
       "array([[4, 4],\n",
       "       [5, 4],\n",
       "       [6, 0]])"
      ]
     },
     "execution_count": 34,
>>>>>>> upstream/main
     "metadata": {},
     "output_type": "execute_result"
    }
   ],
   "source": [
    "# Matrix Multiplication\n",
    "\n",
    "np.dot(X,Y)\n",
    "\n",
    "np.matmul(X,Y)"
   ]
  },
  {
   "attachments": {},
   "cell_type": "markdown",
   "metadata": {},
   "source": [
    "<font size = \"5\">\n",
    "\n",
    "Matrix inverse\n",
    "\n",
    "$ X^{-1} = \\begin{pmatrix} 1 & 2 & 3 \\\\ \n",
    "                       0 & 4 & 5 \\\\\n",
    "                       0 & 0 & 6\n",
    "                       \\end{pmatrix}^{-1} $"
   ]
  },
  {
   "cell_type": "code",
<<<<<<< HEAD
   "execution_count": 64,
=======
   "execution_count": 31,
>>>>>>> upstream/main
   "metadata": {},
   "outputs": [
    {
     "name": "stdout",
     "output_type": "stream",
     "text": [
<<<<<<< HEAD
      "[[-0.14285714  0.28571429 -0.14285714]\n",
      " [-1.71428571  0.42857143  0.28571429]\n",
      " [ 1.52380952 -0.38095238 -0.14285714]]\n"
=======
      "23.999999999999993\n",
      "[[ 1.         -0.5        -0.08333333]\n",
      " [ 0.          0.25       -0.20833333]\n",
      " [ 0.          0.          0.16666667]]\n",
      "[[ 1.00000000e+00  0.00000000e+00 -2.22044605e-16]\n",
      " [ 0.00000000e+00  1.00000000e+00  0.00000000e+00]\n",
      " [ 0.00000000e+00  0.00000000e+00  1.00000000e+00]]\n"
>>>>>>> upstream/main
     ]
    }
   ],
   "source": [
    "# Check the determinant of a matrix (a matrix is invertible if the determinant is not zero)\n",
    "print(np.linalg.det(X))\n",
    "\n",
    "# Matrix inverse\n",
    "# The following command stands for linear algebrar inverse.\n",
    "X_inv = np.linalg.inv(X)\n",
    "\n",
    "# Output the result\n",
    "print(X_inv)\n"
   ]
  },
  {
   "attachments": {},
   "cell_type": "markdown",
   "metadata": {},
   "source": [
    "<font size = \"5\">\n",
    "\n",
    "Try it yourself! Check that this is indeed an inverse:\n",
    "\n",
    "$X X_{inv} = \\begin{pmatrix} 1 & 0 & 0 \\\\ 0 & 1 & 0 \\\\ 0 & 0 & 1 \\end{pmatrix}$"
   ]
  },
  {
   "cell_type": "code",
<<<<<<< HEAD
   "execution_count": 65,
   "metadata": {},
   "outputs": [
    {
     "data": {
      "text/plain": [
       "array([[1.00000000e+00, 0.00000000e+00, 5.55111512e-17],\n",
       "       [0.00000000e+00, 1.00000000e+00, 1.11022302e-16],\n",
       "       [0.00000000e+00, 0.00000000e+00, 1.00000000e+00]])"
      ]
     },
     "execution_count": 65,
     "metadata": {},
     "output_type": "execute_result"
=======
   "execution_count": 32,
   "metadata": {},
   "outputs": [
    {
     "name": "stdout",
     "output_type": "stream",
     "text": [
      "[[ 1.00000000e+00  0.00000000e+00 -2.22044605e-16]\n",
      " [ 0.00000000e+00  1.00000000e+00  0.00000000e+00]\n",
      " [ 0.00000000e+00  0.00000000e+00  1.00000000e+00]]\n"
     ]
>>>>>>> upstream/main
    }
   ],
   "source": [
    "# Multiply \"X\" times \"X_inv\" using the command shown above\n",
<<<<<<< HEAD
    "np.matmul(X, X_inv)\n",
    "\n",
=======
    "# Note: Sometimes the result is shown in scientific notation.\n",
>>>>>>> upstream/main
    "\n",
    "\n",
    "\n"
   ]
  }
 ],
 "metadata": {
  "kernelspec": {
   "display_name": "base",
   "language": "python",
   "name": "python3"
  },
  "language_info": {
   "codemirror_mode": {
    "name": "ipython",
    "version": 3
   },
   "file_extension": ".py",
   "mimetype": "text/x-python",
   "name": "python",
   "nbconvert_exporter": "python",
   "pygments_lexer": "ipython3",
   "version": "3.9.13 (main, Aug 25 2022, 18:29:29) \n[Clang 12.0.0 ]"
  },
  "orig_nbformat": 4,
  "vscode": {
   "interpreter": {
    "hash": "45fc1f684f6f416f40889115beff3ddf69879b64cf4bfee48cb72a61e9d15d1a"
   }
  }
 },
 "nbformat": 4,
 "nbformat_minor": 2
}
